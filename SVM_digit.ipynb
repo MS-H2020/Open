{
  "nbformat": 4,
  "nbformat_minor": 0,
  "metadata": {
    "colab": {
      "provenance": [],
      "authorship_tag": "ABX9TyOqguT6RiBLvrkyO79aUoP6",
      "include_colab_link": true
    },
    "kernelspec": {
      "name": "python3",
      "display_name": "Python 3"
    },
    "language_info": {
      "name": "python"
    }
  },
  "cells": [
    {
      "cell_type": "markdown",
      "metadata": {
        "id": "view-in-github",
        "colab_type": "text"
      },
      "source": [
        "<a href=\"https://colab.research.google.com/github/MS-H2020/Open/blob/main/SVM_digit.ipynb\" target=\"_parent\"><img src=\"https://colab.research.google.com/assets/colab-badge.svg\" alt=\"Open In Colab\"/></a>"
      ]
    },
    {
      "cell_type": "markdown",
      "source": [
        "# Test Digit data from mnist (SVM)"
      ],
      "metadata": {
        "id": "67wiYx7lyK28"
      }
    },
    {
      "cell_type": "markdown",
      "source": [
        "## Linear SVC"
      ],
      "metadata": {
        "id": "_OcJdZg3yT8I"
      }
    },
    {
      "cell_type": "code",
      "execution_count": 8,
      "metadata": {
        "colab": {
          "base_uri": "https://localhost:8080/"
        },
        "id": "I3GALqy8vGiR",
        "outputId": "464aef7f-2963-4c0a-c7a1-cfc9443524ec"
      },
      "outputs": [
        {
          "output_type": "stream",
          "name": "stdout",
          "text": [
            "Accuracy;\n",
            "0.95\n",
            "CPU times: user 138 ms, sys: 837 µs, total: 139 ms\n",
            "Wall time: 142 ms\n"
          ]
        }
      ],
      "source": [
        "%%time\n",
        "import numpy as np\n",
        "from sklearn import datasets\n",
        "\n",
        "digits = datasets.load_digits()\n",
        "\n",
        "images = digits.images\n",
        "labels = digits.target\n",
        "\n",
        "images = images.reshape(images.shape[0],-1)\n",
        "from sklearn.model_selection import train_test_split\n",
        "train_x, valid_x, train_y, valid_y = train_test_split(images, labels, test_size=0.2)\n",
        "from sklearn import svm, metrics\n",
        "clf = svm.LinearSVC()\n",
        "clf.fit(train_x, train_y)\n",
        "\n",
        "predicted = clf.predict(valid_x)\n",
        "\n",
        "print(\"Accuracy;\\n%s\" % metrics.accuracy_score(valid_y, predicted))"
      ]
    }
  ]
}