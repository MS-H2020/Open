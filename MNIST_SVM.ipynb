{
  "nbformat": 4,
  "nbformat_minor": 0,
  "metadata": {
    "colab": {
      "provenance": [],
      "include_colab_link": true
    },
    "kernelspec": {
      "name": "python3",
      "display_name": "Python 3"
    },
    "language_info": {
      "name": "python"
    }
  },
  "cells": [
    {
      "cell_type": "markdown",
      "metadata": {
        "id": "view-in-github",
        "colab_type": "text"
      },
      "source": [
        "<a href=\"https://colab.research.google.com/github/MS-H2020/Open/blob/main/MNIST_SVM.ipynb\" target=\"_parent\"><img src=\"https://colab.research.google.com/assets/colab-badge.svg\" alt=\"Open In Colab\"/></a>"
      ]
    },
    {
      "cell_type": "markdown",
      "source": [
        "# Test Digit data from mnist (SVM)"
      ],
      "metadata": {
        "id": "67wiYx7lyK28"
      }
    },
    {
      "cell_type": "markdown",
      "source": [
        "## Linear SVC"
      ],
      "metadata": {
        "id": "_OcJdZg3yT8I"
      }
    },
    {
      "cell_type": "code",
      "execution_count": null,
      "metadata": {
        "colab": {
          "base_uri": "https://localhost:8080/"
        },
        "id": "I3GALqy8vGiR",
        "outputId": "c0bf0596-57a2-41eb-ac74-81a9da121276"
      },
      "outputs": [
        {
          "output_type": "stream",
          "name": "stdout",
          "text": [
            "Accuracy;\n",
            "0.9472222222222222\n",
            "CPU times: user 133 ms, sys: 0 ns, total: 133 ms\n",
            "Wall time: 132 ms\n"
          ]
        }
      ],
      "source": [
        "%%time\n",
        "import numpy as np\n",
        "from sklearn import datasets\n",
        "\n",
        "digits = datasets.load_digits()\n",
        "\n",
        "images = digits.images\n",
        "labels = digits.target\n",
        "\n",
        "images = images.reshape(images.shape[0],-1)\n",
        "\n",
        "from sklearn.model_selection import train_test_split\n",
        "train_x, valid_x, train_y, valid_y = train_test_split(images, labels, test_size=0.2)\n",
        "\n",
        "from sklearn import svm, metrics\n",
        "\n",
        "clf = svm.LinearSVC()\n",
        "clf.fit(train_x, train_y)\n",
        "predicted = clf.predict(valid_x)\n",
        "\n",
        "print(\"Accuracy;\\n%s\" % metrics.accuracy_score(valid_y, predicted))"
      ]
    },
    {
      "cell_type": "code",
      "source": [
        "%%time\n",
        "import numpy as np\n",
        "from sklearn import datasets\n",
        "\n",
        "digits = datasets.load_digits()\n",
        "\n",
        "images = digits.images\n",
        "labels = digits.target\n",
        "\n",
        "images = images.reshape(images.shape[0],-1)\n",
        "\n",
        "from sklearn.model_selection import train_test_split\n",
        "train_x, valid_x, train_y, valid_y = train_test_split(images, labels, test_size=0.2)\n",
        "\n",
        "from sklearn import svm, metrics\n",
        "from sklearn import model_selection\n",
        "\n",
        "param_grid = {\n",
        "   'C': [1, 10, 100],\n",
        "   'loss': ['hinge', 'squared_hinge']\n",
        "   }\n",
        "\n",
        "clf = model_selection.GridSearchCV(svm.LinearSVC(), param_grid)\n",
        "clf.fit(train_x, train_y)\n",
        "predicted = clf.predict(valid_x)\n",
        "\n",
        "print(\"Accuracy;\\n%s\" % metrics.accuracy_score(valid_y, predicted))"
      ],
      "metadata": {
        "colab": {
          "base_uri": "https://localhost:8080/"
        },
        "id": "D92_NDNr1Z-l",
        "outputId": "ba9af438-cd53-4809-e408-dd62de50ab9d"
      },
      "execution_count": null,
      "outputs": [
        {
          "output_type": "stream",
          "name": "stdout",
          "text": [
            "Accuracy;\n",
            "0.925\n",
            "CPU times: user 3.58 s, sys: 9.54 ms, total: 3.59 s\n",
            "Wall time: 3.62 s\n"
          ]
        }
      ]
    }
  ]
}