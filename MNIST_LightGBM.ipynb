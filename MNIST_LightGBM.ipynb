{
  "nbformat": 4,
  "nbformat_minor": 0,
  "metadata": {
    "colab": {
      "provenance": [],
      "authorship_tag": "ABX9TyP6zhYp2u2McXcrbkEaDH4U",
      "include_colab_link": true
    },
    "kernelspec": {
      "name": "python3",
      "display_name": "Python 3"
    },
    "language_info": {
      "name": "python"
    }
  },
  "cells": [
    {
      "cell_type": "markdown",
      "metadata": {
        "id": "view-in-github",
        "colab_type": "text"
      },
      "source": [
        "<a href=\"https://colab.research.google.com/github/MS-H2020/Open/blob/main/MNIST_LightGBM.ipynb\" target=\"_parent\"><img src=\"https://colab.research.google.com/assets/colab-badge.svg\" alt=\"Open In Colab\"/></a>"
      ]
    },
    {
      "cell_type": "code",
      "execution_count": null,
      "metadata": {
        "id": "JmnzB02EQhyF"
      },
      "outputs": [],
      "source": [
        "import numpy as np\n",
        "import pandas as pd\n",
        "import matplotlib.pyplot as plt"
      ]
    },
    {
      "cell_type": "code",
      "source": [
        "from sklearn import datasets"
      ],
      "metadata": {
        "id": "SBLcNrPkQpPO"
      },
      "execution_count": null,
      "outputs": []
    },
    {
      "cell_type": "code",
      "source": [
        "digits = datasets.load_digits()"
      ],
      "metadata": {
        "id": "hTZhd7WUQ6RS"
      },
      "execution_count": null,
      "outputs": []
    },
    {
      "cell_type": "code",
      "source": [
        "# flatten the images\n",
        "n_samples = len(digits.images)\n",
        "data = digits.images.reshape((n_samples, -1))"
      ],
      "metadata": {
        "id": "oQjJ8UFnQ-uK"
      },
      "execution_count": null,
      "outputs": []
    },
    {
      "cell_type": "code",
      "source": [
        "from sklearn.model_selection import train_test_split\n",
        "# Split data into 50% train and 50% test subsets\n",
        "X_train, X_test, y_train, y_test = train_test_split(\n",
        "    data, digits.target, test_size=0.3, shuffle=False\n",
        ")"
      ],
      "metadata": {
        "id": "Nurltbg6RXEE"
      },
      "execution_count": null,
      "outputs": []
    },
    {
      "cell_type": "code",
      "source": [
        "import lightgbm as lgb\n",
        "\n",
        "print ('Training lightgbm')\n",
        "\n",
        "lgtrain = lgb.Dataset(X_train, y_train)\n",
        "lgval = lgb.Dataset(X_test, y_test)\n",
        "\n",
        "# params multiclass\n",
        "params = {\n",
        "          \"objective\" : \"multiclass\",\n",
        "          \"max_depth\": -1,\n",
        "          \"num_class\":10,\n",
        "          \"learning_rate\" : 0.0001,\n",
        "          \"verbosity\" : 1 }\n",
        "\n",
        "verbose_eval = 0\n",
        "model = lgb.train(params, lgtrain, 500, valid_sets=[lgtrain, lgval],\n",
        "                   callbacks=[lgb.early_stopping(stopping_rounds=10,\n",
        "                              verbose=True), # early_stopping用コールバック関数\n",
        "                              lgb.log_evaluation(verbose_eval)]) # コマンドライン出力用コールバック関数)"
      ],
      "metadata": {
        "colab": {
          "base_uri": "https://localhost:8080/"
        },
        "id": "1AihnPhrTTgt",
        "outputId": "76c270a5-8947-494b-b4a8-cc3685a4c2f2"
      },
      "execution_count": 28,
      "outputs": [
        {
          "output_type": "stream",
          "name": "stdout",
          "text": [
            "Training lightgbm\n",
            "[LightGBM] [Info] Auto-choosing col-wise multi-threading, the overhead of testing was 0.081996 seconds.\n",
            "You can set `force_col_wise=true` to remove the overhead.\n",
            "[LightGBM] [Info] Total Bins 831\n",
            "[LightGBM] [Info] Number of data points in the train set: 1257, number of used features: 53\n",
            "[LightGBM] [Info] Start training from score -2.308169\n",
            "[LightGBM] [Info] Start training from score -2.276671\n",
            "[LightGBM] [Info] Start training from score -2.316202\n",
            "[LightGBM] [Info] Start training from score -2.268949\n",
            "[LightGBM] [Info] Start training from score -2.316202\n",
            "[LightGBM] [Info] Start training from score -2.300201\n",
            "[LightGBM] [Info] Start training from score -2.292296\n",
            "[LightGBM] [Info] Start training from score -2.308169\n",
            "[LightGBM] [Info] Start training from score -2.332462\n",
            "[LightGBM] [Info] Start training from score -2.308169\n",
            "[LightGBM] [Warning] No further splits with positive gain, best gain: -inf\n",
            "[LightGBM] [Warning] No further splits with positive gain, best gain: -inf\n",
            "[LightGBM] [Warning] No further splits with positive gain, best gain: -inf\n",
            "[LightGBM] [Warning] No further splits with positive gain, best gain: -inf\n",
            "[LightGBM] [Warning] No further splits with positive gain, best gain: -inf\n",
            "[LightGBM] [Warning] No further splits with positive gain, best gain: -inf\n",
            "[LightGBM] [Warning] No further splits with positive gain, best gain: -inf\n",
            "[LightGBM] [Warning] No further splits with positive gain, best gain: -inf\n",
            "[LightGBM] [Warning] No further splits with positive gain, best gain: -inf\n",
            "[LightGBM] [Warning] No further splits with positive gain, best gain: -inf\n",
            "Training until validation scores don't improve for 10 rounds\n",
            "Did not meet early stopping. Best iteration is:\n",
            "[500]\ttraining's multi_logloss: 2.0002\tvalid_1's multi_logloss: 2.04847\n"
          ]
        }
      ]
    },
    {
      "cell_type": "code",
      "source": [
        "# predict results\n",
        "results = model.predict(X_test)\n",
        "# select the index's with the maximum probability\n",
        "results = np.argmax(results,axis = 1)\n",
        "results = pd.Series(results,name=\"Label\")"
      ],
      "metadata": {
        "id": "jCIorM2VdK76"
      },
      "execution_count": 29,
      "outputs": []
    }
  ]
}