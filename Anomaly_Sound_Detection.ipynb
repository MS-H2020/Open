{
  "nbformat": 4,
  "nbformat_minor": 0,
  "metadata": {
    "colab": {
      "provenance": [],
      "authorship_tag": "ABX9TyOngshE9qx7+njg9EEbXuam",
      "include_colab_link": true
    },
    "kernelspec": {
      "name": "python3",
      "display_name": "Python 3"
    },
    "language_info": {
      "name": "python"
    }
  },
  "cells": [
    {
      "cell_type": "markdown",
      "metadata": {
        "id": "view-in-github",
        "colab_type": "text"
      },
      "source": [
        "<a href=\"https://colab.research.google.com/github/MS-H2020/Open/blob/main/Anomaly_Sound_Detection.ipynb\" target=\"_parent\"><img src=\"https://colab.research.google.com/assets/colab-badge.svg\" alt=\"Open In Colab\"/></a>"
      ]
    },
    {
      "cell_type": "markdown",
      "source": [
        "#[機械稼働音の異常検知](https://signate.jp/competitions/358)"
      ],
      "metadata": {
        "id": "P_hsgoGPLdjq"
      }
    },
    {
      "cell_type": "code",
      "execution_count": 1,
      "metadata": {
        "colab": {
          "base_uri": "https://localhost:8080/"
        },
        "id": "PS_5GXB4LUUO",
        "outputId": "61b969ff-5868-4c63-9b0c-30e940989d5b"
      },
      "outputs": [
        {
          "output_type": "stream",
          "name": "stdout",
          "text": [
            "Drive already mounted at /content/drive; to attempt to forcibly remount, call drive.mount(\"/content/drive\", force_remount=True).\n"
          ]
        }
      ],
      "source": [
        "from google.colab import drive\n",
        "drive.mount('/content/drive')"
      ]
    },
    {
      "cell_type": "code",
      "source": [
        "checkpoint_path = \"./cp.ckpt\""
      ],
      "metadata": {
        "id": "AZ76W4olMo1T"
      },
      "execution_count": 2,
      "outputs": []
    },
    {
      "cell_type": "code",
      "source": [
        "!cp \"/content/drive/MyDrive/Invest_Anormaly_Machines_by_Sound/01_input.zip\" ."
      ],
      "metadata": {
        "id": "UBi03mQpMSt5"
      },
      "execution_count": 3,
      "outputs": []
    },
    {
      "cell_type": "code",
      "source": [
        "import shutil\n",
        "shutil.unpack_archive('/content/01_input.zip', '.')"
      ],
      "metadata": {
        "id": "K_Ox3kYwMvTu"
      },
      "execution_count": 4,
      "outputs": []
    },
    {
      "cell_type": "code",
      "source": [
        "from typing import Optional\n",
        "\n",
        "import numpy as np\n",
        "import pandas as pd\n",
        "import matplotlib.pyplot as plt\n",
        "\n",
        "import tensorflow\n",
        "from tensorflow import keras\n",
        "from tensorflow.keras import models, datasets, layers, applications, optimizers\n",
        "from tensorflow.keras.layers import Dense, Dropout, Flatten\n",
        "from tensorflow.keras.preprocessing.image import ImageDataGenerator"
      ],
      "metadata": {
        "id": "Gem97oRcc62T"
      },
      "execution_count": 5,
      "outputs": []
    },
    {
      "cell_type": "code",
      "source": [
        "from tensorflow.keras.preprocessing.image import ImageDataGenerator\n",
        "datagen = ImageDataGenerator(rescale=1./255, # 255で割ることで正規化\n",
        "                                   zoom_range=0.2, # ランダムにズーム\n",
        "                                   horizontal_flip = True, # 水平反転\n",
        "                                   height_shift_range=0.1,\n",
        "                                   validation_split = 0.2,\n",
        "                                  )"
      ],
      "metadata": {
        "id": "rwTGMoNLMyPF"
      },
      "execution_count": 6,
      "outputs": []
    },
    {
      "cell_type": "code",
      "source": [
        "IMG_WIDTH = 320\n",
        "IMG_HEIGHT = 240\n",
        "IMG_DEPTH = 3\n",
        "\n",
        "BATCH_SIZE = 32\n",
        "train_dir = './train_img'\n",
        "train_generator = datagen.flow_from_directory(train_dir, target_size=(IMG_WIDTH, IMG_HEIGHT), batch_size=BATCH_SIZE, class_mode='binary', shuffle=True, subset='training')\n",
        "valid_generator = datagen.flow_from_directory(train_dir, target_size=(IMG_WIDTH, IMG_HEIGHT), batch_size=BATCH_SIZE, class_mode='binary', subset='validation')"
      ],
      "metadata": {
        "colab": {
          "base_uri": "https://localhost:8080/"
        },
        "id": "ZIlxci56XXtR",
        "outputId": "042aa0b0-7c49-48ca-b86b-0da1ec85e90e"
      },
      "execution_count": 7,
      "outputs": [
        {
          "output_type": "stream",
          "name": "stdout",
          "text": [
            "Found 400 images belonging to 2 classes.\n",
            "Found 100 images belonging to 2 classes.\n"
          ]
        }
      ]
    },
    {
      "cell_type": "code",
      "source": [
        "train_generator.class_indices"
      ],
      "metadata": {
        "colab": {
          "base_uri": "https://localhost:8080/"
        },
        "id": "vY1a3QzJYmm8",
        "outputId": "5e8a0107-d898-456a-ea49-24d49167651b"
      },
      "execution_count": 8,
      "outputs": [
        {
          "output_type": "execute_result",
          "data": {
            "text/plain": [
              "{'anomaly': 0, 'normal': 1}"
            ]
          },
          "metadata": {},
          "execution_count": 8
        }
      ]
    },
    {
      "cell_type": "code",
      "source": [
        "base_model = applications.mobilenet.MobileNet(weights='imagenet',\n",
        "                                         include_top=False,\n",
        "                                         input_shape=(IMG_WIDTH, IMG_HEIGHT, IMG_DEPTH)\n",
        "                                        )"
      ],
      "metadata": {
        "colab": {
          "base_uri": "https://localhost:8080/"
        },
        "id": "jiG04k8ecdB2",
        "outputId": "1db93e6a-983e-4e74-9887-909a1d86d6a8"
      },
      "execution_count": 9,
      "outputs": [
        {
          "output_type": "stream",
          "name": "stderr",
          "text": [
            "<ipython-input-9-c223b2862367>:1: UserWarning: `input_shape` is undefined or non-square, or `rows` is not in [128, 160, 192, 224]. Weights for input shape (224, 224) will be loaded as the default.\n",
            "  base_model = applications.mobilenet.MobileNet(weights='imagenet',\n"
          ]
        }
      ]
    },
    {
      "cell_type": "code",
      "source": [
        "epochs:int = 50 # Defalut:50\n",
        "lr:float = 0.001 # Default:0.001\n",
        "\n",
        "model = models.Sequential([\n",
        "  base_model,\n",
        "  layers.Flatten(),\n",
        "  layers.Dense(1024, activation='relu'),\n",
        "  layers.Dropout(0.1),\n",
        "  layers.Dense(512, activation='relu'),\n",
        "  layers.Dropout(0.2),\n",
        "  layers.Dense(512, activation='relu'),\n",
        "  layers.Dense(1, activation='sigmoid')\n",
        "])\n",
        "\n",
        "adam_low_rate = optimizers.Adam(learning_rate=lr)\n",
        "\n",
        "# モデルを構築\n",
        "model.compile(optimizer=adam_low_rate,\n",
        "              loss=\"binary_crossentropy\",\n",
        "              metrics=['accuracy'])"
      ],
      "metadata": {
        "id": "lu6FBzXZdD-A"
      },
      "execution_count": 10,
      "outputs": []
    },
    {
      "cell_type": "code",
      "source": [
        "history = model.fit(train_generator,\n",
        "                    validation_data = valid_generator,\n",
        "                    steps_per_epoch = train_generator.samples // BATCH_SIZE,\n",
        "                    validation_steps = valid_generator.samples // BATCH_SIZE,\n",
        "                    verbose=True,\n",
        "                    callbacks=[tensorflow.keras.callbacks.EarlyStopping(monitor='val_loss', min_delta=0, patience=10, verbose=1)],\n",
        "                    epochs = epochs,\n",
        ")\n",
        "\n",
        "\n",
        "# 評価する。\n",
        "test_loss, test_acc = model.evaluate(valid_generator)\n",
        "model.save('model.h5')\n",
        "\n",
        "plt.figure(figsize=(10, 5))  # グラフを表示するスペースを用意\n",
        "metrics = ['loss', 'accuracy']  # 使用する評価関数を指定\n",
        "\n",
        "for i in range(len(metrics)):\n",
        "  metric = metrics[i]\n",
        "\n",
        "  plt.subplot(1, 2, i+1)  # figureを1×2のスペースに分ける\n",
        "  plt.title(metric)\n",
        "\n",
        "  plt_train = history.history[metric]\n",
        "  plt_valid  = history.history['val_' + metric]\n",
        "\n",
        "  plt.plot(plt_train, label='train')\n",
        "  plt.plot(plt_valid, label='valid')\n",
        "  plt.legend()\n",
        "\n",
        "plt.savefig(\"./metrics.png\")"
      ],
      "metadata": {
        "colab": {
          "base_uri": "https://localhost:8080/"
        },
        "id": "pNXPdrS1dwyc",
        "outputId": "dbb62a4e-227c-40a6-dcf5-94deb96d9b35"
      },
      "execution_count": null,
      "outputs": [
        {
          "output_type": "stream",
          "name": "stdout",
          "text": [
            "Epoch 1/50\n"
          ]
        }
      ]
    }
  ]
}