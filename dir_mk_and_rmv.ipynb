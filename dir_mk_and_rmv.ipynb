{
  "nbformat": 4,
  "nbformat_minor": 0,
  "metadata": {
    "colab": {
      "provenance": [],
      "authorship_tag": "ABX9TyNwKIlbNiV8qW2Nw5CCuIS0",
      "include_colab_link": true
    },
    "kernelspec": {
      "name": "python3",
      "display_name": "Python 3"
    },
    "language_info": {
      "name": "python"
    }
  },
  "cells": [
    {
      "cell_type": "markdown",
      "metadata": {
        "id": "view-in-github",
        "colab_type": "text"
      },
      "source": [
        "<a href=\"https://colab.research.google.com/github/MS-H2020/Open/blob/main/dir_mk_and_rmv.ipynb\" target=\"_parent\"><img src=\"https://colab.research.google.com/assets/colab-badge.svg\" alt=\"Open In Colab\"/></a>"
      ]
    },
    {
      "cell_type": "code",
      "source": [
        "from google.colab import drive\n",
        "drive.mount('/content/drive')\n",
        "!cp \"/content/drive/MyDrive/Colab Notebooks/tdata.zip\" ."
      ],
      "metadata": {
        "colab": {
          "base_uri": "https://localhost:8080/"
        },
        "id": "zgPfkI98cAvl",
        "outputId": "45c5d827-8580-4461-c90a-85133610a167"
      },
      "execution_count": 6,
      "outputs": [
        {
          "output_type": "stream",
          "name": "stdout",
          "text": [
            "Mounted at /content/drive\n"
          ]
        }
      ]
    },
    {
      "cell_type": "code",
      "execution_count": 15,
      "metadata": {
        "id": "wsaAXtVGYETH"
      },
      "outputs": [],
      "source": [
        "import shutil\n",
        "import zipfile\n",
        "temp_dir = './temp/'\n",
        "\n",
        "shutil.unpack_archive('tdata.zip',temp_dir)"
      ]
    },
    {
      "cell_type": "code",
      "source": [
        "shutil.rmtree(temp_dir)"
      ],
      "metadata": {
        "id": "xaBoFVrEeo6s"
      },
      "execution_count": 16,
      "outputs": []
    }
  ]
}