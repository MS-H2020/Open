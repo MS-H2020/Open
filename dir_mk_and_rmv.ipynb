{
  "nbformat": 4,
  "nbformat_minor": 0,
  "metadata": {
    "colab": {
      "provenance": [],
      "authorship_tag": "ABX9TyOQDJveQ9hnEtBFOXg50Afq",
      "include_colab_link": true
    },
    "kernelspec": {
      "name": "python3",
      "display_name": "Python 3"
    },
    "language_info": {
      "name": "python"
    }
  },
  "cells": [
    {
      "cell_type": "markdown",
      "metadata": {
        "id": "view-in-github",
        "colab_type": "text"
      },
      "source": [
        "<a href=\"https://colab.research.google.com/github/MS-H2020/Open/blob/main/dir_mk_and_rmv.ipynb\" target=\"_parent\"><img src=\"https://colab.research.google.com/assets/colab-badge.svg\" alt=\"Open In Colab\"/></a>"
      ]
    },
    {
      "cell_type": "code",
      "source": [
        "from google.colab import drive\n",
        "drive.mount('/content/drive')\n",
        "!cp \"/content/drive/MyDrive/Colab Notebooks/tdata.zip\" ."
      ],
      "metadata": {
        "colab": {
          "base_uri": "https://localhost:8080/"
        },
        "id": "zgPfkI98cAvl",
        "outputId": "45c5d827-8580-4461-c90a-85133610a167"
      },
      "execution_count": 6,
      "outputs": [
        {
          "output_type": "stream",
          "name": "stdout",
          "text": [
            "Mounted at /content/drive\n"
          ]
        }
      ]
    },
    {
      "cell_type": "markdown",
      "source": [
        "## 初期化"
      ],
      "metadata": {
        "id": "CL1Byzoz-5MC"
      }
    },
    {
      "cell_type": "code",
      "source": [
        "temp_dir = './temp'\n",
        "train_dir = temp_dir + \"/tdata/train\"\n",
        "test_dir = temp_dir + \"/tdata/test\""
      ],
      "metadata": {
        "id": "SMY0yCeq36Fp"
      },
      "execution_count": 76,
      "outputs": []
    },
    {
      "cell_type": "code",
      "source": [
        "import shutil\n",
        "\n",
        "if os.path.isdir(temp_dir):\n",
        "  shutil.rmtree(temp_dir)"
      ],
      "metadata": {
        "id": "xtzwNMiZ3ooq"
      },
      "execution_count": 84,
      "outputs": []
    },
    {
      "cell_type": "markdown",
      "source": [
        "## フォルダ解凍"
      ],
      "metadata": {
        "id": "-cTNaN7JkGWm"
      }
    },
    {
      "cell_type": "code",
      "execution_count": 93,
      "metadata": {
        "id": "wsaAXtVGYETH"
      },
      "outputs": [],
      "source": [
        "import shutil\n",
        "import zipfile\n",
        "\n",
        "shutil.unpack_archive('tdata.zip', temp_dir)"
      ]
    },
    {
      "cell_type": "markdown",
      "source": [
        "## 属性フォルダの作成と振り分け"
      ],
      "metadata": {
        "id": "dMIM6aUj_DSz"
      }
    },
    {
      "cell_type": "code",
      "source": [
        "import pandas as pd\n",
        "df = pd.read_csv(temp_dir+\"/tdata/train.csv\")"
      ],
      "metadata": {
        "id": "9lUrhbuGkjd5"
      },
      "execution_count": 86,
      "outputs": []
    },
    {
      "cell_type": "code",
      "source": [
        "min = int(df['gender_status'].min())\n",
        "max = int(df['gender_status'].max())"
      ],
      "metadata": {
        "id": "-xb-M4ANmfi8"
      },
      "execution_count": 87,
      "outputs": []
    },
    {
      "cell_type": "code",
      "source": [
        "import os\n",
        "for num in range(min, max+1):\n",
        "  os.mkdir(train_dir + '/' + str(num).zfill(2))"
      ],
      "metadata": {
        "id": "yTPASh-8mm0Y"
      },
      "execution_count": 94,
      "outputs": []
    },
    {
      "cell_type": "code",
      "source": [
        "for num in range(int(len(df))):\n",
        "  shutil.move(train_dir + '/' + str(df.at[num, 'image']),  train_dir +'/' + str(df.at[num, 'gender_status']).zfill(2))"
      ],
      "metadata": {
        "id": "DFe4RJiA9ere"
      },
      "execution_count": 95,
      "outputs": []
    },
    {
      "cell_type": "code",
      "source": [
        "#int(df.at[1, 'gender_status'])"
      ],
      "metadata": {
        "colab": {
          "base_uri": "https://localhost:8080/"
        },
        "id": "Lnk32eHT69ML",
        "outputId": "309066ca-abc9-4faa-9d5a-4e8b7bc55ddd"
      },
      "execution_count": 69,
      "outputs": [
        {
          "output_type": "execute_result",
          "data": {
            "text/plain": [
              "0"
            ]
          },
          "metadata": {},
          "execution_count": 69
        }
      ]
    },
    {
      "cell_type": "code",
      "source": [
        "#train_dir + '/' + str(df.at[1, 'image'])"
      ],
      "metadata": {
        "colab": {
          "base_uri": "https://localhost:8080/",
          "height": 35
        },
        "id": "L-ojEpOY6nOX",
        "outputId": "db7b35ac-12e3-40f6-df2e-9c8c347db08f"
      },
      "execution_count": 68,
      "outputs": [
        {
          "output_type": "execute_result",
          "data": {
            "text/plain": [
              "'./temp/tdata/train/n_00002.jpg'"
            ],
            "application/vnd.google.colaboratory.intrinsic+json": {
              "type": "string"
            }
          },
          "metadata": {},
          "execution_count": 68
        }
      ]
    },
    {
      "cell_type": "code",
      "source": [
        "#shutil.move(train_dir + '/' + str(df.at[2, 'image']),  train_dir +'/' + str(df.at[2, 'gender_status']).zfill(2))"
      ],
      "metadata": {
        "colab": {
          "base_uri": "https://localhost:8080/",
          "height": 35
        },
        "id": "IApG7h0j7YIi",
        "outputId": "4e344a5e-cd93-42f3-8b56-14369a2e3430"
      },
      "execution_count": 74,
      "outputs": [
        {
          "output_type": "execute_result",
          "data": {
            "text/plain": [
              "'./temp/tdata/train/00/n_00003.jpg'"
            ],
            "application/vnd.google.colaboratory.intrinsic+json": {
              "type": "string"
            }
          },
          "metadata": {},
          "execution_count": 74
        }
      ]
    },
    {
      "cell_type": "markdown",
      "source": [
        "### フォルダ削除"
      ],
      "metadata": {
        "id": "baSduXpiplw9"
      }
    },
    {
      "cell_type": "code",
      "source": [
        "import shutil\n",
        "shutil.rmtree(temp_dir)"
      ],
      "metadata": {
        "id": "xaBoFVrEeo6s"
      },
      "execution_count": 96,
      "outputs": []
    }
  ]
}