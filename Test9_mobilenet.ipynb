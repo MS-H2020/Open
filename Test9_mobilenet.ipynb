{
  "nbformat": 4,
  "nbformat_minor": 0,
  "metadata": {
    "colab": {
      "provenance": [],
      "gpuType": "T4",
      "include_colab_link": true
    },
    "kernelspec": {
      "name": "python3",
      "display_name": "Python 3"
    },
    "language_info": {
      "name": "python"
    },
    "accelerator": "GPU"
  },
  "cells": [
    {
      "cell_type": "markdown",
      "metadata": {
        "id": "view-in-github",
        "colab_type": "text"
      },
      "source": [
        "<a href=\"https://colab.research.google.com/github/MS-H2020/Open/blob/main/Test9_mobilenet.ipynb\" target=\"_parent\"><img src=\"https://colab.research.google.com/assets/colab-badge.svg\" alt=\"Open In Colab\"/></a>"
      ]
    },
    {
      "cell_type": "code",
      "execution_count": 1,
      "metadata": {
        "colab": {
          "base_uri": "https://localhost:8080/"
        },
        "id": "3HFxcUC1Pc30",
        "outputId": "475861e6-ea84-435c-ccf4-434aed6a7b16"
      },
      "outputs": [
        {
          "output_type": "stream",
          "name": "stdout",
          "text": [
            "Mounted at /content/drive\n"
          ]
        }
      ],
      "source": [
        "from google.colab import drive\n",
        "drive.mount('/content/drive')\n",
        "!cp \"/content/drive/MyDrive/Colab Notebooks/tdata.zip\" ."
      ]
    },
    {
      "cell_type": "code",
      "source": [
        "temp_dir = './temp'\n",
        "train_dir = temp_dir + \"/tdata/train\"\n",
        "test_dir = temp_dir + \"/tdata/test\"\n",
        "out_dir = '/content/drive/MyDrive/Colab Notebooks'"
      ],
      "metadata": {
        "id": "cTTe_PJSuajf"
      },
      "execution_count": 2,
      "outputs": []
    },
    {
      "cell_type": "code",
      "source": [
        "import shutil\n",
        "import os\n",
        "\n",
        "if os.path.isdir(temp_dir):\n",
        "  shutil.rmtree(temp_dir)"
      ],
      "metadata": {
        "id": "PJSdLJN0ljla"
      },
      "execution_count": 18,
      "outputs": []
    },
    {
      "cell_type": "code",
      "source": [
        "import glob\n",
        "import zipfile\n",
        "shutil.unpack_archive('tdata.zip', temp_dir)\n",
        "os.makedirs(test_dir+'/dummy/', exist_ok=True)\n",
        "for image_path in glob.glob(test_dir + '/*'):\n",
        "    shutil.move(image_path, test_dir + '/dummy')"
      ],
      "metadata": {
        "id": "zUkp-ylxlihQ"
      },
      "execution_count": 19,
      "outputs": []
    },
    {
      "cell_type": "code",
      "source": [
        "import pandas as pd\n",
        "df = pd.read_csv(temp_dir+\"/tdata/train.csv\")\n",
        "\n",
        "rep = {5:7}\n",
        "df[\"gender_status\"] = df[\"gender_status\"].replace(rep).astype(int)\n",
        "display(df)"
      ],
      "metadata": {
        "id": "4AcROS9Mlw4P",
        "colab": {
          "base_uri": "https://localhost:8080/",
          "height": 419
        },
        "outputId": "34025a25-393f-4fe8-a3ee-a76765493e02"
      },
      "execution_count": 20,
      "outputs": [
        {
          "output_type": "display_data",
          "data": {
            "text/plain": [
              "            image  gender_status\n",
              "0     n_00001.jpg              4\n",
              "1     n_00002.jpg              0\n",
              "2     n_00003.jpg              0\n",
              "3     n_00005.jpg              0\n",
              "4     n_00006.jpg              0\n",
              "...           ...            ...\n",
              "4233  n_05293.jpg              1\n",
              "4234  n_05294.jpg              1\n",
              "4235  n_05295.jpg              0\n",
              "4236  n_05296.jpg              0\n",
              "4237  n_05297.jpg              2\n",
              "\n",
              "[4238 rows x 2 columns]"
            ],
            "text/html": [
              "\n",
              "  <div id=\"df-ebed5276-5df3-45c6-b687-0a15d8e2350f\" class=\"colab-df-container\">\n",
              "    <div>\n",
              "<style scoped>\n",
              "    .dataframe tbody tr th:only-of-type {\n",
              "        vertical-align: middle;\n",
              "    }\n",
              "\n",
              "    .dataframe tbody tr th {\n",
              "        vertical-align: top;\n",
              "    }\n",
              "\n",
              "    .dataframe thead th {\n",
              "        text-align: right;\n",
              "    }\n",
              "</style>\n",
              "<table border=\"1\" class=\"dataframe\">\n",
              "  <thead>\n",
              "    <tr style=\"text-align: right;\">\n",
              "      <th></th>\n",
              "      <th>image</th>\n",
              "      <th>gender_status</th>\n",
              "    </tr>\n",
              "  </thead>\n",
              "  <tbody>\n",
              "    <tr>\n",
              "      <th>0</th>\n",
              "      <td>n_00001.jpg</td>\n",
              "      <td>4</td>\n",
              "    </tr>\n",
              "    <tr>\n",
              "      <th>1</th>\n",
              "      <td>n_00002.jpg</td>\n",
              "      <td>0</td>\n",
              "    </tr>\n",
              "    <tr>\n",
              "      <th>2</th>\n",
              "      <td>n_00003.jpg</td>\n",
              "      <td>0</td>\n",
              "    </tr>\n",
              "    <tr>\n",
              "      <th>3</th>\n",
              "      <td>n_00005.jpg</td>\n",
              "      <td>0</td>\n",
              "    </tr>\n",
              "    <tr>\n",
              "      <th>4</th>\n",
              "      <td>n_00006.jpg</td>\n",
              "      <td>0</td>\n",
              "    </tr>\n",
              "    <tr>\n",
              "      <th>...</th>\n",
              "      <td>...</td>\n",
              "      <td>...</td>\n",
              "    </tr>\n",
              "    <tr>\n",
              "      <th>4233</th>\n",
              "      <td>n_05293.jpg</td>\n",
              "      <td>1</td>\n",
              "    </tr>\n",
              "    <tr>\n",
              "      <th>4234</th>\n",
              "      <td>n_05294.jpg</td>\n",
              "      <td>1</td>\n",
              "    </tr>\n",
              "    <tr>\n",
              "      <th>4235</th>\n",
              "      <td>n_05295.jpg</td>\n",
              "      <td>0</td>\n",
              "    </tr>\n",
              "    <tr>\n",
              "      <th>4236</th>\n",
              "      <td>n_05296.jpg</td>\n",
              "      <td>0</td>\n",
              "    </tr>\n",
              "    <tr>\n",
              "      <th>4237</th>\n",
              "      <td>n_05297.jpg</td>\n",
              "      <td>2</td>\n",
              "    </tr>\n",
              "  </tbody>\n",
              "</table>\n",
              "<p>4238 rows × 2 columns</p>\n",
              "</div>\n",
              "    <div class=\"colab-df-buttons\">\n",
              "\n",
              "  <div class=\"colab-df-container\">\n",
              "    <button class=\"colab-df-convert\" onclick=\"convertToInteractive('df-ebed5276-5df3-45c6-b687-0a15d8e2350f')\"\n",
              "            title=\"Convert this dataframe to an interactive table.\"\n",
              "            style=\"display:none;\">\n",
              "\n",
              "  <svg xmlns=\"http://www.w3.org/2000/svg\" height=\"24px\" viewBox=\"0 -960 960 960\">\n",
              "    <path d=\"M120-120v-720h720v720H120Zm60-500h600v-160H180v160Zm220 220h160v-160H400v160Zm0 220h160v-160H400v160ZM180-400h160v-160H180v160Zm440 0h160v-160H620v160ZM180-180h160v-160H180v160Zm440 0h160v-160H620v160Z\"/>\n",
              "  </svg>\n",
              "    </button>\n",
              "\n",
              "  <style>\n",
              "    .colab-df-container {\n",
              "      display:flex;\n",
              "      gap: 12px;\n",
              "    }\n",
              "\n",
              "    .colab-df-convert {\n",
              "      background-color: #E8F0FE;\n",
              "      border: none;\n",
              "      border-radius: 50%;\n",
              "      cursor: pointer;\n",
              "      display: none;\n",
              "      fill: #1967D2;\n",
              "      height: 32px;\n",
              "      padding: 0 0 0 0;\n",
              "      width: 32px;\n",
              "    }\n",
              "\n",
              "    .colab-df-convert:hover {\n",
              "      background-color: #E2EBFA;\n",
              "      box-shadow: 0px 1px 2px rgba(60, 64, 67, 0.3), 0px 1px 3px 1px rgba(60, 64, 67, 0.15);\n",
              "      fill: #174EA6;\n",
              "    }\n",
              "\n",
              "    .colab-df-buttons div {\n",
              "      margin-bottom: 4px;\n",
              "    }\n",
              "\n",
              "    [theme=dark] .colab-df-convert {\n",
              "      background-color: #3B4455;\n",
              "      fill: #D2E3FC;\n",
              "    }\n",
              "\n",
              "    [theme=dark] .colab-df-convert:hover {\n",
              "      background-color: #434B5C;\n",
              "      box-shadow: 0px 1px 3px 1px rgba(0, 0, 0, 0.15);\n",
              "      filter: drop-shadow(0px 1px 2px rgba(0, 0, 0, 0.3));\n",
              "      fill: #FFFFFF;\n",
              "    }\n",
              "  </style>\n",
              "\n",
              "    <script>\n",
              "      const buttonEl =\n",
              "        document.querySelector('#df-ebed5276-5df3-45c6-b687-0a15d8e2350f button.colab-df-convert');\n",
              "      buttonEl.style.display =\n",
              "        google.colab.kernel.accessAllowed ? 'block' : 'none';\n",
              "\n",
              "      async function convertToInteractive(key) {\n",
              "        const element = document.querySelector('#df-ebed5276-5df3-45c6-b687-0a15d8e2350f');\n",
              "        const dataTable =\n",
              "          await google.colab.kernel.invokeFunction('convertToInteractive',\n",
              "                                                    [key], {});\n",
              "        if (!dataTable) return;\n",
              "\n",
              "        const docLinkHtml = 'Like what you see? Visit the ' +\n",
              "          '<a target=\"_blank\" href=https://colab.research.google.com/notebooks/data_table.ipynb>data table notebook</a>'\n",
              "          + ' to learn more about interactive tables.';\n",
              "        element.innerHTML = '';\n",
              "        dataTable['output_type'] = 'display_data';\n",
              "        await google.colab.output.renderOutput(dataTable, element);\n",
              "        const docLink = document.createElement('div');\n",
              "        docLink.innerHTML = docLinkHtml;\n",
              "        element.appendChild(docLink);\n",
              "      }\n",
              "    </script>\n",
              "  </div>\n",
              "\n",
              "\n",
              "<div id=\"df-8ad7a43a-cbd2-4f6c-9f87-dadb9e75453d\">\n",
              "  <button class=\"colab-df-quickchart\" onclick=\"quickchart('df-8ad7a43a-cbd2-4f6c-9f87-dadb9e75453d')\"\n",
              "            title=\"Suggest charts\"\n",
              "            style=\"display:none;\">\n",
              "\n",
              "<svg xmlns=\"http://www.w3.org/2000/svg\" height=\"24px\"viewBox=\"0 0 24 24\"\n",
              "     width=\"24px\">\n",
              "    <g>\n",
              "        <path d=\"M19 3H5c-1.1 0-2 .9-2 2v14c0 1.1.9 2 2 2h14c1.1 0 2-.9 2-2V5c0-1.1-.9-2-2-2zM9 17H7v-7h2v7zm4 0h-2V7h2v10zm4 0h-2v-4h2v4z\"/>\n",
              "    </g>\n",
              "</svg>\n",
              "  </button>\n",
              "\n",
              "<style>\n",
              "  .colab-df-quickchart {\n",
              "      --bg-color: #E8F0FE;\n",
              "      --fill-color: #1967D2;\n",
              "      --hover-bg-color: #E2EBFA;\n",
              "      --hover-fill-color: #174EA6;\n",
              "      --disabled-fill-color: #AAA;\n",
              "      --disabled-bg-color: #DDD;\n",
              "  }\n",
              "\n",
              "  [theme=dark] .colab-df-quickchart {\n",
              "      --bg-color: #3B4455;\n",
              "      --fill-color: #D2E3FC;\n",
              "      --hover-bg-color: #434B5C;\n",
              "      --hover-fill-color: #FFFFFF;\n",
              "      --disabled-bg-color: #3B4455;\n",
              "      --disabled-fill-color: #666;\n",
              "  }\n",
              "\n",
              "  .colab-df-quickchart {\n",
              "    background-color: var(--bg-color);\n",
              "    border: none;\n",
              "    border-radius: 50%;\n",
              "    cursor: pointer;\n",
              "    display: none;\n",
              "    fill: var(--fill-color);\n",
              "    height: 32px;\n",
              "    padding: 0;\n",
              "    width: 32px;\n",
              "  }\n",
              "\n",
              "  .colab-df-quickchart:hover {\n",
              "    background-color: var(--hover-bg-color);\n",
              "    box-shadow: 0 1px 2px rgba(60, 64, 67, 0.3), 0 1px 3px 1px rgba(60, 64, 67, 0.15);\n",
              "    fill: var(--button-hover-fill-color);\n",
              "  }\n",
              "\n",
              "  .colab-df-quickchart-complete:disabled,\n",
              "  .colab-df-quickchart-complete:disabled:hover {\n",
              "    background-color: var(--disabled-bg-color);\n",
              "    fill: var(--disabled-fill-color);\n",
              "    box-shadow: none;\n",
              "  }\n",
              "\n",
              "  .colab-df-spinner {\n",
              "    border: 2px solid var(--fill-color);\n",
              "    border-color: transparent;\n",
              "    border-bottom-color: var(--fill-color);\n",
              "    animation:\n",
              "      spin 1s steps(1) infinite;\n",
              "  }\n",
              "\n",
              "  @keyframes spin {\n",
              "    0% {\n",
              "      border-color: transparent;\n",
              "      border-bottom-color: var(--fill-color);\n",
              "      border-left-color: var(--fill-color);\n",
              "    }\n",
              "    20% {\n",
              "      border-color: transparent;\n",
              "      border-left-color: var(--fill-color);\n",
              "      border-top-color: var(--fill-color);\n",
              "    }\n",
              "    30% {\n",
              "      border-color: transparent;\n",
              "      border-left-color: var(--fill-color);\n",
              "      border-top-color: var(--fill-color);\n",
              "      border-right-color: var(--fill-color);\n",
              "    }\n",
              "    40% {\n",
              "      border-color: transparent;\n",
              "      border-right-color: var(--fill-color);\n",
              "      border-top-color: var(--fill-color);\n",
              "    }\n",
              "    60% {\n",
              "      border-color: transparent;\n",
              "      border-right-color: var(--fill-color);\n",
              "    }\n",
              "    80% {\n",
              "      border-color: transparent;\n",
              "      border-right-color: var(--fill-color);\n",
              "      border-bottom-color: var(--fill-color);\n",
              "    }\n",
              "    90% {\n",
              "      border-color: transparent;\n",
              "      border-bottom-color: var(--fill-color);\n",
              "    }\n",
              "  }\n",
              "</style>\n",
              "\n",
              "  <script>\n",
              "    async function quickchart(key) {\n",
              "      const quickchartButtonEl =\n",
              "        document.querySelector('#' + key + ' button');\n",
              "      quickchartButtonEl.disabled = true;  // To prevent multiple clicks.\n",
              "      quickchartButtonEl.classList.add('colab-df-spinner');\n",
              "      try {\n",
              "        const charts = await google.colab.kernel.invokeFunction(\n",
              "            'suggestCharts', [key], {});\n",
              "      } catch (error) {\n",
              "        console.error('Error during call to suggestCharts:', error);\n",
              "      }\n",
              "      quickchartButtonEl.classList.remove('colab-df-spinner');\n",
              "      quickchartButtonEl.classList.add('colab-df-quickchart-complete');\n",
              "    }\n",
              "    (() => {\n",
              "      let quickchartButtonEl =\n",
              "        document.querySelector('#df-8ad7a43a-cbd2-4f6c-9f87-dadb9e75453d button');\n",
              "      quickchartButtonEl.style.display =\n",
              "        google.colab.kernel.accessAllowed ? 'block' : 'none';\n",
              "    })();\n",
              "  </script>\n",
              "</div>\n",
              "\n",
              "  <div id=\"id_792635cb-6b64-4c6c-a6a9-3f33a4d44a11\">\n",
              "    <style>\n",
              "      .colab-df-generate {\n",
              "        background-color: #E8F0FE;\n",
              "        border: none;\n",
              "        border-radius: 50%;\n",
              "        cursor: pointer;\n",
              "        display: none;\n",
              "        fill: #1967D2;\n",
              "        height: 32px;\n",
              "        padding: 0 0 0 0;\n",
              "        width: 32px;\n",
              "      }\n",
              "\n",
              "      .colab-df-generate:hover {\n",
              "        background-color: #E2EBFA;\n",
              "        box-shadow: 0px 1px 2px rgba(60, 64, 67, 0.3), 0px 1px 3px 1px rgba(60, 64, 67, 0.15);\n",
              "        fill: #174EA6;\n",
              "      }\n",
              "\n",
              "      [theme=dark] .colab-df-generate {\n",
              "        background-color: #3B4455;\n",
              "        fill: #D2E3FC;\n",
              "      }\n",
              "\n",
              "      [theme=dark] .colab-df-generate:hover {\n",
              "        background-color: #434B5C;\n",
              "        box-shadow: 0px 1px 3px 1px rgba(0, 0, 0, 0.15);\n",
              "        filter: drop-shadow(0px 1px 2px rgba(0, 0, 0, 0.3));\n",
              "        fill: #FFFFFF;\n",
              "      }\n",
              "    </style>\n",
              "    <button class=\"colab-df-generate\" onclick=\"generateWithVariable('df')\"\n",
              "            title=\"Generate code using this dataframe.\"\n",
              "            style=\"display:none;\">\n",
              "\n",
              "  <svg xmlns=\"http://www.w3.org/2000/svg\" height=\"24px\"viewBox=\"0 0 24 24\"\n",
              "       width=\"24px\">\n",
              "    <path d=\"M7,19H8.4L18.45,9,17,7.55,7,17.6ZM5,21V16.75L18.45,3.32a2,2,0,0,1,2.83,0l1.4,1.43a1.91,1.91,0,0,1,.58,1.4,1.91,1.91,0,0,1-.58,1.4L9.25,21ZM18.45,9,17,7.55Zm-12,3A5.31,5.31,0,0,0,4.9,8.1,5.31,5.31,0,0,0,1,6.5,5.31,5.31,0,0,0,4.9,4.9,5.31,5.31,0,0,0,6.5,1,5.31,5.31,0,0,0,8.1,4.9,5.31,5.31,0,0,0,12,6.5,5.46,5.46,0,0,0,6.5,12Z\"/>\n",
              "  </svg>\n",
              "    </button>\n",
              "    <script>\n",
              "      (() => {\n",
              "      const buttonEl =\n",
              "        document.querySelector('#id_792635cb-6b64-4c6c-a6a9-3f33a4d44a11 button.colab-df-generate');\n",
              "      buttonEl.style.display =\n",
              "        google.colab.kernel.accessAllowed ? 'block' : 'none';\n",
              "\n",
              "      buttonEl.onclick = () => {\n",
              "        google.colab.notebook.generateWithVariable('df');\n",
              "      }\n",
              "      })();\n",
              "    </script>\n",
              "  </div>\n",
              "\n",
              "    </div>\n",
              "  </div>\n"
            ],
            "application/vnd.google.colaboratory.intrinsic+json": {
              "type": "dataframe",
              "variable_name": "df",
              "summary": "{\n  \"name\": \"df\",\n  \"rows\": 4238,\n  \"fields\": [\n    {\n      \"column\": \"image\",\n      \"properties\": {\n        \"dtype\": \"string\",\n        \"samples\": [\n          \"n_03973.jpg\",\n          \"n_00946.jpg\",\n          \"n_04072.jpg\"\n        ],\n        \"num_unique_values\": 4238,\n        \"semantic_type\": \"\",\n        \"description\": \"\"\n      }\n    },\n    {\n      \"column\": \"gender_status\",\n      \"properties\": {\n        \"dtype\": \"number\",\n        \"std\": 1,\n        \"min\": 0,\n        \"max\": 7,\n        \"samples\": [\n          4,\n          0,\n          7\n        ],\n        \"num_unique_values\": 7,\n        \"semantic_type\": \"\",\n        \"description\": \"\"\n      }\n    }\n  ]\n}"
            }
          },
          "metadata": {}
        }
      ]
    },
    {
      "cell_type": "code",
      "source": [
        "from sklearn.model_selection import StratifiedKFold\n",
        "\n",
        "N_SPLIT = 8\n",
        "\n",
        "# Storing the average of all predictions\n",
        "main_pred = []\n",
        "data_kfold = pd.DataFrame()\n",
        "\n",
        "# k-fold\n",
        "kfold = StratifiedKFold(n_splits=N_SPLIT,shuffle=True,random_state=42)"
      ],
      "metadata": {
        "id": "BGT--L1Bl7VT"
      },
      "execution_count": 7,
      "outputs": []
    },
    {
      "cell_type": "code",
      "source": [
        "from tensorflow.keras.preprocessing.image import ImageDataGenerator\n",
        "\n",
        "datagen = ImageDataGenerator( rescale=1./255, # 255で割ることで正規化\n",
        "                              featurewise_center = False,\n",
        "                              samplewise_center = False,\n",
        "                              featurewise_std_normalization = False,\n",
        "                              samplewise_std_normalization = False,\n",
        "                              zca_whitening = False,\n",
        "                              rotation_range = 10,\n",
        "                              #width_shift_range = 0.3,\n",
        "                              #height_shift_range = 0.3,\n",
        "                              horizontal_flip = True,\n",
        "                              vertical_flip = False,\n",
        "                              validation_split = 0.2\n",
        "                            )"
      ],
      "metadata": {
        "id": "Ad5BVTQ6Pi8E"
      },
      "execution_count": 8,
      "outputs": []
    },
    {
      "cell_type": "code",
      "source": [
        "train_datagen = ImageDataGenerator(rescale=1./255, # 255で割ることで正規化\n",
        "                                   zoom_range=0.2, # ランダムにズーム\n",
        "                                   horizontal_flip = True, # 水平反転\n",
        "                                   rotation_range = 20, # ランダムに回転\n",
        "                                   vertical_flip = False, # 垂直反転\n",
        "                                   featurewise_center=True,\n",
        "                                   validation_split = 0.2\n",
        "                                   )\n",
        "\n",
        "valid_datagen = ImageDataGenerator(rescale=1./255)"
      ],
      "metadata": {
        "id": "8tUAiMTSvWKk"
      },
      "execution_count": 21,
      "outputs": []
    },
    {
      "cell_type": "code",
      "source": [
        "df['gender_status'] = df['gender_status'].astype(str)\n",
        "train_x = df[\"image\"]\n",
        "train_y = df[\"gender_status\"]\n",
        "\n",
        "import gc\n",
        "from tensorflow import keras\n",
        "from tensorflow.keras import datasets, layers, models, applications, optimizers\n",
        "from tensorflow.keras.models import Sequential, Model\n",
        "from tensorflow.keras.layers import Dense, Dropout, Flatten\n",
        "from tensorflow.keras.applications import mobilenet\n",
        "\n",
        "IMG_WIDTH = 256\n",
        "IMG_HEIGHT = 256\n",
        "IMG_DEPTH = 3\n",
        "BATCH_SIZE = 50\n",
        "CATEGORY_NUM = 7\n",
        "\n",
        "base_model = mobilenet.MobileNet(weights='imagenet',\n",
        "                  include_top=False,\n",
        "                  input_shape=(IMG_HEIGHT, IMG_WIDTH, IMG_DEPTH)\n",
        "                 )\n",
        "\n",
        "base_model.trainable = False\n",
        "\"\"\"\n",
        "for layer in base_model.layers[-60:]:\n",
        "    layer.trainable = True\n",
        "\"\"\"\n",
        "\n",
        "model = models.Sequential([\n",
        "    base_model,\n",
        "    layers.Flatten(),\n",
        "    layers.Dense(1024, activation='relu'),\n",
        "    layers.Dropout(0.1),\n",
        "    layers.Dense(512, activation='relu'),\n",
        "    layers.Dropout(0.2),\n",
        "    layers.Dense(512, activation='relu'),\n",
        "    layers.Dense(CATEGORY_NUM, activation='softmax')\n",
        "])\n",
        "\n",
        "adam_low_rate = optimizers.Adam(learning_rate=0.001)\n",
        "\n",
        "  # モデルを構築\n",
        "model.compile(optimizer=adam_low_rate,\n",
        "              loss='categorical_crossentropy',\n",
        "              metrics=['accuracy'])\n",
        "\n",
        "# モデルの概要\n",
        "model.summary()\n",
        "\n",
        "# from tensorflow.keras.preprocessing.image import ImageDataGenerator\n",
        "test_datagen = ImageDataGenerator(rescale=1./255)\n",
        "test_generator = test_datagen.flow_from_directory(\n",
        "    test_dir, target_size=(256,256), batch_size=64, class_mode=None, shuffle=False)"
      ],
      "metadata": {
        "colab": {
          "base_uri": "https://localhost:8080/"
        },
        "id": "bGP1YUtFPpcg",
        "outputId": "6e8481bb-ae5e-452b-d48f-62569b399d9e"
      },
      "execution_count": 22,
      "outputs": [
        {
          "output_type": "stream",
          "name": "stderr",
          "text": [
            "WARNING:tensorflow:`input_shape` is undefined or non-square, or `rows` is not in [128, 160, 192, 224]. Weights for input shape (224, 224) will be loaded as the default.\n"
          ]
        },
        {
          "output_type": "stream",
          "name": "stdout",
          "text": [
            "Model: \"sequential_2\"\n",
            "_________________________________________________________________\n",
            " Layer (type)                Output Shape              Param #   \n",
            "=================================================================\n",
            " mobilenet_1.00_224 (Functi  (None, 8, 8, 1024)        3228864   \n",
            " onal)                                                           \n",
            "                                                                 \n",
            " flatten_3 (Flatten)         (None, 65536)             0         \n",
            "                                                                 \n",
            " dense_11 (Dense)            (None, 1024)              67109888  \n",
            "                                                                 \n",
            " dropout_6 (Dropout)         (None, 1024)              0         \n",
            "                                                                 \n",
            " dense_12 (Dense)            (None, 512)               524800    \n",
            "                                                                 \n",
            " dropout_7 (Dropout)         (None, 512)               0         \n",
            "                                                                 \n",
            " dense_13 (Dense)            (None, 512)               262656    \n",
            "                                                                 \n",
            " dense_14 (Dense)            (None, 7)                 3591      \n",
            "                                                                 \n",
            "=================================================================\n",
            "Total params: 71129799 (271.34 MB)\n",
            "Trainable params: 67900935 (259.02 MB)\n",
            "Non-trainable params: 3228864 (12.32 MB)\n",
            "_________________________________________________________________\n",
            "Found 1060 images belonging to 1 classes.\n"
          ]
        }
      ]
    },
    {
      "cell_type": "code",
      "source": [
        "import numpy as np\n",
        "# Variable for keeping count of split we are executing\n",
        "j = 0\n",
        "# K-fold Train and test for each split\n",
        "for train_idx, val_idx in list(kfold.split(train_x,train_y)):\n",
        "  x_train_df = df.iloc[train_idx]\n",
        "  x_valid_df = df.iloc[val_idx]\n",
        "\n",
        "  j+=1\n",
        "\n",
        "  train_generator = train_datagen.flow_from_dataframe(dataframe=x_train_df,\n",
        "                                                      directory=train_dir,\n",
        "                                                      x_col=\"image\",\n",
        "                                                      y_col=\"gender_status\",\n",
        "                                                      class_mode='categorical',\n",
        "                                                      target_size=(256,256),\n",
        "                                                      batch_size=BATCH_SIZE,\n",
        "                                                      shuffle=True,\n",
        "                                                      subset = \"training\")\n",
        "\n",
        "  val_generator = train_datagen.flow_from_dataframe(dataframe=x_valid_df,\n",
        "                                                      directory=train_dir,\n",
        "                                                      x_col=\"image\",\n",
        "                                                      y_col=\"gender_status\",\n",
        "                                                      class_mode='categorical',\n",
        "                                                      target_size=(256,256),\n",
        "                                                      batch_size=BATCH_SIZE,\n",
        "                                                      shuffle=True,\n",
        "                                                      subset = \"validation\")\n",
        "\n",
        "  # Early stoppingを適用してフィッティング\n",
        "  log = model.fit(\n",
        "                  train_generator,\n",
        "                  validation_data = val_generator,\n",
        "                  steps_per_epoch = train_generator.samples // BATCH_SIZE,\n",
        "                  validation_steps = val_generator.samples // BATCH_SIZE,\n",
        "                  verbose=True,\n",
        "                  callbacks=[keras.callbacks.EarlyStopping(monitor='val_loss', min_delta=0, patience=10, verbose=1)],\n",
        "                  epochs = 50,\n",
        "                  workers = 1\n",
        "  )\n",
        "\n",
        "  # 評価する。\n",
        "  test_loss, test_acc = model.evaluate(val_generator)\n",
        "  print(f\"test loss: {test_loss:.2f}, test accuracy: {test_acc:.2%}\")\n",
        "  model.save(outdir+'/output/cnn_mobile_'+str(j).zfill(2)+'.h5')\n",
        "  prediction = model.predict(test_generator)\n",
        "  results = np.argmax(prediction,axis=1)\n",
        "  data_kfold[j] = result\n",
        "  gc.collect()"
      ],
      "metadata": {
        "colab": {
          "base_uri": "https://localhost:8080/",
          "height": 1000
        },
        "id": "Ekxi29nXT19Y",
        "outputId": "8680c1ff-93fa-4b6a-8870-f93736b15eaf"
      },
      "execution_count": 23,
      "outputs": [
        {
          "output_type": "stream",
          "name": "stdout",
          "text": [
            "Found 2967 validated image filenames belonging to 7 classes.\n",
            "Found 106 validated image filenames belonging to 7 classes.\n"
          ]
        },
        {
          "output_type": "stream",
          "name": "stderr",
          "text": [
            "/usr/local/lib/python3.10/dist-packages/keras/src/preprocessing/image.py:1862: UserWarning: This ImageDataGenerator specifies `featurewise_center`, but it hasn't been fit on any training data. Fit it first by calling `.fit(numpy_data)`.\n",
            "  warnings.warn(\n"
          ]
        },
        {
          "output_type": "stream",
          "name": "stdout",
          "text": [
            "Epoch 1/50\n",
            "59/59 [==============================] - 58s 912ms/step - loss: 9.4352 - accuracy: 0.4573 - val_loss: 0.8790 - val_accuracy: 0.6500\n",
            "Epoch 2/50\n",
            "59/59 [==============================] - 55s 939ms/step - loss: 0.8601 - accuracy: 0.7031 - val_loss: 0.8116 - val_accuracy: 0.7100\n",
            "Epoch 3/50\n",
            "59/59 [==============================] - 52s 882ms/step - loss: 0.7036 - accuracy: 0.7593 - val_loss: 0.6599 - val_accuracy: 0.7700\n",
            "Epoch 4/50\n",
            "59/59 [==============================] - 54s 922ms/step - loss: 0.6302 - accuracy: 0.7761 - val_loss: 0.6556 - val_accuracy: 0.7300\n",
            "Epoch 5/50\n",
            "59/59 [==============================] - 52s 876ms/step - loss: 0.5830 - accuracy: 0.7995 - val_loss: 0.6264 - val_accuracy: 0.7400\n",
            "Epoch 6/50\n",
            "59/59 [==============================] - 52s 878ms/step - loss: 0.5189 - accuracy: 0.8176 - val_loss: 0.8378 - val_accuracy: 0.7100\n",
            "Epoch 7/50\n",
            "59/59 [==============================] - 52s 888ms/step - loss: 0.4920 - accuracy: 0.8245 - val_loss: 0.5885 - val_accuracy: 0.8000\n",
            "Epoch 8/50\n",
            "59/59 [==============================] - 52s 880ms/step - loss: 0.4656 - accuracy: 0.8385 - val_loss: 0.6478 - val_accuracy: 0.8000\n",
            "Epoch 9/50\n",
            "59/59 [==============================] - 52s 868ms/step - loss: 0.3879 - accuracy: 0.8653 - val_loss: 0.6489 - val_accuracy: 0.8000\n",
            "Epoch 10/50\n",
            "59/59 [==============================] - 54s 920ms/step - loss: 0.3705 - accuracy: 0.8577 - val_loss: 0.7139 - val_accuracy: 0.7900\n",
            "Epoch 11/50\n",
            "59/59 [==============================] - 52s 883ms/step - loss: 0.3023 - accuracy: 0.8958 - val_loss: 0.5395 - val_accuracy: 0.8000\n",
            "Epoch 12/50\n",
            "59/59 [==============================] - 53s 907ms/step - loss: 0.2787 - accuracy: 0.9071 - val_loss: 0.7034 - val_accuracy: 0.7900\n",
            "Epoch 13/50\n",
            "59/59 [==============================] - 54s 913ms/step - loss: 0.2636 - accuracy: 0.9129 - val_loss: 0.8791 - val_accuracy: 0.7200\n",
            "Epoch 14/50\n",
            "59/59 [==============================] - 52s 886ms/step - loss: 0.2368 - accuracy: 0.9167 - val_loss: 0.7720 - val_accuracy: 0.7700\n",
            "Epoch 15/50\n",
            "59/59 [==============================] - 53s 895ms/step - loss: 0.2034 - accuracy: 0.9280 - val_loss: 0.7700 - val_accuracy: 0.7500\n",
            "Epoch 16/50\n",
            "59/59 [==============================] - 52s 882ms/step - loss: 0.2209 - accuracy: 0.9239 - val_loss: 0.9803 - val_accuracy: 0.7600\n",
            "Epoch 17/50\n",
            "59/59 [==============================] - 54s 917ms/step - loss: 0.1943 - accuracy: 0.9304 - val_loss: 0.9387 - val_accuracy: 0.7500\n",
            "Epoch 18/50\n",
            "59/59 [==============================] - 55s 926ms/step - loss: 0.1902 - accuracy: 0.9366 - val_loss: 0.7244 - val_accuracy: 0.8000\n",
            "Epoch 19/50\n",
            "59/59 [==============================] - 53s 908ms/step - loss: 0.1771 - accuracy: 0.9448 - val_loss: 0.8799 - val_accuracy: 0.7800\n",
            "Epoch 20/50\n",
            "59/59 [==============================] - 53s 892ms/step - loss: 0.1595 - accuracy: 0.9469 - val_loss: 0.7367 - val_accuracy: 0.7800\n",
            "Epoch 21/50\n",
            "59/59 [==============================] - 54s 913ms/step - loss: 0.1729 - accuracy: 0.9403 - val_loss: 1.0810 - val_accuracy: 0.7700\n",
            "Epoch 21: early stopping\n",
            "3/3 [==============================] - 2s 396ms/step - loss: 1.1716 - accuracy: 0.7358\n",
            "test loss: 1.17, test accuracy: 73.58%\n",
            "17/17 [==============================] - 6s 237ms/step\n"
          ]
        },
        {
          "output_type": "error",
          "ename": "NameError",
          "evalue": "name 'np' is not defined",
          "traceback": [
            "\u001b[0;31m---------------------------------------------------------------------------\u001b[0m",
            "\u001b[0;31mNameError\u001b[0m                                 Traceback (most recent call last)",
            "\u001b[0;32m<ipython-input-23-bedcfe4ff1f0>\u001b[0m in \u001b[0;36m<cell line: 4>\u001b[0;34m()\u001b[0m\n\u001b[1;32m     45\u001b[0m \u001b[0;34m\u001b[0m\u001b[0m\n\u001b[1;32m     46\u001b[0m   \u001b[0mprediction\u001b[0m \u001b[0;34m=\u001b[0m \u001b[0mmodel\u001b[0m\u001b[0;34m.\u001b[0m\u001b[0mpredict\u001b[0m\u001b[0;34m(\u001b[0m\u001b[0mtest_generator\u001b[0m\u001b[0;34m)\u001b[0m\u001b[0;34m\u001b[0m\u001b[0;34m\u001b[0m\u001b[0m\n\u001b[0;32m---> 47\u001b[0;31m   \u001b[0mresults\u001b[0m \u001b[0;34m=\u001b[0m \u001b[0mnp\u001b[0m\u001b[0;34m.\u001b[0m\u001b[0margmax\u001b[0m\u001b[0;34m(\u001b[0m\u001b[0mprediction\u001b[0m\u001b[0;34m,\u001b[0m\u001b[0maxis\u001b[0m\u001b[0;34m=\u001b[0m\u001b[0;36m1\u001b[0m\u001b[0;34m)\u001b[0m\u001b[0;34m\u001b[0m\u001b[0;34m\u001b[0m\u001b[0m\n\u001b[0m\u001b[1;32m     48\u001b[0m   \u001b[0mdata_kfold\u001b[0m\u001b[0;34m[\u001b[0m\u001b[0mj\u001b[0m\u001b[0;34m]\u001b[0m \u001b[0;34m=\u001b[0m \u001b[0mresult\u001b[0m\u001b[0;34m\u001b[0m\u001b[0;34m\u001b[0m\u001b[0m\n\u001b[1;32m     49\u001b[0m   \u001b[0mgc\u001b[0m\u001b[0;34m.\u001b[0m\u001b[0mcollect\u001b[0m\u001b[0;34m(\u001b[0m\u001b[0;34m)\u001b[0m\u001b[0;34m\u001b[0m\u001b[0;34m\u001b[0m\u001b[0m\n",
            "\u001b[0;31mNameError\u001b[0m: name 'np' is not defined"
          ]
        }
      ]
    },
    {
      "cell_type": "code",
      "source": [
        "# holder\n",
        "data_kfold"
      ],
      "metadata": {
        "id": "30qenWF_rdK6"
      },
      "execution_count": null,
      "outputs": []
    },
    {
      "cell_type": "code",
      "source": [
        "# testing on single iteration of HoldOut\n",
        "result = data_kfold[1]\n",
        "labels=(train_x.class_indices)\n",
        "labels2=dict((v,k) for k,v in labels.items())\n",
        "predictions=[labels2[k] for k in predicted_class_indices]"
      ],
      "metadata": {
        "id": "qUdX0Wmbrro5"
      },
      "execution_count": null,
      "outputs": []
    },
    {
      "cell_type": "code",
      "source": [
        "print(\"Accuracy of HandOut Method: \",accuracy_score(predictions,df.Class))"
      ],
      "metadata": {
        "id": "mlvbwFJ_rssE"
      },
      "execution_count": null,
      "outputs": []
    },
    {
      "cell_type": "code",
      "source": [
        "ans = train.copy()"
      ],
      "metadata": {
        "id": "N7W5XvvGto7w"
      },
      "execution_count": null,
      "outputs": []
    },
    {
      "cell_type": "code",
      "source": [
        "# Taking The Label with Maximum Occurences\n",
        "labels=(train_x.class_indices)\n",
        "labels2=dict((v,k) for k,v in labels.items())\n",
        "import collections\n",
        "for i in range(len(data_kfold)):\n",
        "    co = collections.Counter(data_kfold.loc[i])\n",
        "    co = sorted(co.items(),key=lambda x: x[1],reverse=True)\n",
        "    ans.Class.loc[i] = labels2[co[0][0]]"
      ],
      "metadata": {
        "id": "6eIGWdcarC_Y"
      },
      "execution_count": null,
      "outputs": []
    },
    {
      "cell_type": "code",
      "source": [
        "ans"
      ],
      "metadata": {
        "id": "35-ge3V4uEfl"
      },
      "execution_count": null,
      "outputs": []
    },
    {
      "cell_type": "code",
      "source": [
        "# Averaged K-Fold Output\n",
        "print(\"Accuracy of K-Fold Method: \",accuracy_score(df.Class,ans.Class))"
      ],
      "metadata": {
        "id": "aTT6812Bt2dH"
      },
      "execution_count": null,
      "outputs": []
    },
    {
      "cell_type": "code",
      "source": [
        "  #print(results)\n",
        "  np.savetxt('/content/drive/MyDrive/Colab Notebooks/save_pred.csv', results, delimiter=',')"
      ],
      "metadata": {
        "colab": {
          "base_uri": "https://localhost:8080/"
        },
        "id": "E0y9J8VnNlLy",
        "outputId": "3d05905e-4b96-4990-f8b5-056f66af87f7"
      },
      "execution_count": null,
      "outputs": [
        {
          "output_type": "stream",
          "name": "stdout",
          "text": [
            "Found 1060 images belonging to 1 classes.\n"
          ]
        }
      ]
    },
    {
      "cell_type": "code",
      "source": [
        "import matplotlib.pyplot as plt\n",
        "metrics = ['loss', 'accuracy']  # 使用する評価関数を指定\n",
        "plt.figure(figsize=(10, 5))  # グラフを表示するスペースを用意\n",
        "\n",
        "for i in range(len(metrics)):\n",
        "\n",
        "    metric = metrics[i]\n",
        "\n",
        "    plt.subplot(1, 2, i+1)  # figureを1×2のスペースに分ける\n",
        "    plt.title(metric)\n",
        "\n",
        "    plt_train = log.history[metric]\n",
        "    plt_valid  = log.history['val_' + metric]\n",
        "\n",
        "    plt.plot(plt_train, label='training')\n",
        "    plt.plot(plt_valid, label='valid')\n",
        "    plt.legend()\n",
        "\n",
        "plt.savefig(\"metrics.jpg\")"
      ],
      "metadata": {
        "id": "yH7ZxiwLX5bD",
        "colab": {
          "base_uri": "https://localhost:8080/",
          "height": 468
        },
        "outputId": "532506f7-4fc6-4e5e-c1eb-42149ba24db9"
      },
      "execution_count": null,
      "outputs": [
        {
          "output_type": "display_data",
          "data": {
            "text/plain": [
              "<Figure size 1000x500 with 2 Axes>"
            ],
            "image/png": "[encoded data removed]"
          },
          "metadata": {}
        }
      ]
    },
    {
      "cell_type": "code",
      "source": [
        "#Confution Matrix and Classification Report\n",
        "from sklearn.metrics import classification_report, confusion_matrix\n",
        "import numpy as np\n",
        "\n",
        "Y_pred = model.predict(val_generator, val_generator.samples // BATCH_SIZE)\n",
        "y_pred = np.argmax(Y_pred, axis=1)\n",
        "print('Confusion Matrix')\n",
        "print(confusion_matrix(val_generator.classes, y_pred))\n",
        "print('Classification Report')\n",
        "print(classification_report(val_generator.classes, y_pred, target_names=None))"
      ],
      "metadata": {
        "colab": {
          "base_uri": "https://localhost:8080/"
        },
        "id": "pDHAr1t42aZv",
        "outputId": "7a3088ce-3efb-4623-c89f-b50c7da374ea"
      },
      "execution_count": null,
      "outputs": [
        {
          "output_type": "stream",
          "name": "stdout",
          "text": [
            "27/27 [==============================] - 18s 639ms/step\n",
            "Confusion Matrix\n",
            "[[51 80 30 23 51  2  5]\n",
            " [62 70 35 28 53  1  9]\n",
            " [21 25  6  8  9  0  6]\n",
            " [19 23 13  6 11  0  2]\n",
            " [40 57 13 10 36  2  8]\n",
            " [ 0  3  4  2  1  0  0]\n",
            " [ 4 10  0  1  5  0  0]]\n",
            "Classification Report\n",
            "              precision    recall  f1-score   support\n",
            "\n",
            "           0       0.26      0.21      0.23       242\n",
            "           1       0.26      0.27      0.27       258\n",
            "           2       0.06      0.08      0.07        75\n",
            "           3       0.08      0.08      0.08        74\n",
            "           4       0.22      0.22      0.22       166\n",
            "           6       0.00      0.00      0.00        10\n",
            "           7       0.00      0.00      0.00        20\n",
            "\n",
            "    accuracy                           0.20       845\n",
            "   macro avg       0.12      0.12      0.12       845\n",
            "weighted avg       0.21      0.20      0.20       845\n",
            "\n"
          ]
        }
      ]
    },
    {
      "cell_type": "code",
      "source": [
        "from sklearn.metrics import confusion_matrix\n",
        "import matplotlib.pyplot as plt\n",
        "import numpy as np\n",
        "import seaborn as sns\n",
        "\n",
        "sns.heatmap(confusion_matrix(val_generator.classes, y_pred), annot=True)\n",
        "plt.xlabel(\"pred\")\n",
        "plt.ylabel('true')"
      ],
      "metadata": {
        "colab": {
          "base_uri": "https://localhost:8080/",
          "height": 473
        },
        "id": "a0i-dVc14AFq",
        "outputId": "07b7948f-6e56-44e6-e97b-9ec2c3e2230d"
      },
      "execution_count": null,
      "outputs": [
        {
          "output_type": "execute_result",
          "data": {
            "text/plain": [
              "Text(50.722222222222214, 0.5, 'true')"
            ]
          },
          "metadata": {},
          "execution_count": 11
        },
        {
          "output_type": "display_data",
          "data": {
            "text/plain": [
              "<Figure size 640x480 with 2 Axes>"
            ],
            "image/png": "[encoded data removed]"
          },
          "metadata": {}
        }
      ]
    },
    {
      "cell_type": "code",
      "source": [
        "#from tensorflow.keras.models import Model, load_model\n",
        "#model = load_model('/content/drive/MyDrive/Colab Notebooks/cnn_dense121.h5')"
      ],
      "metadata": {
        "id": "rdMPtIApP8jg"
      },
      "execution_count": null,
      "outputs": []
    }
  ]
}