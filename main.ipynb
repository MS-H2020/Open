{
  "nbformat": 4,
  "nbformat_minor": 0,
  "metadata": {
    "colab": {
      "provenance": [],
      "include_colab_link": true
    },
    "kernelspec": {
      "name": "python3",
      "display_name": "Python 3"
    },
    "language_info": {
      "name": "python"
    }
  },
  "cells": [
    {
      "cell_type": "markdown",
      "metadata": {
        "id": "view-in-github",
        "colab_type": "text"
      },
      "source": [
        "<a href=\"https://colab.research.google.com/github/MS-H2020/Open/blob/main/main.ipynb\" target=\"_parent\"><img src=\"https://colab.research.google.com/assets/colab-badge.svg\" alt=\"Open In Colab\"/></a>"
      ]
    },
    {
      "cell_type": "markdown",
      "source": [
        "# [鋳造製品の欠陥検出](https://signate.jp/competitions/406)"
      ],
      "metadata": {
        "id": "KUUwxm83iSkn"
      }
    },
    {
      "cell_type": "markdown",
      "source": [
        "## Google Colabでの設定"
      ],
      "metadata": {
        "id": "qHmNdEavgoXU"
      }
    },
    {
      "cell_type": "code",
      "execution_count": 1,
      "metadata": {
        "colab": {
          "base_uri": "https://localhost:8080/"
        },
        "id": "Xl1IqO5HgZai",
        "outputId": "eb70ebd8-0d2d-4ad9-ea2e-7c5478acb8f4"
      },
      "outputs": [
        {
          "output_type": "stream",
          "name": "stdout",
          "text": [
            "Mounted at /content/drive\n"
          ]
        }
      ],
      "source": [
        "from google.colab import drive\n",
        "drive.mount('/content/drive')\n",
        "!cp \"/content/drive/MyDrive/Colab Notebooks/01_input.zip\" ."
      ]
    },
    {
      "cell_type": "code",
      "source": [
        "import sys\n",
        "sys.path.append('/content/drive/MyDrive/Colab Notebooks/')"
      ],
      "metadata": {
        "id": "-JQDwUTEkRgV"
      },
      "execution_count": 2,
      "outputs": []
    },
    {
      "cell_type": "code",
      "source": [
        "TEMP_DIR = \"./temp\"\n",
        "INPUT_DIR:str = TEMP_DIR + \"/01_input\"\n",
        "TRAIN_DIR:str = INPUT_DIR + \"/train_data\"\n",
        "TEST_DIR:str = INPUT_DIR + \"/test_data\"\n",
        "ANALYSIS_DIR:str = \"/content/drive/MyDrive/Colab Notebooks/03_code-analysis\"\n",
        "MODEL_DIR:str = \"/content/drive/MyDrive/Colab Notebooks//04_model\"\n",
        "SUBMISSION_DIR:str = '/content/drive/MyDrive/Colab Notebooks/05_submission'\n",
        "CHECKPOINT_PATH:str = MODEL_DIR"
      ],
      "metadata": {
        "id": "U0ve3w0vgwOI"
      },
      "execution_count": 3,
      "outputs": []
    },
    {
      "cell_type": "code",
      "source": [
        "import shutil\n",
        "import os\n",
        "\n",
        "if os.path.isdir(TEMP_DIR):\n",
        "  shutil.rmtree(TEMP_DIR)\n",
        "\n",
        "import glob\n",
        "import zipfile\n",
        "shutil.unpack_archive('01_input.zip', TEMP_DIR)"
      ],
      "metadata": {
        "id": "2GV0b4S4iib-"
      },
      "execution_count": 4,
      "outputs": []
    },
    {
      "cell_type": "markdown",
      "source": [
        "## メインコード"
      ],
      "metadata": {
        "id": "ed38v9YrjV35"
      }
    },
    {
      "cell_type": "code",
      "source": [
        "import os\n",
        "import time\n",
        "\n",
        "\"\"\"\n",
        "from util import Logger, Util\n",
        "logger = Logger()\n",
        "\"\"\"\n",
        "\n",
        "from typing import Optional\n",
        "\n",
        "import numpy as np\n",
        "import pandas as pd\n",
        "import matplotlib.pyplot as plt\n",
        "\n",
        "import tensorflow\n",
        "from tensorflow import keras\n",
        "from tensorflow.keras import models, datasets, layers, applications, optimizers\n",
        "from tensorflow.keras.layers import Dense, Dropout, Flatten\n",
        "from tensorflow.keras.preprocessing.image import ImageDataGenerator\n",
        "\n",
        "tensorflow.compat.v1.logging.set_verbosity(tensorflow.compat.v1.logging.ERROR)"
      ],
      "metadata": {
        "id": "e9bJV-rDjf70"
      },
      "execution_count": 5,
      "outputs": []
    },
    {
      "cell_type": "code",
      "source": [
        "############# Initial Setting #####################################\n",
        "\"\"\"\n",
        "INPUT_DIR:str = \"../01_input\"\n",
        "TRAIN_DIR:str = INPUT_DIR + \"/train\"\n",
        "TEST_DIR:str = INPUT_DIR + \"/test\"\n",
        "ANALYSIS_DIR:str = \"../03_code-analysis\"\n",
        "MODEL_DIR:str = \"../04_model\"\n",
        "SUBMISSION_DIR:str = '../05_submission'\n",
        "CHECKPOINT_PATH:str = MODEL_DIR\n",
        "\"\"\"\n",
        "\n",
        "IMG_WIDTH:int = 300\n",
        "IMG_HEIGHT:int = 300\n",
        "IMG_DEPTH:int = 3\n",
        "BATCH_SIZE:int = 16 #Default:32\n",
        "\n",
        "OneHold_or_Kfold : bool = True\n",
        "\n",
        "fold_num:int = 3 # Default:9\n",
        "architecture:str = \"mobile-net\"\n",
        "#architecture:str = \"DenseNet\"\n",
        "#architecture:str = \"VGG\"\n",
        "#architecture:str = \"efficient-net\"\n",
        "\n",
        "#model_ver:int = 1\n",
        "epochs:int = 50 # Defalut:50\n",
        "lr:float = 0.001 # Default:0.001\n",
        "\n",
        "#################################################################"
      ],
      "metadata": {
        "id": "FI0OvjXImtd3"
      },
      "execution_count": 6,
      "outputs": []
    },
    {
      "cell_type": "code",
      "source": [
        "# 不要なコード\n",
        "df = pd.read_csv(INPUT_DIR+\"/train.csv\")\n",
        "df\n",
        "############"
      ],
      "metadata": {
        "colab": {
          "base_uri": "https://localhost:8080/",
          "height": 419
        },
        "id": "kQ884uZdnRmd",
        "outputId": "0cb91bed-27dd-45ba-abc8-51784bfa3bd4"
      },
      "execution_count": null,
      "outputs": [
        {
          "output_type": "execute_result",
          "data": {
            "text/plain": [
              "                      id  target\n",
              "0    cast_def_0_335.jpeg       0\n",
              "1    cast_def_0_323.jpeg       0\n",
              "2     cast_def_0_61.jpeg       0\n",
              "3    cast_def_0_163.jpeg       0\n",
              "4    cast_def_0_175.jpeg       0\n",
              "..                   ...     ...\n",
              "245   cast_ok_0_346.jpeg       1\n",
              "246   cast_ok_0_307.jpeg       1\n",
              "247   cast_ok_0_242.jpeg       1\n",
              "248   cast_ok_0_184.jpeg       1\n",
              "249   cast_ok_0_350.jpeg       1\n",
              "\n",
              "[250 rows x 2 columns]"
            ],
            "text/html": [
              "\n",
              "  <div id=\"df-3cf5c603-1b52-4007-85bd-0fe3e8c849a1\" class=\"colab-df-container\">\n",
              "    <div>\n",
              "<style scoped>\n",
              "    .dataframe tbody tr th:only-of-type {\n",
              "        vertical-align: middle;\n",
              "    }\n",
              "\n",
              "    .dataframe tbody tr th {\n",
              "        vertical-align: top;\n",
              "    }\n",
              "\n",
              "    .dataframe thead th {\n",
              "        text-align: right;\n",
              "    }\n",
              "</style>\n",
              "<table border=\"1\" class=\"dataframe\">\n",
              "  <thead>\n",
              "    <tr style=\"text-align: right;\">\n",
              "      <th></th>\n",
              "      <th>id</th>\n",
              "      <th>target</th>\n",
              "    </tr>\n",
              "  </thead>\n",
              "  <tbody>\n",
              "    <tr>\n",
              "      <th>0</th>\n",
              "      <td>cast_def_0_335.jpeg</td>\n",
              "      <td>0</td>\n",
              "    </tr>\n",
              "    <tr>\n",
              "      <th>1</th>\n",
              "      <td>cast_def_0_323.jpeg</td>\n",
              "      <td>0</td>\n",
              "    </tr>\n",
              "    <tr>\n",
              "      <th>2</th>\n",
              "      <td>cast_def_0_61.jpeg</td>\n",
              "      <td>0</td>\n",
              "    </tr>\n",
              "    <tr>\n",
              "      <th>3</th>\n",
              "      <td>cast_def_0_163.jpeg</td>\n",
              "      <td>0</td>\n",
              "    </tr>\n",
              "    <tr>\n",
              "      <th>4</th>\n",
              "      <td>cast_def_0_175.jpeg</td>\n",
              "      <td>0</td>\n",
              "    </tr>\n",
              "    <tr>\n",
              "      <th>...</th>\n",
              "      <td>...</td>\n",
              "      <td>...</td>\n",
              "    </tr>\n",
              "    <tr>\n",
              "      <th>245</th>\n",
              "      <td>cast_ok_0_346.jpeg</td>\n",
              "      <td>1</td>\n",
              "    </tr>\n",
              "    <tr>\n",
              "      <th>246</th>\n",
              "      <td>cast_ok_0_307.jpeg</td>\n",
              "      <td>1</td>\n",
              "    </tr>\n",
              "    <tr>\n",
              "      <th>247</th>\n",
              "      <td>cast_ok_0_242.jpeg</td>\n",
              "      <td>1</td>\n",
              "    </tr>\n",
              "    <tr>\n",
              "      <th>248</th>\n",
              "      <td>cast_ok_0_184.jpeg</td>\n",
              "      <td>1</td>\n",
              "    </tr>\n",
              "    <tr>\n",
              "      <th>249</th>\n",
              "      <td>cast_ok_0_350.jpeg</td>\n",
              "      <td>1</td>\n",
              "    </tr>\n",
              "  </tbody>\n",
              "</table>\n",
              "<p>250 rows × 2 columns</p>\n",
              "</div>\n",
              "    <div class=\"colab-df-buttons\">\n",
              "\n",
              "  <div class=\"colab-df-container\">\n",
              "    <button class=\"colab-df-convert\" onclick=\"convertToInteractive('df-3cf5c603-1b52-4007-85bd-0fe3e8c849a1')\"\n",
              "            title=\"Convert this dataframe to an interactive table.\"\n",
              "            style=\"display:none;\">\n",
              "\n",
              "  <svg xmlns=\"http://www.w3.org/2000/svg\" height=\"24px\" viewBox=\"0 -960 960 960\">\n",
              "    <path d=\"M120-120v-720h720v720H120Zm60-500h600v-160H180v160Zm220 220h160v-160H400v160Zm0 220h160v-160H400v160ZM180-400h160v-160H180v160Zm440 0h160v-160H620v160ZM180-180h160v-160H180v160Zm440 0h160v-160H620v160Z\"/>\n",
              "  </svg>\n",
              "    </button>\n",
              "\n",
              "  <style>\n",
              "    .colab-df-container {\n",
              "      display:flex;\n",
              "      gap: 12px;\n",
              "    }\n",
              "\n",
              "    .colab-df-convert {\n",
              "      background-color: #E8F0FE;\n",
              "      border: none;\n",
              "      border-radius: 50%;\n",
              "      cursor: pointer;\n",
              "      display: none;\n",
              "      fill: #1967D2;\n",
              "      height: 32px;\n",
              "      padding: 0 0 0 0;\n",
              "      width: 32px;\n",
              "    }\n",
              "\n",
              "    .colab-df-convert:hover {\n",
              "      background-color: #E2EBFA;\n",
              "      box-shadow: 0px 1px 2px rgba(60, 64, 67, 0.3), 0px 1px 3px 1px rgba(60, 64, 67, 0.15);\n",
              "      fill: #174EA6;\n",
              "    }\n",
              "\n",
              "    .colab-df-buttons div {\n",
              "      margin-bottom: 4px;\n",
              "    }\n",
              "\n",
              "    [theme=dark] .colab-df-convert {\n",
              "      background-color: #3B4455;\n",
              "      fill: #D2E3FC;\n",
              "    }\n",
              "\n",
              "    [theme=dark] .colab-df-convert:hover {\n",
              "      background-color: #434B5C;\n",
              "      box-shadow: 0px 1px 3px 1px rgba(0, 0, 0, 0.15);\n",
              "      filter: drop-shadow(0px 1px 2px rgba(0, 0, 0, 0.3));\n",
              "      fill: #FFFFFF;\n",
              "    }\n",
              "  </style>\n",
              "\n",
              "    <script>\n",
              "      const buttonEl =\n",
              "        document.querySelector('#df-3cf5c603-1b52-4007-85bd-0fe3e8c849a1 button.colab-df-convert');\n",
              "      buttonEl.style.display =\n",
              "        google.colab.kernel.accessAllowed ? 'block' : 'none';\n",
              "\n",
              "      async function convertToInteractive(key) {\n",
              "        const element = document.querySelector('#df-3cf5c603-1b52-4007-85bd-0fe3e8c849a1');\n",
              "        const dataTable =\n",
              "          await google.colab.kernel.invokeFunction('convertToInteractive',\n",
              "                                                    [key], {});\n",
              "        if (!dataTable) return;\n",
              "\n",
              "        const docLinkHtml = 'Like what you see? Visit the ' +\n",
              "          '<a target=\"_blank\" href=https://colab.research.google.com/notebooks/data_table.ipynb>data table notebook</a>'\n",
              "          + ' to learn more about interactive tables.';\n",
              "        element.innerHTML = '';\n",
              "        dataTable['output_type'] = 'display_data';\n",
              "        await google.colab.output.renderOutput(dataTable, element);\n",
              "        const docLink = document.createElement('div');\n",
              "        docLink.innerHTML = docLinkHtml;\n",
              "        element.appendChild(docLink);\n",
              "      }\n",
              "    </script>\n",
              "  </div>\n",
              "\n",
              "\n",
              "<div id=\"df-e9de7688-db66-49fe-a806-2081ac3eae78\">\n",
              "  <button class=\"colab-df-quickchart\" onclick=\"quickchart('df-e9de7688-db66-49fe-a806-2081ac3eae78')\"\n",
              "            title=\"Suggest charts\"\n",
              "            style=\"display:none;\">\n",
              "\n",
              "<svg xmlns=\"http://www.w3.org/2000/svg\" height=\"24px\"viewBox=\"0 0 24 24\"\n",
              "     width=\"24px\">\n",
              "    <g>\n",
              "        <path d=\"M19 3H5c-1.1 0-2 .9-2 2v14c0 1.1.9 2 2 2h14c1.1 0 2-.9 2-2V5c0-1.1-.9-2-2-2zM9 17H7v-7h2v7zm4 0h-2V7h2v10zm4 0h-2v-4h2v4z\"/>\n",
              "    </g>\n",
              "</svg>\n",
              "  </button>\n",
              "\n",
              "<style>\n",
              "  .colab-df-quickchart {\n",
              "      --bg-color: #E8F0FE;\n",
              "      --fill-color: #1967D2;\n",
              "      --hover-bg-color: #E2EBFA;\n",
              "      --hover-fill-color: #174EA6;\n",
              "      --disabled-fill-color: #AAA;\n",
              "      --disabled-bg-color: #DDD;\n",
              "  }\n",
              "\n",
              "  [theme=dark] .colab-df-quickchart {\n",
              "      --bg-color: #3B4455;\n",
              "      --fill-color: #D2E3FC;\n",
              "      --hover-bg-color: #434B5C;\n",
              "      --hover-fill-color: #FFFFFF;\n",
              "      --disabled-bg-color: #3B4455;\n",
              "      --disabled-fill-color: #666;\n",
              "  }\n",
              "\n",
              "  .colab-df-quickchart {\n",
              "    background-color: var(--bg-color);\n",
              "    border: none;\n",
              "    border-radius: 50%;\n",
              "    cursor: pointer;\n",
              "    display: none;\n",
              "    fill: var(--fill-color);\n",
              "    height: 32px;\n",
              "    padding: 0;\n",
              "    width: 32px;\n",
              "  }\n",
              "\n",
              "  .colab-df-quickchart:hover {\n",
              "    background-color: var(--hover-bg-color);\n",
              "    box-shadow: 0 1px 2px rgba(60, 64, 67, 0.3), 0 1px 3px 1px rgba(60, 64, 67, 0.15);\n",
              "    fill: var(--button-hover-fill-color);\n",
              "  }\n",
              "\n",
              "  .colab-df-quickchart-complete:disabled,\n",
              "  .colab-df-quickchart-complete:disabled:hover {\n",
              "    background-color: var(--disabled-bg-color);\n",
              "    fill: var(--disabled-fill-color);\n",
              "    box-shadow: none;\n",
              "  }\n",
              "\n",
              "  .colab-df-spinner {\n",
              "    border: 2px solid var(--fill-color);\n",
              "    border-color: transparent;\n",
              "    border-bottom-color: var(--fill-color);\n",
              "    animation:\n",
              "      spin 1s steps(1) infinite;\n",
              "  }\n",
              "\n",
              "  @keyframes spin {\n",
              "    0% {\n",
              "      border-color: transparent;\n",
              "      border-bottom-color: var(--fill-color);\n",
              "      border-left-color: var(--fill-color);\n",
              "    }\n",
              "    20% {\n",
              "      border-color: transparent;\n",
              "      border-left-color: var(--fill-color);\n",
              "      border-top-color: var(--fill-color);\n",
              "    }\n",
              "    30% {\n",
              "      border-color: transparent;\n",
              "      border-left-color: var(--fill-color);\n",
              "      border-top-color: var(--fill-color);\n",
              "      border-right-color: var(--fill-color);\n",
              "    }\n",
              "    40% {\n",
              "      border-color: transparent;\n",
              "      border-right-color: var(--fill-color);\n",
              "      border-top-color: var(--fill-color);\n",
              "    }\n",
              "    60% {\n",
              "      border-color: transparent;\n",
              "      border-right-color: var(--fill-color);\n",
              "    }\n",
              "    80% {\n",
              "      border-color: transparent;\n",
              "      border-right-color: var(--fill-color);\n",
              "      border-bottom-color: var(--fill-color);\n",
              "    }\n",
              "    90% {\n",
              "      border-color: transparent;\n",
              "      border-bottom-color: var(--fill-color);\n",
              "    }\n",
              "  }\n",
              "</style>\n",
              "\n",
              "  <script>\n",
              "    async function quickchart(key) {\n",
              "      const quickchartButtonEl =\n",
              "        document.querySelector('#' + key + ' button');\n",
              "      quickchartButtonEl.disabled = true;  // To prevent multiple clicks.\n",
              "      quickchartButtonEl.classList.add('colab-df-spinner');\n",
              "      try {\n",
              "        const charts = await google.colab.kernel.invokeFunction(\n",
              "            'suggestCharts', [key], {});\n",
              "      } catch (error) {\n",
              "        console.error('Error during call to suggestCharts:', error);\n",
              "      }\n",
              "      quickchartButtonEl.classList.remove('colab-df-spinner');\n",
              "      quickchartButtonEl.classList.add('colab-df-quickchart-complete');\n",
              "    }\n",
              "    (() => {\n",
              "      let quickchartButtonEl =\n",
              "        document.querySelector('#df-e9de7688-db66-49fe-a806-2081ac3eae78 button');\n",
              "      quickchartButtonEl.style.display =\n",
              "        google.colab.kernel.accessAllowed ? 'block' : 'none';\n",
              "    })();\n",
              "  </script>\n",
              "</div>\n",
              "\n",
              "  <div id=\"id_995d52af-008d-4ce2-bed9-b850b0d9bc98\">\n",
              "    <style>\n",
              "      .colab-df-generate {\n",
              "        background-color: #E8F0FE;\n",
              "        border: none;\n",
              "        border-radius: 50%;\n",
              "        cursor: pointer;\n",
              "        display: none;\n",
              "        fill: #1967D2;\n",
              "        height: 32px;\n",
              "        padding: 0 0 0 0;\n",
              "        width: 32px;\n",
              "      }\n",
              "\n",
              "      .colab-df-generate:hover {\n",
              "        background-color: #E2EBFA;\n",
              "        box-shadow: 0px 1px 2px rgba(60, 64, 67, 0.3), 0px 1px 3px 1px rgba(60, 64, 67, 0.15);\n",
              "        fill: #174EA6;\n",
              "      }\n",
              "\n",
              "      [theme=dark] .colab-df-generate {\n",
              "        background-color: #3B4455;\n",
              "        fill: #D2E3FC;\n",
              "      }\n",
              "\n",
              "      [theme=dark] .colab-df-generate:hover {\n",
              "        background-color: #434B5C;\n",
              "        box-shadow: 0px 1px 3px 1px rgba(0, 0, 0, 0.15);\n",
              "        filter: drop-shadow(0px 1px 2px rgba(0, 0, 0, 0.3));\n",
              "        fill: #FFFFFF;\n",
              "      }\n",
              "    </style>\n",
              "    <button class=\"colab-df-generate\" onclick=\"generateWithVariable('df')\"\n",
              "            title=\"Generate code using this dataframe.\"\n",
              "            style=\"display:none;\">\n",
              "\n",
              "  <svg xmlns=\"http://www.w3.org/2000/svg\" height=\"24px\"viewBox=\"0 0 24 24\"\n",
              "       width=\"24px\">\n",
              "    <path d=\"M7,19H8.4L18.45,9,17,7.55,7,17.6ZM5,21V16.75L18.45,3.32a2,2,0,0,1,2.83,0l1.4,1.43a1.91,1.91,0,0,1,.58,1.4,1.91,1.91,0,0,1-.58,1.4L9.25,21ZM18.45,9,17,7.55Zm-12,3A5.31,5.31,0,0,0,4.9,8.1,5.31,5.31,0,0,0,1,6.5,5.31,5.31,0,0,0,4.9,4.9,5.31,5.31,0,0,0,6.5,1,5.31,5.31,0,0,0,8.1,4.9,5.31,5.31,0,0,0,12,6.5,5.46,5.46,0,0,0,6.5,12Z\"/>\n",
              "  </svg>\n",
              "    </button>\n",
              "    <script>\n",
              "      (() => {\n",
              "      const buttonEl =\n",
              "        document.querySelector('#id_995d52af-008d-4ce2-bed9-b850b0d9bc98 button.colab-df-generate');\n",
              "      buttonEl.style.display =\n",
              "        google.colab.kernel.accessAllowed ? 'block' : 'none';\n",
              "\n",
              "      buttonEl.onclick = () => {\n",
              "        google.colab.notebook.generateWithVariable('df');\n",
              "      }\n",
              "      })();\n",
              "    </script>\n",
              "  </div>\n",
              "\n",
              "    </div>\n",
              "  </div>\n"
            ],
            "application/vnd.google.colaboratory.intrinsic+json": {
              "type": "dataframe",
              "variable_name": "df",
              "summary": "{\n  \"name\": \"df\",\n  \"rows\": 250,\n  \"fields\": [\n    {\n      \"column\": \"id\",\n      \"properties\": {\n        \"dtype\": \"string\",\n        \"num_unique_values\": 250,\n        \"samples\": [\n          \"cast_def_0_2403.jpeg\",\n          \"cast_def_0_122.jpeg\",\n          \"cast_def_0_19.jpeg\"\n        ],\n        \"semantic_type\": \"\",\n        \"description\": \"\"\n      }\n    },\n    {\n      \"column\": \"target\",\n      \"properties\": {\n        \"dtype\": \"number\",\n        \"std\": 0,\n        \"min\": 0,\n        \"max\": 1,\n        \"num_unique_values\": 2,\n        \"samples\": [\n          1,\n          0\n        ],\n        \"semantic_type\": \"\",\n        \"description\": \"\"\n      }\n    }\n  ]\n}"
            }
          },
          "metadata": {},
          "execution_count": 7
        }
      ]
    },
    {
      "cell_type": "code",
      "source": [
        "#logger.info('start def make_df()')\n",
        "\n",
        "df = pd.read_csv(INPUT_DIR+\"/train.csv\")\n",
        "df['target'] = df['target'].astype(str)\n",
        "\n",
        "#logger.info('end def make_df()')"
      ],
      "metadata": {
        "id": "T6rDUUG3nBEP"
      },
      "execution_count": 7,
      "outputs": []
    },
    {
      "cell_type": "markdown",
      "source": [
        "## One-Hold法"
      ],
      "metadata": {
        "id": "rHXs2TixEYIv"
      }
    },
    {
      "cell_type": "code",
      "source": [
        "#logger.info('start def fit_model_one_hold()')\n",
        "\n",
        "from sklearn.model_selection import train_test_split\n",
        "train_x, train_y = train_test_split(df, test_size=0.1, stratify=df['target'], random_state=2)\n",
        "\n",
        "metrics = ['loss', 'accuracy']  # 使用する評価関数を指定\n",
        "datagen = ImageDataGenerator(\n",
        "  featurewise_center=False,\n",
        "  samplewise_center=False,\n",
        "  featurewise_std_normalization=False,\n",
        "  samplewise_std_normalization=False,\n",
        "  zca_whitening=False,\n",
        "  zca_epsilon=1e-06,\n",
        "  rotation_range=180,\n",
        "  width_shift_range=0.05,\n",
        "  height_shift_range=0.05,\n",
        "  brightness_range=None,\n",
        "  shear_range=30.0,\n",
        "  zoom_range=0.0,\n",
        "  channel_shift_range=0.0,\n",
        "  fill_mode='nearest',\n",
        "  cval=0.0,\n",
        "  horizontal_flip=True,\n",
        "  vertical_flip=True,\n",
        "  rescale=1./255,\n",
        "  preprocessing_function=None,\n",
        "  data_format=None,\n",
        "  validation_split=0.2,\n",
        "  interpolation_order=1,\n",
        "  dtype=None\n",
        "                            )\n",
        "\n",
        "train_generator = datagen.flow_from_dataframe(\n",
        "                            dataframe = train_x,\n",
        "                            directory = TRAIN_DIR,\n",
        "                            x_col = \"id\",\n",
        "                            y_col = \"target\",\n",
        "                            target_size=(IMG_WIDTH,IMG_HEIGHT),\n",
        "                            batch_size=BATCH_SIZE,\n",
        "                            class_mode='binary',\n",
        "                            shuffle=False\n",
        ")\n",
        "\n",
        "val_generator = datagen.flow_from_dataframe(\n",
        "                            dataframe = train_y,\n",
        "                            directory = TRAIN_DIR,\n",
        "                            x_col = \"id\",\n",
        "                            y_col = \"target\",\n",
        "                            target_size=(IMG_WIDTH,IMG_HEIGHT),\n",
        "                            batch_size=BATCH_SIZE,\n",
        "                            class_mode='binary',\n",
        "                            shuffle=False\n",
        ")"
      ],
      "metadata": {
        "colab": {
          "base_uri": "https://localhost:8080/"
        },
        "id": "Gi-6WRFNoNLi",
        "outputId": "db2b0db8-d336-4d2d-a863-0e9344669c5e"
      },
      "execution_count": 8,
      "outputs": [
        {
          "output_type": "stream",
          "name": "stdout",
          "text": [
            "Found 225 validated image filenames belonging to 2 classes.\n",
            "Found 25 validated image filenames belonging to 2 classes.\n"
          ]
        }
      ]
    },
    {
      "cell_type": "code",
      "source": [
        "#logger.info('start def build_model()')\n",
        "\n",
        "if architecture == \"mobile-net\":\n",
        "    base_model = applications.mobilenet.MobileNet(weights='imagenet',\n",
        "                                                                    include_top=False,\n",
        "                                                                    input_shape=(IMG_HEIGHT, IMG_WIDTH, IMG_DEPTH)\n",
        "                                                                  )\n",
        "elif architecture == \"DenseNet\":\n",
        "    base_model = applications.densenet.DenseNet121(weights='imagenet',\n",
        "                                                                    include_top=False,\n",
        "                                                                    input_shape=(IMG_HEIGHT, IMG_WIDTH, IMG_DEPTH)\n",
        "                                                                  )\n",
        "elif architecture == \"VGG\":\n",
        "    base_model = applications.vgg19.VGG19(weights='imagenet',\n",
        "                                                                    include_top=False,\n",
        "                                                                    input_shape=(IMG_HEIGHT, IMG_WIDTH, IMG_DEPTH)\n",
        "                                                                  )\n",
        "elif architecture == \"efficient-net\":\n",
        "    base_model = applications.efficientnet.EfficientNetB0(weights='imagenet',\n",
        "                                                                    include_top=False,\n",
        "                                                                    input_shape=(IMG_HEIGHT, IMG_WIDTH, IMG_DEPTH)\n",
        "                                                                  )\n",
        "\n",
        "base_model.trainable = False\n",
        "\"\"\"\n",
        "for layer in base_model.layers[-60:]:\n",
        "    layer.trainable = True\n",
        "\"\"\"\n",
        "\n",
        "model = models.Sequential([\n",
        "base_model,\n",
        "layers.Flatten(),\n",
        "layers.Dense(1024, activation='relu'),\n",
        "layers.Dropout(0.1),\n",
        "layers.Dense(512, activation='relu'),\n",
        "layers.Dropout(0.2),\n",
        "layers.Dense(512, activation='relu'),\n",
        "layers.Dense(1, activation='sigmoid')\n",
        "])\n",
        "\n",
        "adam_low_rate = optimizers.legacy.Adam(learning_rate=lr)\n",
        "\n",
        "# モデルを構築\n",
        "model.compile(optimizer=adam_low_rate,\n",
        "              loss=\"binary_crossentropy\",\n",
        "              metrics=['accuracy'])\n",
        "\n",
        "#logger.info('end def build_model()')"
      ],
      "metadata": {
        "id": "26zX6idioERB",
        "colab": {
          "base_uri": "https://localhost:8080/"
        },
        "outputId": "2b045474-e684-4ec3-994e-8b1a06856e22"
      },
      "execution_count": null,
      "outputs": [
        {
          "output_type": "stream",
          "name": "stdout",
          "text": [
            "Downloading data from https://storage.googleapis.com/tensorflow/keras-applications/mobilenet/mobilenet_1_0_224_tf_no_top.h5\n",
            "17225924/17225924 [==============================] - 0s 0us/step\n"
          ]
        }
      ]
    },
    {
      "cell_type": "code",
      "source": [
        "# モデルの概要\n",
        "model.summary()"
      ],
      "metadata": {
        "colab": {
          "base_uri": "https://localhost:8080/"
        },
        "id": "zcNXvYRSC1kk",
        "outputId": "35bc907b-bf4b-4e77-af7b-5ab35e066c83"
      },
      "execution_count": null,
      "outputs": [
        {
          "output_type": "stream",
          "name": "stdout",
          "text": [
            "Model: \"sequential\"\n",
            "_________________________________________________________________\n",
            " Layer (type)                Output Shape              Param #   \n",
            "=================================================================\n",
            " mobilenet_1.00_224 (Functi  (None, 9, 9, 1024)        3228864   \n",
            " onal)                                                           \n",
            "                                                                 \n",
            " flatten (Flatten)           (None, 82944)             0         \n",
            "                                                                 \n",
            " dense (Dense)               (None, 1024)              84935680  \n",
            "                                                                 \n",
            " dropout (Dropout)           (None, 1024)              0         \n",
            "                                                                 \n",
            " dense_1 (Dense)             (None, 512)               524800    \n",
            "                                                                 \n",
            " dropout_1 (Dropout)         (None, 512)               0         \n",
            "                                                                 \n",
            " dense_2 (Dense)             (None, 512)               262656    \n",
            "                                                                 \n",
            " dense_3 (Dense)             (None, 1)                 513       \n",
            "                                                                 \n",
            "=================================================================\n",
            "Total params: 88952513 (339.33 MB)\n",
            "Trainable params: 85723649 (327.01 MB)\n",
            "Non-trainable params: 3228864 (12.32 MB)\n",
            "_________________________________________________________________\n"
          ]
        }
      ]
    },
    {
      "cell_type": "code",
      "source": [
        "#logger.info(f'start traing')\n",
        "# Early stoppingを適用してフィッティング\n",
        "history = model.fit(train_generator,\n",
        "                    validation_data = val_generator,\n",
        "                    steps_per_epoch = train_generator.samples // BATCH_SIZE,\n",
        "                    validation_steps = val_generator.samples // BATCH_SIZE,\n",
        "                    verbose=True,\n",
        "                    #callbacks=[tensorflow.keras.callbacks.EarlyStopping(monitor='val_loss', min_delta=0, patience=10, verbose=1),\n",
        "                    #           tensorflowkeras.callbacks.ModelCheckpoint(filepath=checkpoint_path, save_weights_only=True, verbose=1)],\n",
        "                    callbacks=[tensorflow.keras.callbacks.EarlyStopping(monitor='val_loss', min_delta=0, patience=10, verbose=1)],\n",
        "                    epochs = epochs,\n",
        "                    workers = 1\n",
        ")\n",
        "\n",
        "#logger.info(f'end traing')\n",
        "\n",
        "# 評価する。\n",
        "test_loss, test_acc = model.evaluate(val_generator)\n",
        "#logger.result(f\"test loss: {test_loss:.2f}, test accuracy: {test_acc:.2%}\")\n",
        "\n",
        "model_path = os.path.join(MODEL_DIR+'/cnn_'+architecture+'_OneHold.h5')\n",
        "model.save(model_path)\n",
        "\n",
        "plt.figure(figsize=(10, 5))  # グラフを表示するスペースを用意\n",
        "\n",
        "for i in range(len(metrics)):\n",
        "  metric = metrics[i]\n",
        "\n",
        "  plt.subplot(1, 2, i+1)  # figureを1×2のスペースに分ける\n",
        "  plt.title(metric)\n",
        "\n",
        "  plt_train = history.history[metric]\n",
        "  plt_valid  = history.history['val_' + metric]\n",
        "\n",
        "  plt.plot(plt_train, label='train')\n",
        "  plt.plot(plt_valid, label='valid')\n",
        "  plt.legend()\n",
        "\n",
        "analysis_path = os.path.join(ANALYSIS_DIR+\"/metrics_one_hold.png\")\n",
        "plt.savefig(analysis_path)\n",
        "\n",
        "\n",
        "#logger.info('end def fit_model_one_hold')\n",
        "\n",
        "import shutil\n",
        "import glob\n",
        "\n",
        "\n",
        "#os.makedirs(TEST_DIR+'/dummy/', exist_ok=True)\n",
        "#for image_path in glob.glob(TEST_DIR + '/*.jpeg'):\n",
        "#    shutil.move(image_path, TEST_DIR + '/dummy')\n",
        "\n",
        "#logger.info('start predict by one_hold')\n",
        "\n",
        "ans = pd.read_csv(INPUT_DIR+\"/sample_submission.csv\",  header=None)\n",
        "test_datagen = ImageDataGenerator(rescale=1./255)\n",
        "test_generator = test_datagen.flow_from_dataframe(ans, TEST_DIR, x_col=0, target_size=(IMG_WIDTH,IMG_HEIGHT),\n",
        "                                                  batch_size=BATCH_SIZE, class_mode=None, shuffle=False)\n",
        "\n",
        "prediction = model.predict(test_generator)\n",
        "prediction = np.where(prediction < 0.5, 0, 1)\n",
        "\n",
        "ans[1] = prediction\n",
        "\n",
        "ans.to_csv(path_or_buf = SUBMISSION_DIR+\"/submission_.csv\", index=False, header=None)\n",
        "#logger.info('start predict by one_hold')"
      ],
      "metadata": {
        "colab": {
          "base_uri": "https://localhost:8080/",
          "height": 1000
        },
        "id": "Dxgrky4r7T5c",
        "outputId": "316cd748-612f-437e-e930-8a8b64ae00cf"
      },
      "execution_count": null,
      "outputs": [
        {
          "output_type": "stream",
          "name": "stdout",
          "text": [
            "Epoch 1/50\n",
            "14/14 [==============================] - 40s 3s/step - loss: 14.6106 - accuracy: 0.4976 - val_loss: 39.2821 - val_accuracy: 0.5625\n",
            "Epoch 2/50\n",
            "14/14 [==============================] - 35s 3s/step - loss: 16.8151 - accuracy: 0.5120 - val_loss: 2.9331 - val_accuracy: 0.5625\n",
            "Epoch 3/50\n",
            "14/14 [==============================] - 35s 3s/step - loss: 4.7587 - accuracy: 0.5933 - val_loss: 2.0373 - val_accuracy: 0.6250\n",
            "Epoch 4/50\n",
            "14/14 [==============================] - 37s 3s/step - loss: 2.1854 - accuracy: 0.6746 - val_loss: 0.5560 - val_accuracy: 0.8750\n",
            "Epoch 5/50\n",
            "14/14 [==============================] - 38s 3s/step - loss: 1.6663 - accuracy: 0.7368 - val_loss: 3.2916 - val_accuracy: 0.6250\n",
            "Epoch 6/50\n",
            "14/14 [==============================] - 36s 3s/step - loss: 1.8358 - accuracy: 0.7512 - val_loss: 1.6844 - val_accuracy: 0.7500\n",
            "Epoch 7/50\n",
            "14/14 [==============================] - 36s 3s/step - loss: 1.9774 - accuracy: 0.7703 - val_loss: 2.1769 - val_accuracy: 0.6875\n",
            "Epoch 8/50\n",
            "14/14 [==============================] - 38s 3s/step - loss: 0.7884 - accuracy: 0.8086 - val_loss: 0.0493 - val_accuracy: 1.0000\n",
            "Epoch 9/50\n",
            "14/14 [==============================] - 39s 3s/step - loss: 0.2911 - accuracy: 0.9196 - val_loss: 0.1736 - val_accuracy: 0.9375\n",
            "Epoch 10/50\n",
            "14/14 [==============================] - 36s 3s/step - loss: 0.0869 - accuracy: 0.9617 - val_loss: 0.0177 - val_accuracy: 1.0000\n",
            "Epoch 11/50\n",
            "14/14 [==============================] - 39s 3s/step - loss: 0.3768 - accuracy: 0.9139 - val_loss: 0.3575 - val_accuracy: 0.9375\n",
            "Epoch 12/50\n",
            "14/14 [==============================] - 36s 3s/step - loss: 0.1956 - accuracy: 0.9282 - val_loss: 0.0312 - val_accuracy: 1.0000\n",
            "Epoch 13/50\n",
            "14/14 [==============================] - 35s 2s/step - loss: 0.0893 - accuracy: 0.9713 - val_loss: 0.1081 - val_accuracy: 0.9375\n",
            "Epoch 14/50\n",
            "14/14 [==============================] - 37s 3s/step - loss: 0.2493 - accuracy: 0.9282 - val_loss: 1.0133 - val_accuracy: 0.7500\n",
            "Epoch 15/50\n",
            "14/14 [==============================] - 39s 3s/step - loss: 0.3280 - accuracy: 0.8995 - val_loss: 0.6244 - val_accuracy: 0.8125\n",
            "Epoch 16/50\n",
            "14/14 [==============================] - 36s 3s/step - loss: 0.2362 - accuracy: 0.9234 - val_loss: 0.0849 - val_accuracy: 1.0000\n",
            "Epoch 17/50\n",
            "14/14 [==============================] - 35s 3s/step - loss: 0.1144 - accuracy: 0.9522 - val_loss: 0.0173 - val_accuracy: 1.0000\n",
            "Epoch 18/50\n",
            "14/14 [==============================] - 37s 3s/step - loss: 0.0850 - accuracy: 0.9732 - val_loss: 0.0037 - val_accuracy: 1.0000\n",
            "Epoch 19/50\n",
            "14/14 [==============================] - 37s 3s/step - loss: 0.0313 - accuracy: 0.9809 - val_loss: 0.1094 - val_accuracy: 0.9375\n",
            "Epoch 20/50\n",
            "14/14 [==============================] - 40s 3s/step - loss: 0.1060 - accuracy: 0.9617 - val_loss: 0.1687 - val_accuracy: 0.9375\n",
            "Epoch 21/50\n",
            "14/14 [==============================] - 36s 3s/step - loss: 0.0480 - accuracy: 0.9904 - val_loss: 0.0569 - val_accuracy: 0.9375\n",
            "Epoch 22/50\n",
            "14/14 [==============================] - 36s 3s/step - loss: 0.0182 - accuracy: 0.9952 - val_loss: 0.0039 - val_accuracy: 1.0000\n",
            "Epoch 23/50\n",
            "14/14 [==============================] - 35s 2s/step - loss: 0.0510 - accuracy: 0.9761 - val_loss: 0.0414 - val_accuracy: 1.0000\n",
            "Epoch 24/50\n",
            "14/14 [==============================] - 37s 2s/step - loss: 0.0353 - accuracy: 0.9952 - val_loss: 0.0374 - val_accuracy: 1.0000\n",
            "Epoch 25/50\n",
            "14/14 [==============================] - 36s 3s/step - loss: 0.0487 - accuracy: 0.9809 - val_loss: 0.1134 - val_accuracy: 0.9375\n",
            "Epoch 26/50\n",
            "14/14 [==============================] - 37s 3s/step - loss: 0.0565 - accuracy: 0.9761 - val_loss: 0.0343 - val_accuracy: 1.0000\n",
            "Epoch 27/50\n",
            "14/14 [==============================] - 39s 3s/step - loss: 0.0468 - accuracy: 0.9856 - val_loss: 0.1628 - val_accuracy: 0.9375\n",
            "Epoch 28/50\n",
            "14/14 [==============================] - 36s 3s/step - loss: 0.2782 - accuracy: 0.9569 - val_loss: 0.3202 - val_accuracy: 0.8750\n",
            "Epoch 28: early stopping\n",
            "2/2 [==============================] - 3s 661ms/step - loss: 0.7508 - accuracy: 0.8800\n"
          ]
        },
        {
          "output_type": "stream",
          "name": "stderr",
          "text": [
            "/usr/local/lib/python3.10/dist-packages/keras/src/engine/training.py:3103: UserWarning: You are saving your model as an HDF5 file via `model.save()`. This file format is considered legacy. We recommend using instead the native Keras format, e.g. `model.save('my_model.keras')`.\n",
            "  saving_api.save_model(\n"
          ]
        },
        {
          "output_type": "error",
          "ename": "FileNotFoundError",
          "evalue": "[Errno 2] No such file or directory: '/content/drive/MyDrive/Colab Notebooks/03_code-analysis/metrics_one_hold.png'",
          "traceback": [
            "\u001b[0;31m---------------------------------------------------------------------------\u001b[0m",
            "\u001b[0;31mFileNotFoundError\u001b[0m                         Traceback (most recent call last)",
            "\u001b[0;32m<ipython-input-12-516f632c4524>\u001b[0m in \u001b[0;36m<cell line: 40>\u001b[0;34m()\u001b[0m\n\u001b[1;32m     38\u001b[0m \u001b[0;34m\u001b[0m\u001b[0m\n\u001b[1;32m     39\u001b[0m \u001b[0manalysis_path\u001b[0m \u001b[0;34m=\u001b[0m \u001b[0mos\u001b[0m\u001b[0;34m.\u001b[0m\u001b[0mpath\u001b[0m\u001b[0;34m.\u001b[0m\u001b[0mjoin\u001b[0m\u001b[0;34m(\u001b[0m\u001b[0mANALYSIS_DIR\u001b[0m\u001b[0;34m+\u001b[0m\u001b[0;34m\"/metrics_one_hold.png\"\u001b[0m\u001b[0;34m)\u001b[0m\u001b[0;34m\u001b[0m\u001b[0;34m\u001b[0m\u001b[0m\n\u001b[0;32m---> 40\u001b[0;31m \u001b[0mplt\u001b[0m\u001b[0;34m.\u001b[0m\u001b[0msavefig\u001b[0m\u001b[0;34m(\u001b[0m\u001b[0manalysis_path\u001b[0m\u001b[0;34m)\u001b[0m\u001b[0;34m\u001b[0m\u001b[0;34m\u001b[0m\u001b[0m\n\u001b[0m\u001b[1;32m     41\u001b[0m \u001b[0;34m\u001b[0m\u001b[0m\n\u001b[1;32m     42\u001b[0m \u001b[0;34m\u001b[0m\u001b[0m\n",
            "\u001b[0;32m/usr/local/lib/python3.10/dist-packages/matplotlib/pyplot.py\u001b[0m in \u001b[0;36msavefig\u001b[0;34m(*args, **kwargs)\u001b[0m\n\u001b[1;32m   1021\u001b[0m \u001b[0;32mdef\u001b[0m \u001b[0msavefig\u001b[0m\u001b[0;34m(\u001b[0m\u001b[0;34m*\u001b[0m\u001b[0margs\u001b[0m\u001b[0;34m,\u001b[0m \u001b[0;34m**\u001b[0m\u001b[0mkwargs\u001b[0m\u001b[0;34m)\u001b[0m\u001b[0;34m:\u001b[0m\u001b[0;34m\u001b[0m\u001b[0;34m\u001b[0m\u001b[0m\n\u001b[1;32m   1022\u001b[0m     \u001b[0mfig\u001b[0m \u001b[0;34m=\u001b[0m \u001b[0mgcf\u001b[0m\u001b[0;34m(\u001b[0m\u001b[0;34m)\u001b[0m\u001b[0;34m\u001b[0m\u001b[0;34m\u001b[0m\u001b[0m\n\u001b[0;32m-> 1023\u001b[0;31m     \u001b[0mres\u001b[0m \u001b[0;34m=\u001b[0m \u001b[0mfig\u001b[0m\u001b[0;34m.\u001b[0m\u001b[0msavefig\u001b[0m\u001b[0;34m(\u001b[0m\u001b[0;34m*\u001b[0m\u001b[0margs\u001b[0m\u001b[0;34m,\u001b[0m \u001b[0;34m**\u001b[0m\u001b[0mkwargs\u001b[0m\u001b[0;34m)\u001b[0m\u001b[0;34m\u001b[0m\u001b[0;34m\u001b[0m\u001b[0m\n\u001b[0m\u001b[1;32m   1024\u001b[0m     \u001b[0mfig\u001b[0m\u001b[0;34m.\u001b[0m\u001b[0mcanvas\u001b[0m\u001b[0;34m.\u001b[0m\u001b[0mdraw_idle\u001b[0m\u001b[0;34m(\u001b[0m\u001b[0;34m)\u001b[0m  \u001b[0;31m# Need this if 'transparent=True', to reset colors.\u001b[0m\u001b[0;34m\u001b[0m\u001b[0;34m\u001b[0m\u001b[0m\n\u001b[1;32m   1025\u001b[0m     \u001b[0;32mreturn\u001b[0m \u001b[0mres\u001b[0m\u001b[0;34m\u001b[0m\u001b[0;34m\u001b[0m\u001b[0m\n",
            "\u001b[0;32m/usr/local/lib/python3.10/dist-packages/matplotlib/figure.py\u001b[0m in \u001b[0;36msavefig\u001b[0;34m(self, fname, transparent, **kwargs)\u001b[0m\n\u001b[1;32m   3341\u001b[0m                         ax.patch._cm_set(facecolor='none', edgecolor='none'))\n\u001b[1;32m   3342\u001b[0m \u001b[0;34m\u001b[0m\u001b[0m\n\u001b[0;32m-> 3343\u001b[0;31m             \u001b[0mself\u001b[0m\u001b[0;34m.\u001b[0m\u001b[0mcanvas\u001b[0m\u001b[0;34m.\u001b[0m\u001b[0mprint_figure\u001b[0m\u001b[0;34m(\u001b[0m\u001b[0mfname\u001b[0m\u001b[0;34m,\u001b[0m \u001b[0;34m**\u001b[0m\u001b[0mkwargs\u001b[0m\u001b[0;34m)\u001b[0m\u001b[0;34m\u001b[0m\u001b[0;34m\u001b[0m\u001b[0m\n\u001b[0m\u001b[1;32m   3344\u001b[0m \u001b[0;34m\u001b[0m\u001b[0m\n\u001b[1;32m   3345\u001b[0m     def ginput(self, n=1, timeout=30, show_clicks=True,\n",
            "\u001b[0;32m/usr/local/lib/python3.10/dist-packages/matplotlib/backend_bases.py\u001b[0m in \u001b[0;36mprint_figure\u001b[0;34m(self, filename, dpi, facecolor, edgecolor, orientation, format, bbox_inches, pad_inches, bbox_extra_artists, backend, **kwargs)\u001b[0m\n\u001b[1;32m   2364\u001b[0m                 \u001b[0;31m# force the figure dpi to 72), so we need to set it again here.\u001b[0m\u001b[0;34m\u001b[0m\u001b[0;34m\u001b[0m\u001b[0m\n\u001b[1;32m   2365\u001b[0m                 \u001b[0;32mwith\u001b[0m \u001b[0mcbook\u001b[0m\u001b[0;34m.\u001b[0m\u001b[0m_setattr_cm\u001b[0m\u001b[0;34m(\u001b[0m\u001b[0mself\u001b[0m\u001b[0;34m.\u001b[0m\u001b[0mfigure\u001b[0m\u001b[0;34m,\u001b[0m \u001b[0mdpi\u001b[0m\u001b[0;34m=\u001b[0m\u001b[0mdpi\u001b[0m\u001b[0;34m)\u001b[0m\u001b[0;34m:\u001b[0m\u001b[0;34m\u001b[0m\u001b[0;34m\u001b[0m\u001b[0m\n\u001b[0;32m-> 2366\u001b[0;31m                     result = print_method(\n\u001b[0m\u001b[1;32m   2367\u001b[0m                         \u001b[0mfilename\u001b[0m\u001b[0;34m,\u001b[0m\u001b[0;34m\u001b[0m\u001b[0;34m\u001b[0m\u001b[0m\n\u001b[1;32m   2368\u001b[0m                         \u001b[0mfacecolor\u001b[0m\u001b[0;34m=\u001b[0m\u001b[0mfacecolor\u001b[0m\u001b[0;34m,\u001b[0m\u001b[0;34m\u001b[0m\u001b[0;34m\u001b[0m\u001b[0m\n",
            "\u001b[0;32m/usr/local/lib/python3.10/dist-packages/matplotlib/backend_bases.py\u001b[0m in \u001b[0;36m<lambda>\u001b[0;34m(*args, **kwargs)\u001b[0m\n\u001b[1;32m   2230\u001b[0m                 \"bbox_inches_restore\"}\n\u001b[1;32m   2231\u001b[0m             \u001b[0mskip\u001b[0m \u001b[0;34m=\u001b[0m \u001b[0moptional_kws\u001b[0m \u001b[0;34m-\u001b[0m \u001b[0;34m{\u001b[0m\u001b[0;34m*\u001b[0m\u001b[0minspect\u001b[0m\u001b[0;34m.\u001b[0m\u001b[0msignature\u001b[0m\u001b[0;34m(\u001b[0m\u001b[0mmeth\u001b[0m\u001b[0;34m)\u001b[0m\u001b[0;34m.\u001b[0m\u001b[0mparameters\u001b[0m\u001b[0;34m}\u001b[0m\u001b[0;34m\u001b[0m\u001b[0;34m\u001b[0m\u001b[0m\n\u001b[0;32m-> 2232\u001b[0;31m             print_method = functools.wraps(meth)(lambda *args, **kwargs: meth(\n\u001b[0m\u001b[1;32m   2233\u001b[0m                 *args, **{k: v for k, v in kwargs.items() if k not in skip}))\n\u001b[1;32m   2234\u001b[0m         \u001b[0;32melse\u001b[0m\u001b[0;34m:\u001b[0m  \u001b[0;31m# Let third-parties do as they see fit.\u001b[0m\u001b[0;34m\u001b[0m\u001b[0;34m\u001b[0m\u001b[0m\n",
            "\u001b[0;32m/usr/local/lib/python3.10/dist-packages/matplotlib/backends/backend_agg.py\u001b[0m in \u001b[0;36mprint_png\u001b[0;34m(self, filename_or_obj, metadata, pil_kwargs)\u001b[0m\n\u001b[1;32m    507\u001b[0m             \u001b[0;34m*\u001b[0m\u001b[0mmetadata\u001b[0m\u001b[0;34m*\u001b[0m\u001b[0;34m,\u001b[0m \u001b[0mincluding\u001b[0m \u001b[0mthe\u001b[0m \u001b[0mdefault\u001b[0m \u001b[0;34m'Software'\u001b[0m \u001b[0mkey\u001b[0m\u001b[0;34m.\u001b[0m\u001b[0;34m\u001b[0m\u001b[0;34m\u001b[0m\u001b[0m\n\u001b[1;32m    508\u001b[0m         \"\"\"\n\u001b[0;32m--> 509\u001b[0;31m         \u001b[0mself\u001b[0m\u001b[0;34m.\u001b[0m\u001b[0m_print_pil\u001b[0m\u001b[0;34m(\u001b[0m\u001b[0mfilename_or_obj\u001b[0m\u001b[0;34m,\u001b[0m \u001b[0;34m\"png\"\u001b[0m\u001b[0;34m,\u001b[0m \u001b[0mpil_kwargs\u001b[0m\u001b[0;34m,\u001b[0m \u001b[0mmetadata\u001b[0m\u001b[0;34m)\u001b[0m\u001b[0;34m\u001b[0m\u001b[0;34m\u001b[0m\u001b[0m\n\u001b[0m\u001b[1;32m    510\u001b[0m \u001b[0;34m\u001b[0m\u001b[0m\n\u001b[1;32m    511\u001b[0m     \u001b[0;32mdef\u001b[0m \u001b[0mprint_to_buffer\u001b[0m\u001b[0;34m(\u001b[0m\u001b[0mself\u001b[0m\u001b[0;34m)\u001b[0m\u001b[0;34m:\u001b[0m\u001b[0;34m\u001b[0m\u001b[0;34m\u001b[0m\u001b[0m\n",
            "\u001b[0;32m/usr/local/lib/python3.10/dist-packages/matplotlib/backends/backend_agg.py\u001b[0m in \u001b[0;36m_print_pil\u001b[0;34m(self, filename_or_obj, fmt, pil_kwargs, metadata)\u001b[0m\n\u001b[1;32m    456\u001b[0m         \"\"\"\n\u001b[1;32m    457\u001b[0m         \u001b[0mFigureCanvasAgg\u001b[0m\u001b[0;34m.\u001b[0m\u001b[0mdraw\u001b[0m\u001b[0;34m(\u001b[0m\u001b[0mself\u001b[0m\u001b[0;34m)\u001b[0m\u001b[0;34m\u001b[0m\u001b[0;34m\u001b[0m\u001b[0m\n\u001b[0;32m--> 458\u001b[0;31m         mpl.image.imsave(\n\u001b[0m\u001b[1;32m    459\u001b[0m             \u001b[0mfilename_or_obj\u001b[0m\u001b[0;34m,\u001b[0m \u001b[0mself\u001b[0m\u001b[0;34m.\u001b[0m\u001b[0mbuffer_rgba\u001b[0m\u001b[0;34m(\u001b[0m\u001b[0;34m)\u001b[0m\u001b[0;34m,\u001b[0m \u001b[0mformat\u001b[0m\u001b[0;34m=\u001b[0m\u001b[0mfmt\u001b[0m\u001b[0;34m,\u001b[0m \u001b[0morigin\u001b[0m\u001b[0;34m=\u001b[0m\u001b[0;34m\"upper\"\u001b[0m\u001b[0;34m,\u001b[0m\u001b[0;34m\u001b[0m\u001b[0;34m\u001b[0m\u001b[0m\n\u001b[1;32m    460\u001b[0m             dpi=self.figure.dpi, metadata=metadata, pil_kwargs=pil_kwargs)\n",
            "\u001b[0;32m/usr/local/lib/python3.10/dist-packages/matplotlib/image.py\u001b[0m in \u001b[0;36mimsave\u001b[0;34m(fname, arr, vmin, vmax, cmap, format, origin, dpi, metadata, pil_kwargs)\u001b[0m\n\u001b[1;32m   1687\u001b[0m         \u001b[0mpil_kwargs\u001b[0m\u001b[0;34m.\u001b[0m\u001b[0msetdefault\u001b[0m\u001b[0;34m(\u001b[0m\u001b[0;34m\"format\"\u001b[0m\u001b[0;34m,\u001b[0m \u001b[0mformat\u001b[0m\u001b[0;34m)\u001b[0m\u001b[0;34m\u001b[0m\u001b[0;34m\u001b[0m\u001b[0m\n\u001b[1;32m   1688\u001b[0m         \u001b[0mpil_kwargs\u001b[0m\u001b[0;34m.\u001b[0m\u001b[0msetdefault\u001b[0m\u001b[0;34m(\u001b[0m\u001b[0;34m\"dpi\"\u001b[0m\u001b[0;34m,\u001b[0m \u001b[0;34m(\u001b[0m\u001b[0mdpi\u001b[0m\u001b[0;34m,\u001b[0m \u001b[0mdpi\u001b[0m\u001b[0;34m)\u001b[0m\u001b[0;34m)\u001b[0m\u001b[0;34m\u001b[0m\u001b[0;34m\u001b[0m\u001b[0m\n\u001b[0;32m-> 1689\u001b[0;31m         \u001b[0mimage\u001b[0m\u001b[0;34m.\u001b[0m\u001b[0msave\u001b[0m\u001b[0;34m(\u001b[0m\u001b[0mfname\u001b[0m\u001b[0;34m,\u001b[0m \u001b[0;34m**\u001b[0m\u001b[0mpil_kwargs\u001b[0m\u001b[0;34m)\u001b[0m\u001b[0;34m\u001b[0m\u001b[0;34m\u001b[0m\u001b[0m\n\u001b[0m\u001b[1;32m   1690\u001b[0m \u001b[0;34m\u001b[0m\u001b[0m\n\u001b[1;32m   1691\u001b[0m \u001b[0;34m\u001b[0m\u001b[0m\n",
            "\u001b[0;32m/usr/local/lib/python3.10/dist-packages/PIL/Image.py\u001b[0m in \u001b[0;36msave\u001b[0;34m(self, fp, format, **params)\u001b[0m\n\u001b[1;32m   2426\u001b[0m                 \u001b[0mfp\u001b[0m \u001b[0;34m=\u001b[0m \u001b[0mbuiltins\u001b[0m\u001b[0;34m.\u001b[0m\u001b[0mopen\u001b[0m\u001b[0;34m(\u001b[0m\u001b[0mfilename\u001b[0m\u001b[0;34m,\u001b[0m \u001b[0;34m\"r+b\"\u001b[0m\u001b[0;34m)\u001b[0m\u001b[0;34m\u001b[0m\u001b[0;34m\u001b[0m\u001b[0m\n\u001b[1;32m   2427\u001b[0m             \u001b[0;32melse\u001b[0m\u001b[0;34m:\u001b[0m\u001b[0;34m\u001b[0m\u001b[0;34m\u001b[0m\u001b[0m\n\u001b[0;32m-> 2428\u001b[0;31m                 \u001b[0mfp\u001b[0m \u001b[0;34m=\u001b[0m \u001b[0mbuiltins\u001b[0m\u001b[0;34m.\u001b[0m\u001b[0mopen\u001b[0m\u001b[0;34m(\u001b[0m\u001b[0mfilename\u001b[0m\u001b[0;34m,\u001b[0m \u001b[0;34m\"w+b\"\u001b[0m\u001b[0;34m)\u001b[0m\u001b[0;34m\u001b[0m\u001b[0;34m\u001b[0m\u001b[0m\n\u001b[0m\u001b[1;32m   2429\u001b[0m \u001b[0;34m\u001b[0m\u001b[0m\n\u001b[1;32m   2430\u001b[0m         \u001b[0;32mtry\u001b[0m\u001b[0;34m:\u001b[0m\u001b[0;34m\u001b[0m\u001b[0;34m\u001b[0m\u001b[0m\n",
            "\u001b[0;31mFileNotFoundError\u001b[0m: [Errno 2] No such file or directory: '/content/drive/MyDrive/Colab Notebooks/03_code-analysis/metrics_one_hold.png'"
          ]
        },
        {
          "output_type": "display_data",
          "data": {
            "text/plain": [
              "<Figure size 1000x500 with 2 Axes>"
            ],
            "image/png": "[encoded data removed]"
          },
          "metadata": {}
        }
      ]
    },
    {
      "cell_type": "markdown",
      "source": [
        "## 混合行列"
      ],
      "metadata": {
        "id": "j8Vj2ZKjiQqK"
      }
    },
    {
      "cell_type": "code",
      "source": [
        "#logger.info('start def fit_model_one_hold()')\n",
        "\n",
        "metrics = ['loss', 'accuracy']  # 使用する評価関数を指定\n",
        "datagen = ImageDataGenerator(rescale=1./255)\n",
        "\n",
        "train_generator = datagen.flow_from_dataframe(\n",
        "                            dataframe = train_x,\n",
        "                            directory = TRAIN_DIR,\n",
        "                            x_col = \"id\",\n",
        "                            y_col = \"target\",\n",
        "                            target_size=(IMG_WIDTH,IMG_HEIGHT),\n",
        "                            batch_size=BATCH_SIZE,\n",
        "                            class_mode='binary',\n",
        "                            shuffle=False\n",
        ")"
      ],
      "metadata": {
        "colab": {
          "base_uri": "https://localhost:8080/"
        },
        "id": "W6tbyk8Gh_gR",
        "outputId": "04aede31-5016-4e66-bd06-dac026f1cafa"
      },
      "execution_count": 9,
      "outputs": [
        {
          "output_type": "stream",
          "name": "stdout",
          "text": [
            "Found 225 validated image filenames belonging to 2 classes.\n"
          ]
        }
      ]
    },
    {
      "cell_type": "code",
      "source": [
        "from tensorflow.keras.models import Model, load_model\n",
        "model = load_model('/content/drive/MyDrive/Colab Notebooks/04_model/cnn_mobile-net_OneHold.h5')"
      ],
      "metadata": {
        "id": "XSGgmaVlhgIE"
      },
      "execution_count": 10,
      "outputs": []
    },
    {
      "cell_type": "code",
      "source": [
        "#Confution Matrix and Classification Report\n",
        "from sklearn.metrics import classification_report, confusion_matrix\n",
        "import numpy as np\n",
        "\n",
        "y_pred = model.predict(train_generator, train_generator.samples // BATCH_SIZE)\n",
        "y_pred = np.where(Y_pred < 0.5, 0, 1)\n",
        "print('Confusion Matrix')\n",
        "print(confusion_matrix(train_generator.classes, y_pred))\n",
        "print('Classification Report')\n",
        "print(classification_report(train_generator.classes, y_pred, target_names=None))"
      ],
      "metadata": {
        "colab": {
          "base_uri": "https://localhost:8080/"
        },
        "id": "L9H-skHHhNWD",
        "outputId": "011a76fb-debd-4e13-e45e-f112371ba13d"
      },
      "execution_count": 15,
      "outputs": [
        {
          "output_type": "stream",
          "name": "stdout",
          "text": [
            "15/15 [==============================] - 17s 1s/step\n",
            "Confusion Matrix\n",
            "[[134   1]\n",
            " [  0  90]]\n",
            "Classification Report\n",
            "              precision    recall  f1-score   support\n",
            "\n",
            "           0       1.00      0.99      1.00       135\n",
            "           1       0.99      1.00      0.99        90\n",
            "\n",
            "    accuracy                           1.00       225\n",
            "   macro avg       0.99      1.00      1.00       225\n",
            "weighted avg       1.00      1.00      1.00       225\n",
            "\n"
          ]
        }
      ]
    },
    {
      "cell_type": "code",
      "source": [
        "from sklearn.metrics import confusion_matrix\n",
        "import matplotlib.pyplot as plt\n",
        "import numpy as np\n",
        "import seaborn as sns\n",
        "\n",
        "swarm_plot = sns.heatmap(confusion_matrix(train_generator.classes, y_pred), annot=True)\n",
        "plt.xlabel(\"pred\")\n",
        "plt.ylabel('true')\n",
        "\n",
        "fig = swarm_plot.get_figure()\n",
        "fig.savefig(ANALYSIS_DIR+'Confusion_Matrix.png')"
      ],
      "metadata": {
        "colab": {
          "base_uri": "https://localhost:8080/",
          "height": 449
        },
        "id": "-v-mi-4uhKd7",
        "outputId": "495f78fb-415a-418c-e3da-3812c6cc22eb"
      },
      "execution_count": 18,
      "outputs": [
        {
          "output_type": "display_data",
          "data": {
            "text/plain": [
              "<Figure size 640x480 with 2 Axes>"
            ],
            "image/png": "[encoded data removed]"
          },
          "metadata": {}
        }
      ]
    }
  ]
}