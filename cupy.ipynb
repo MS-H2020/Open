{
  "nbformat": 4,
  "nbformat_minor": 0,
  "metadata": {
    "colab": {
      "provenance": [],
      "gpuType": "T4",
      "authorship_tag": "ABX9TyOUaIkM+RDEfwoi/5LYbAOf",
      "include_colab_link": true
    },
    "kernelspec": {
      "name": "python3",
      "display_name": "Python 3"
    },
    "language_info": {
      "name": "python"
    },
    "accelerator": "GPU"
  },
  "cells": [
    {
      "cell_type": "markdown",
      "metadata": {
        "id": "view-in-github",
        "colab_type": "text"
      },
      "source": [
        "<a href=\"https://colab.research.google.com/github/MS-H2020/Open/blob/main/cupy.ipynb\" target=\"_parent\"><img src=\"https://colab.research.google.com/assets/colab-badge.svg\" alt=\"Open In Colab\"/></a>"
      ]
    },
    {
      "cell_type": "markdown",
      "source": [
        "# Test for Cupy\n"
      ],
      "metadata": {
        "id": "lJdFySfkEeYG"
      }
    },
    {
      "cell_type": "markdown",
      "source": [
        "## Sample code (Quote form [Qiita,@fujine(fujine),June 2023](https://qiita.com/fujine/items/6c997a073fec5bcea512))\n"
      ],
      "metadata": {
        "id": "nvRZ4pzeEmKX"
      }
    },
    {
      "cell_type": "markdown",
      "source": [
        "### Importing Library"
      ],
      "metadata": {
        "id": "MPoHrh4TFKlV"
      }
    },
    {
      "cell_type": "code",
      "source": [
        "import numpy as np\n",
        "import sklearn\n",
        "from sklearn import config_context\n",
        "from sklearn.datasets import make_classification\n",
        "from sklearn.discriminant_analysis import LinearDiscriminantAnalysis\n",
        "from sklearn.utils._array_api import _estimator_with_converted_arrays\n",
        "import cupy as cp\n",
        "import cupy.array_api as xp\n",
        "\n",
        "for pkg in (sklearn, cp):\n",
        "    print(f'{pkg.__name__:<8} : {pkg.__version__}')\n"
      ],
      "metadata": {
        "colab": {
          "base_uri": "https://localhost:8080/"
        },
        "id": "6odo_Mg-NinX",
        "outputId": "702472f0-f99e-4eec-d4bd-ca16a49fd028"
      },
      "execution_count": 51,
      "outputs": [
        {
          "output_type": "stream",
          "name": "stdout",
          "text": [
            "sklearn  : 1.2.2\n",
            "cupy     : 12.2.0\n"
          ]
        }
      ]
    },
    {
      "cell_type": "code",
      "source": [
        "X_np, y_np = make_classification(n_samples=10 ** 6, n_features=10, random_state=0) # Under this condition Google Colab with free plan, n_sample=10**7 make memory leak)\n",
        "\n",
        "print(X_np.shape)"
      ],
      "metadata": {
        "colab": {
          "base_uri": "https://localhost:8080/"
        },
        "id": "PGihAmUFaF93",
        "outputId": "8f509742-2241-41e9-fe22-7b857a5cf87b"
      },
      "execution_count": 65,
      "outputs": [
        {
          "output_type": "stream",
          "name": "stdout",
          "text": [
            "(1000000, 10)\n"
          ]
        }
      ]
    },
    {
      "cell_type": "code",
      "source": [
        "print(y_np.sum() / len(y_np))"
      ],
      "metadata": {
        "colab": {
          "base_uri": "https://localhost:8080/"
        },
        "id": "KSuCaCHgaMJK",
        "outputId": "ad0fb4cf-75c5-4a9f-db77-e8faa7c5d3a3"
      },
      "execution_count": 66,
      "outputs": [
        {
          "output_type": "stream",
          "name": "stdout",
          "text": [
            "0.500054\n"
          ]
        }
      ]
    },
    {
      "cell_type": "code",
      "source": [
        "%%time\n",
        "lda_np = LinearDiscriminantAnalysis(solver='svd')\n",
        "X_trans = lda_np.fit_transform(X_np, y_np)\n",
        "\n",
        "print(f'intercept : {lda_np.intercept_}')\n",
        "print(f'coef : {lda_np.coef_}')\n",
        "print(f'type: {type(X_trans)}')"
      ],
      "metadata": {
        "colab": {
          "base_uri": "https://localhost:8080/"
        },
        "id": "VvepImkQaQ19",
        "outputId": "7b36e745-a6fa-4bf3-c03a-de32e9f44542"
      },
      "execution_count": 67,
      "outputs": [
        {
          "output_type": "stream",
          "name": "stdout",
          "text": [
            "intercept : [0.00220022]\n",
            "coef : [[ 1.42411416e-03 -2.27213457e+00  4.52770557e-03 -6.47803039e-01\n",
            "   1.78904332e+00 -3.23051275e-01 -4.96373846e-03 -4.24765373e-04\n",
            "  -1.31483698e-03  4.60770008e-03]]\n",
            "type: <class 'numpy.ndarray'>\n",
            "CPU times: user 1.57 s, sys: 235 ms, total: 1.81 s\n",
            "Wall time: 1.58 s\n"
          ]
        }
      ]
    },
    {
      "cell_type": "code",
      "source": [
        "X_cu = xp.asarray(X_np)\n",
        "y_cu = xp.asarray(y_np)\n",
        "\n",
        "print(X_cu.device, y_cu.device)"
      ],
      "metadata": {
        "colab": {
          "base_uri": "https://localhost:8080/"
        },
        "id": "7VtU-k8qaZWc",
        "outputId": "ea2a9d6e-9307-4890-d015-ae388747dbf5"
      },
      "execution_count": 68,
      "outputs": [
        {
          "output_type": "stream",
          "name": "stdout",
          "text": [
            "<CUDA Device 0> <CUDA Device 0>\n"
          ]
        }
      ]
    },
    {
      "cell_type": "code",
      "source": [
        "%%time\n",
        "with config_context(array_api_dispatch=True):\n",
        "    lda_cu = LinearDiscriminantAnalysis(solver='svd')\n",
        "    lda_cu.fit(X_cu[:10, :], y_cu[:10])\n",
        "    del lda_cu"
      ],
      "metadata": {
        "colab": {
          "base_uri": "https://localhost:8080/"
        },
        "id": "qvWBKjy_aekU",
        "outputId": "7aa1d649-b7d3-40e5-cb68-8e5c203d481a"
      },
      "execution_count": 69,
      "outputs": [
        {
          "output_type": "stream",
          "name": "stdout",
          "text": [
            "CPU times: user 14.6 ms, sys: 0 ns, total: 14.6 ms\n",
            "Wall time: 14.4 ms\n"
          ]
        }
      ]
    },
    {
      "cell_type": "code",
      "source": [
        "%%time\n",
        "with config_context(array_api_dispatch=True):\n",
        "    lda_cu = LinearDiscriminantAnalysis(solver='svd')\n",
        "    X_trans = lda_cu.fit_transform(X_cu, y_cu)"
      ],
      "metadata": {
        "colab": {
          "base_uri": "https://localhost:8080/"
        },
        "id": "DNAWeUztarVA",
        "outputId": "19bc85d7-310f-48ef-e0e5-78da65abc03b"
      },
      "execution_count": 70,
      "outputs": [
        {
          "output_type": "stream",
          "name": "stdout",
          "text": [
            "CPU times: user 190 ms, sys: 1.11 ms, total: 191 ms\n",
            "Wall time: 213 ms\n"
          ]
        }
      ]
    },
    {
      "cell_type": "code",
      "source": [
        "print(f'intercept : {lda_cu.intercept_}')\n",
        "print(f'coef : {lda_cu.coef_}')\n",
        "print(f'device: {X_trans.device}')"
      ],
      "metadata": {
        "colab": {
          "base_uri": "https://localhost:8080/"
        },
        "id": "ibEvLQh3bYBc",
        "outputId": "dc3bc619-ebb3-462f-b7f8-dc0f3eb60055"
      },
      "execution_count": 71,
      "outputs": [
        {
          "output_type": "stream",
          "name": "stdout",
          "text": [
            "intercept : [0.00220022]\n",
            "coef : [[ 1.42411416e-03 -2.27213457e+00  4.52770557e-03 -6.47803039e-01\n",
            "   1.78904332e+00 -3.23051275e-01 -4.96373846e-03 -4.24765373e-04\n",
            "  -1.31483698e-03  4.60770008e-03]]\n",
            "device: <CUDA Device 0>\n"
          ]
        }
      ]
    },
    {
      "cell_type": "code",
      "source": [
        "converter = lambda arr : arr._array.get()\n",
        "lda_cu2np = _estimator_with_converted_arrays(lda_cu, converter=converter)\n",
        "X_trans = lda_cu2np.transform(X_np)\n",
        "\n",
        "print(type(X_trans))"
      ],
      "metadata": {
        "colab": {
          "base_uri": "https://localhost:8080/"
        },
        "id": "v1AAK-iQb0RL",
        "outputId": "36410165-bb7b-4950-a057-4e0f58a0e3b0"
      },
      "execution_count": 72,
      "outputs": [
        {
          "output_type": "stream",
          "name": "stdout",
          "text": [
            "<class 'numpy.ndarray'>\n"
          ]
        }
      ]
    },
    {
      "cell_type": "code",
      "source": [
        "pool = cp.get_default_memory_pool()\n",
        "pool.free_all_blocks()"
      ],
      "metadata": {
        "id": "3YjlpSm9b4K-"
      },
      "execution_count": 73,
      "outputs": []
    },
    {
      "cell_type": "markdown",
      "source": [
        "## Quoted from Scikit-learn offcial HP, [\"11.1. Array API support (experimental)](https://scikit-learn.org/stable/modules/array_api.html)"
      ],
      "metadata": {
        "id": "fs2r0wRwEc-o"
      }
    },
    {
      "cell_type": "code",
      "execution_count": 52,
      "metadata": {
        "colab": {
          "base_uri": "https://localhost:8080/"
        },
        "id": "L-mleZtrL67y",
        "outputId": "7880e51d-0bae-4261-96f5-26e2e2a4d5a6"
      },
      "outputs": [
        {
          "output_type": "execute_result",
          "data": {
            "text/plain": [
              "<CUDA Device 0>"
            ]
          },
          "metadata": {},
          "execution_count": 52
        }
      ],
      "source": [
        "from sklearn.datasets import make_classification\n",
        "from sklearn import config_context\n",
        "from sklearn.discriminant_analysis import LinearDiscriminantAnalysis\n",
        "import cupy.array_api as xp\n",
        "\n",
        "X_np, y_np = make_classification(random_state=0)\n",
        "X_cu = xp.asarray(X_np)\n",
        "y_cu = xp.asarray(y_np)\n",
        "X_cu.device"
      ]
    },
    {
      "cell_type": "code",
      "source": [
        "with config_context(array_api_dispatch=True):\n",
        "    lda = LinearDiscriminantAnalysis()\n",
        "    X_trans = lda.fit_transform(X_cu, y_cu)\n",
        "X_trans.device"
      ],
      "metadata": {
        "colab": {
          "base_uri": "https://localhost:8080/"
        },
        "id": "xP1N4YPOX6hg",
        "outputId": "6501703f-b9ca-4242-9c3b-51b20a56d351"
      },
      "execution_count": 53,
      "outputs": [
        {
          "output_type": "execute_result",
          "data": {
            "text/plain": [
              "<CUDA Device 0>"
            ]
          },
          "metadata": {},
          "execution_count": 53
        }
      ]
    },
    {
      "cell_type": "code",
      "source": [
        "from sklearn.utils._array_api import _estimator_with_converted_arrays\n",
        "cupy_to_ndarray = lambda array : array.get()\n",
        "lda_np = _estimator_with_converted_arrays(lda, cupy_to_ndarray)\n",
        "X_trans = lda_np.transform(X_np)\n",
        "type(X_trans)"
      ],
      "metadata": {
        "colab": {
          "base_uri": "https://localhost:8080/",
          "height": 385
        },
        "id": "cXJfB24cWkVu",
        "outputId": "b072ff29-61a8-4d85-8855-ffdb26c3d11a"
      },
      "execution_count": 54,
      "outputs": [
        {
          "output_type": "error",
          "ename": "AttributeError",
          "evalue": "'Array' object has no attribute 'get'",
          "traceback": [
            "\u001b[0;31m---------------------------------------------------------------------------\u001b[0m",
            "\u001b[0;31mAttributeError\u001b[0m                            Traceback (most recent call last)",
            "\u001b[0;32m<ipython-input-54-1a44b391789d>\u001b[0m in \u001b[0;36m<cell line: 3>\u001b[0;34m()\u001b[0m\n\u001b[1;32m      1\u001b[0m \u001b[0;32mfrom\u001b[0m \u001b[0msklearn\u001b[0m\u001b[0;34m.\u001b[0m\u001b[0mutils\u001b[0m\u001b[0;34m.\u001b[0m\u001b[0m_array_api\u001b[0m \u001b[0;32mimport\u001b[0m \u001b[0m_estimator_with_converted_arrays\u001b[0m\u001b[0;34m\u001b[0m\u001b[0;34m\u001b[0m\u001b[0m\n\u001b[1;32m      2\u001b[0m \u001b[0mcupy_to_ndarray\u001b[0m \u001b[0;34m=\u001b[0m \u001b[0;32mlambda\u001b[0m \u001b[0marray\u001b[0m \u001b[0;34m:\u001b[0m \u001b[0marray\u001b[0m\u001b[0;34m.\u001b[0m\u001b[0mget\u001b[0m\u001b[0;34m(\u001b[0m\u001b[0;34m)\u001b[0m\u001b[0;34m\u001b[0m\u001b[0;34m\u001b[0m\u001b[0m\n\u001b[0;32m----> 3\u001b[0;31m \u001b[0mlda_np\u001b[0m \u001b[0;34m=\u001b[0m \u001b[0m_estimator_with_converted_arrays\u001b[0m\u001b[0;34m(\u001b[0m\u001b[0mlda\u001b[0m\u001b[0;34m,\u001b[0m \u001b[0mcupy_to_ndarray\u001b[0m\u001b[0;34m)\u001b[0m\u001b[0;34m\u001b[0m\u001b[0;34m\u001b[0m\u001b[0m\n\u001b[0m\u001b[1;32m      4\u001b[0m \u001b[0mX_trans\u001b[0m \u001b[0;34m=\u001b[0m \u001b[0mlda_np\u001b[0m\u001b[0;34m.\u001b[0m\u001b[0mtransform\u001b[0m\u001b[0;34m(\u001b[0m\u001b[0mX_np\u001b[0m\u001b[0;34m)\u001b[0m\u001b[0;34m\u001b[0m\u001b[0;34m\u001b[0m\u001b[0m\n\u001b[1;32m      5\u001b[0m \u001b[0mtype\u001b[0m\u001b[0;34m(\u001b[0m\u001b[0mX_trans\u001b[0m\u001b[0;34m)\u001b[0m\u001b[0;34m\u001b[0m\u001b[0;34m\u001b[0m\u001b[0m\n",
            "\u001b[0;32m/usr/local/lib/python3.10/dist-packages/sklearn/utils/_array_api.py\u001b[0m in \u001b[0;36m_estimator_with_converted_arrays\u001b[0;34m(estimator, converter)\u001b[0m\n\u001b[1;32m    228\u001b[0m             \u001b[0mattribute\u001b[0m\u001b[0;34m,\u001b[0m \u001b[0mnumpy\u001b[0m\u001b[0;34m.\u001b[0m\u001b[0mndarray\u001b[0m\u001b[0;34m\u001b[0m\u001b[0;34m\u001b[0m\u001b[0m\n\u001b[1;32m    229\u001b[0m         ):\n\u001b[0;32m--> 230\u001b[0;31m             \u001b[0mattribute\u001b[0m \u001b[0;34m=\u001b[0m \u001b[0mconverter\u001b[0m\u001b[0;34m(\u001b[0m\u001b[0mattribute\u001b[0m\u001b[0;34m)\u001b[0m\u001b[0;34m\u001b[0m\u001b[0;34m\u001b[0m\u001b[0m\n\u001b[0m\u001b[1;32m    231\u001b[0m         \u001b[0msetattr\u001b[0m\u001b[0;34m(\u001b[0m\u001b[0mnew_estimator\u001b[0m\u001b[0;34m,\u001b[0m \u001b[0mkey\u001b[0m\u001b[0;34m,\u001b[0m \u001b[0mattribute\u001b[0m\u001b[0;34m)\u001b[0m\u001b[0;34m\u001b[0m\u001b[0;34m\u001b[0m\u001b[0m\n\u001b[1;32m    232\u001b[0m     \u001b[0;32mreturn\u001b[0m \u001b[0mnew_estimator\u001b[0m\u001b[0;34m\u001b[0m\u001b[0;34m\u001b[0m\u001b[0m\n",
            "\u001b[0;32m<ipython-input-54-1a44b391789d>\u001b[0m in \u001b[0;36m<lambda>\u001b[0;34m(array)\u001b[0m\n\u001b[1;32m      1\u001b[0m \u001b[0;32mfrom\u001b[0m \u001b[0msklearn\u001b[0m\u001b[0;34m.\u001b[0m\u001b[0mutils\u001b[0m\u001b[0;34m.\u001b[0m\u001b[0m_array_api\u001b[0m \u001b[0;32mimport\u001b[0m \u001b[0m_estimator_with_converted_arrays\u001b[0m\u001b[0;34m\u001b[0m\u001b[0;34m\u001b[0m\u001b[0m\n\u001b[0;32m----> 2\u001b[0;31m \u001b[0mcupy_to_ndarray\u001b[0m \u001b[0;34m=\u001b[0m \u001b[0;32mlambda\u001b[0m \u001b[0marray\u001b[0m \u001b[0;34m:\u001b[0m \u001b[0marray\u001b[0m\u001b[0;34m.\u001b[0m\u001b[0mget\u001b[0m\u001b[0;34m(\u001b[0m\u001b[0;34m)\u001b[0m\u001b[0;34m\u001b[0m\u001b[0;34m\u001b[0m\u001b[0m\n\u001b[0m\u001b[1;32m      3\u001b[0m \u001b[0mlda_np\u001b[0m \u001b[0;34m=\u001b[0m \u001b[0m_estimator_with_converted_arrays\u001b[0m\u001b[0;34m(\u001b[0m\u001b[0mlda\u001b[0m\u001b[0;34m,\u001b[0m \u001b[0mcupy_to_ndarray\u001b[0m\u001b[0;34m)\u001b[0m\u001b[0;34m\u001b[0m\u001b[0;34m\u001b[0m\u001b[0m\n\u001b[1;32m      4\u001b[0m \u001b[0mX_trans\u001b[0m \u001b[0;34m=\u001b[0m \u001b[0mlda_np\u001b[0m\u001b[0;34m.\u001b[0m\u001b[0mtransform\u001b[0m\u001b[0;34m(\u001b[0m\u001b[0mX_np\u001b[0m\u001b[0;34m)\u001b[0m\u001b[0;34m\u001b[0m\u001b[0;34m\u001b[0m\u001b[0m\n\u001b[1;32m      5\u001b[0m \u001b[0mtype\u001b[0m\u001b[0;34m(\u001b[0m\u001b[0mX_trans\u001b[0m\u001b[0;34m)\u001b[0m\u001b[0;34m\u001b[0m\u001b[0;34m\u001b[0m\u001b[0m\n",
            "\u001b[0;31mAttributeError\u001b[0m: 'Array' object has no attribute 'get'"
          ]
        }
      ]
    }
  ]
}