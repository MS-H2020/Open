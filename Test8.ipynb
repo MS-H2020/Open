{
  "nbformat": 4,
  "nbformat_minor": 0,
  "metadata": {
    "colab": {
      "provenance": [],
      "gpuType": "T4",
      "include_colab_link": true
    },
    "kernelspec": {
      "name": "python3",
      "display_name": "Python 3"
    },
    "language_info": {
      "name": "python"
    },
    "accelerator": "GPU"
  },
  "cells": [
    {
      "cell_type": "markdown",
      "metadata": {
        "id": "view-in-github",
        "colab_type": "text"
      },
      "source": [
        "<a href=\"https://colab.research.google.com/github/MS-H2020/Open/blob/main/Test8.ipynb\" target=\"_parent\"><img src=\"https://colab.research.google.com/assets/colab-badge.svg\" alt=\"Open In Colab\"/></a>"
      ]
    },
    {
      "cell_type": "code",
      "execution_count": 6,
      "metadata": {
        "colab": {
          "base_uri": "https://localhost:8080/"
        },
        "id": "3HFxcUC1Pc30",
        "outputId": "7c726655-d83c-44ca-9a15-49e64b5484a5"
      },
      "outputs": [
        {
          "output_type": "stream",
          "name": "stdout",
          "text": [
            "Drive already mounted at /content/drive; to attempt to forcibly remount, call drive.mount(\"/content/drive\", force_remount=True).\n",
            "Archive:  data.zip\n",
            "replace data/test/n_00000.jpg? [y]es, [n]o, [A]ll, [N]one, [r]ename: "
          ]
        }
      ],
      "source": [
        "from google.colab import drive\n",
        "drive.mount('/content/drive')\n",
        "!cp \"/content/drive/MyDrive/Colab Notebooks/data.zip\" .\n",
        "!unzip data.zip"
      ]
    },
    {
      "cell_type": "code",
      "source": [
        "from tensorflow.keras.preprocessing.image import ImageDataGenerator\n",
        "\n",
        "datagen = ImageDataGenerator( rescale=1./255, # 255で割ることで正規化\n",
        "                              featurewise_center = False,\n",
        "                              samplewise_center = False,\n",
        "                              featurewise_std_normalization = False,\n",
        "                              samplewise_std_normalization = False,\n",
        "                              zca_whitening = False,\n",
        "                              rotation_range = 10,\n",
        "                              #width_shift_range = 0.3,\n",
        "                              #height_shift_range = 0.3,\n",
        "                              horizontal_flip = True,\n",
        "                              vertical_flip = False,\n",
        "                              validation_split = 0.2\n",
        "                            )"
      ],
      "metadata": {
        "id": "Ad5BVTQ6Pi8E"
      },
      "execution_count": 7,
      "outputs": []
    },
    {
      "cell_type": "code",
      "source": [
        "train_dir = './data/train'\n",
        "BATCH_SIZE = 32\n",
        "\n",
        "train_generator = datagen.flow_from_directory(\n",
        "            train_dir,\n",
        "            target_size=(256,256),\n",
        "            batch_size=BATCH_SIZE,\n",
        "            class_mode='categorical',\n",
        "            shuffle=True,\n",
        "            subset = \"training\"\n",
        "  )\n",
        "\n",
        "val_generator = datagen.flow_from_directory(\n",
        "            train_dir,\n",
        "            target_size=(256,256),\n",
        "            batch_size=BATCH_SIZE,\n",
        "            class_mode='categorical',\n",
        "            shuffle=True,\n",
        "            subset = \"validation\"\n",
        ")"
      ],
      "metadata": {
        "colab": {
          "base_uri": "https://localhost:8080/"
        },
        "id": "bGP1YUtFPpcg",
        "outputId": "f64a6e67-841d-411a-83d5-06519b98d6bf"
      },
      "execution_count": 8,
      "outputs": [
        {
          "output_type": "stream",
          "name": "stdout",
          "text": [
            "Found 3393 images belonging to 8 classes.\n",
            "Found 845 images belonging to 8 classes.\n"
          ]
        }
      ]
    },
    {
      "cell_type": "code",
      "source": [
        "from tensorflow.keras.applications import densenet\n",
        "\n",
        "IMG_WIDTH = 256\n",
        "IMG_HEIGHT = 256\n",
        "IMG_DEPTH = 3\n",
        "\n",
        "base_model = densenet.DenseNet121(weights='imagenet',\n",
        "                  include_top=False,\n",
        "                  input_shape=(IMG_HEIGHT, IMG_WIDTH, IMG_DEPTH)\n",
        "                 )\n",
        "\n",
        "base_model.trainable = False\n",
        "\"\"\"\n",
        "for layer in base_model.layers[-60:]:\n",
        "    layer.trainable = True\n",
        "\"\"\""
      ],
      "metadata": {
        "colab": {
          "base_uri": "https://localhost:8080/",
          "height": 71
        },
        "id": "uI-c5GO2RWQw",
        "outputId": "4e403dcb-9880-4a7c-c9a5-34b3443a19f9"
      },
      "execution_count": 9,
      "outputs": [
        {
          "output_type": "stream",
          "name": "stdout",
          "text": [
            "Downloading data from https://storage.googleapis.com/tensorflow/keras-applications/densenet/densenet121_weights_tf_dim_ordering_tf_kernels_notop.h5\n",
            "29084464/29084464 [==============================] - 0s 0us/step\n"
          ]
        },
        {
          "output_type": "execute_result",
          "data": {
            "text/plain": [
              "'\\nfor layer in base_model.layers[-60:]:\\n    layer.trainable = True\\n'"
            ],
            "application/vnd.google.colaboratory.intrinsic+json": {
              "type": "string"
            }
          },
          "metadata": {},
          "execution_count": 9
        }
      ]
    },
    {
      "cell_type": "code",
      "source": [
        "from tensorflow.keras import datasets, layers, models, applications, optimizers\n",
        "from tensorflow.keras.models import Sequential, Model\n",
        "from tensorflow.keras.layers import Dense, Dropout, Flatten\n",
        "\n",
        "CATEGORY_NUM = 8\n",
        "\n",
        "model = models.Sequential([\n",
        "    base_model,\n",
        "    layers.Flatten(),\n",
        "    layers.Dense(1024, activation='relu'),\n",
        "    layers.Dropout(0.1),\n",
        "    layers.Dense(512, activation='relu'),\n",
        "    layers.Dropout(0.2),\n",
        "    layers.Dense(512, activation='relu'),\n",
        "    layers.Dense(CATEGORY_NUM, activation='softmax')\n",
        "])\n",
        "\n",
        "adam_low_rate = optimizers.Adam(learning_rate=0.001)"
      ],
      "metadata": {
        "id": "_yRSPpW6TZaJ"
      },
      "execution_count": 10,
      "outputs": []
    },
    {
      "cell_type": "code",
      "source": [
        "# モデルの概要\n",
        "model.summary()"
      ],
      "metadata": {
        "colab": {
          "base_uri": "https://localhost:8080/"
        },
        "id": "Ekxi29nXT19Y",
        "outputId": "231d6c3b-2d9e-4446-af17-c03360d9acaa"
      },
      "execution_count": 11,
      "outputs": [
        {
          "output_type": "stream",
          "name": "stdout",
          "text": [
            "Model: \"sequential\"\n",
            "_________________________________________________________________\n",
            " Layer (type)                Output Shape              Param #   \n",
            "=================================================================\n",
            " densenet121 (Functional)    (None, 8, 8, 1024)        7037504   \n",
            "                                                                 \n",
            " flatten (Flatten)           (None, 65536)             0         \n",
            "                                                                 \n",
            " dense (Dense)               (None, 1024)              67109888  \n",
            "                                                                 \n",
            " dropout (Dropout)           (None, 1024)              0         \n",
            "                                                                 \n",
            " dense_1 (Dense)             (None, 512)               524800    \n",
            "                                                                 \n",
            " dropout_1 (Dropout)         (None, 512)               0         \n",
            "                                                                 \n",
            " dense_2 (Dense)             (None, 512)               262656    \n",
            "                                                                 \n",
            " dense_3 (Dense)             (None, 8)                 4104      \n",
            "                                                                 \n",
            "=================================================================\n",
            "Total params: 74938952 (285.87 MB)\n",
            "Trainable params: 67901448 (259.02 MB)\n",
            "Non-trainable params: 7037504 (26.85 MB)\n",
            "_________________________________________________________________\n"
          ]
        }
      ]
    },
    {
      "cell_type": "code",
      "source": [
        "# モデルを構築\n",
        "model.compile(optimizer=adam_low_rate,\n",
        "              loss='categorical_crossentropy',\n",
        "              metrics=['accuracy'])"
      ],
      "metadata": {
        "id": "OGwdSbLJT-Zw"
      },
      "execution_count": 12,
      "outputs": []
    },
    {
      "cell_type": "code",
      "source": [
        "from tensorflow import keras\n",
        "\n",
        "# Early stoppingを適用してフィッティング\n",
        "log = model.fit(\n",
        "                  train_generator,\n",
        "                  validation_data = val_generator,\n",
        "                  steps_per_epoch = train_generator.samples // BATCH_SIZE,\n",
        "                  validation_steps = val_generator.samples // BATCH_SIZE,\n",
        "                  verbose=True,\n",
        "                  callbacks=[keras.callbacks.EarlyStopping(monitor='val_loss', min_delta=0, patience=10, verbose=1)],\n",
        "                  epochs = 10,\n",
        "                  workers = 1\n",
        ")"
      ],
      "metadata": {
        "colab": {
          "base_uri": "https://localhost:8080/"
        },
        "id": "Q3g8nk4CUEIZ",
        "outputId": "ec3359ab-8574-4857-cff4-fd0036cfcd20"
      },
      "execution_count": 13,
      "outputs": [
        {
          "output_type": "stream",
          "name": "stdout",
          "text": [
            "Epoch 1/10\n",
            "106/106 [==============================] - 92s 729ms/step - loss: 4.5951 - accuracy: 0.4844 - val_loss: 0.8977 - val_accuracy: 0.6538\n",
            "Epoch 2/10\n",
            "106/106 [==============================] - 73s 692ms/step - loss: 0.9313 - accuracy: 0.6703 - val_loss: 0.8920 - val_accuracy: 0.6935\n",
            "Epoch 3/10\n",
            "106/106 [==============================] - 67s 632ms/step - loss: 0.7904 - accuracy: 0.7245 - val_loss: 0.7567 - val_accuracy: 0.7344\n",
            "Epoch 4/10\n",
            "106/106 [==============================] - 74s 699ms/step - loss: 0.6773 - accuracy: 0.7587 - val_loss: 0.7693 - val_accuracy: 0.7284\n",
            "Epoch 5/10\n",
            "106/106 [==============================] - 75s 705ms/step - loss: 0.6259 - accuracy: 0.7771 - val_loss: 0.7079 - val_accuracy: 0.7416\n",
            "Epoch 6/10\n",
            "106/106 [==============================] - 73s 691ms/step - loss: 0.6388 - accuracy: 0.7807 - val_loss: 0.7403 - val_accuracy: 0.7296\n",
            "Epoch 7/10\n",
            "106/106 [==============================] - 75s 704ms/step - loss: 0.4816 - accuracy: 0.8274 - val_loss: 0.7921 - val_accuracy: 0.7512\n",
            "Epoch 8/10\n",
            "106/106 [==============================] - 74s 697ms/step - loss: 0.4284 - accuracy: 0.8438 - val_loss: 0.7600 - val_accuracy: 0.7788\n",
            "Epoch 9/10\n",
            "106/106 [==============================] - 67s 630ms/step - loss: 0.3962 - accuracy: 0.8593 - val_loss: 0.8144 - val_accuracy: 0.7320\n",
            "Epoch 10/10\n",
            "106/106 [==============================] - 75s 701ms/step - loss: 0.3404 - accuracy: 0.8733 - val_loss: 0.7865 - val_accuracy: 0.7512\n"
          ]
        }
      ]
    },
    {
      "cell_type": "code",
      "source": [
        "import matplotlib.pyplot as plt\n",
        "metrics = ['loss', 'accuracy']  # 使用する評価関数を指定\n",
        "plt.figure(figsize=(10, 5))  # グラフを表示するスペースを用意\n",
        "\n",
        "for i in range(len(metrics)):\n",
        "\n",
        "    metric = metrics[i]\n",
        "\n",
        "    plt.subplot(1, 2, i+1)  # figureを1×2のスペースに分ける\n",
        "    plt.title(metric)\n",
        "\n",
        "    plt_train = log.history[metric]\n",
        "    plt_valid  = log.history['val_' + metric]\n",
        "\n",
        "    plt.plot(plt_train, label='training')\n",
        "    plt.plot(plt_valid, label='valid')\n",
        "    plt.legend()\n",
        "\n",
        "plt.savefig(\"metrics.jpg\")"
      ],
      "metadata": {
        "id": "yH7ZxiwLX5bD",
        "colab": {
          "base_uri": "https://localhost:8080/",
          "height": 468
        },
        "outputId": "23732ff0-aaac-4d36-97dc-0d612e1d0282"
      },
      "execution_count": 14,
      "outputs": [
        {
          "output_type": "display_data",
          "data": {
            "text/plain": [
              "<Figure size 1000x500 with 2 Axes>"
            ],
            "image/png": "[encoded data removed]"
          },
          "metadata": {}
        }
      ]
    },
    {
      "cell_type": "code",
      "source": [
        "# 評価する。\n",
        "test_loss, test_acc = model.evaluate(val_generator)\n",
        "\n",
        "print(f\"test loss: {test_loss:.2f}, test accuracy: {test_acc:.2%}\")\n",
        "model.save('/content/drive/MyDrive/Colab Notebooks/cnn_dense121.h5')"
      ],
      "metadata": {
        "id": "hwP_LhtxkXSD",
        "colab": {
          "base_uri": "https://localhost:8080/"
        },
        "outputId": "cd5be15b-083f-4018-bdc8-d6c6021fe0ef"
      },
      "execution_count": 17,
      "outputs": [
        {
          "output_type": "stream",
          "name": "stdout",
          "text": [
            "27/27 [==============================] - 13s 491ms/step - loss: 0.7781 - accuracy: 0.7503\n",
            "test loss: 0.78, test accuracy: 75.03%\n"
          ]
        }
      ]
    },
    {
      "cell_type": "code",
      "source": [
        "test_dir = './data/test'\n",
        "\n",
        "import os\n",
        "import shutil\n",
        "import glob\n",
        "\n",
        "os.makedirs('./data/test/test', exist_ok=True)\n",
        "for image_path in glob.glob(test_dir + '/*'):\n",
        "    shutil.move(image_path, test_dir + '/dummy')"
      ],
      "metadata": {
        "colab": {
          "base_uri": "https://localhost:8080/",
          "height": 380
        },
        "id": "9UEGCH46J0CU",
        "outputId": "a918e5ea-7e60-4571-c898-ffdf1f60d2fe"
      },
      "execution_count": 31,
      "outputs": [
        {
          "output_type": "error",
          "ename": "Error",
          "evalue": "Destination path './data/test/dummy/test' already exists",
          "traceback": [
            "\u001b[0;31m---------------------------------------------------------------------------\u001b[0m",
            "\u001b[0;31mError\u001b[0m                                     Traceback (most recent call last)",
            "\u001b[0;32m<ipython-input-31-7ff55cea58c7>\u001b[0m in \u001b[0;36m<cell line: 8>\u001b[0;34m()\u001b[0m\n\u001b[1;32m      7\u001b[0m \u001b[0mos\u001b[0m\u001b[0;34m.\u001b[0m\u001b[0mmakedirs\u001b[0m\u001b[0;34m(\u001b[0m\u001b[0;34m'./data/test/test'\u001b[0m\u001b[0;34m,\u001b[0m \u001b[0mexist_ok\u001b[0m\u001b[0;34m=\u001b[0m\u001b[0;32mTrue\u001b[0m\u001b[0;34m)\u001b[0m\u001b[0;34m\u001b[0m\u001b[0;34m\u001b[0m\u001b[0m\n\u001b[1;32m      8\u001b[0m \u001b[0;32mfor\u001b[0m \u001b[0mimage_path\u001b[0m \u001b[0;32min\u001b[0m \u001b[0mglob\u001b[0m\u001b[0;34m.\u001b[0m\u001b[0mglob\u001b[0m\u001b[0;34m(\u001b[0m\u001b[0mtest_dir\u001b[0m \u001b[0;34m+\u001b[0m \u001b[0;34m'/*'\u001b[0m\u001b[0;34m)\u001b[0m\u001b[0;34m:\u001b[0m\u001b[0;34m\u001b[0m\u001b[0;34m\u001b[0m\u001b[0m\n\u001b[0;32m----> 9\u001b[0;31m     \u001b[0mshutil\u001b[0m\u001b[0;34m.\u001b[0m\u001b[0mmove\u001b[0m\u001b[0;34m(\u001b[0m\u001b[0mimage_path\u001b[0m\u001b[0;34m,\u001b[0m \u001b[0mtest_dir\u001b[0m \u001b[0;34m+\u001b[0m \u001b[0;34m'/dummy'\u001b[0m\u001b[0;34m)\u001b[0m\u001b[0;34m\u001b[0m\u001b[0;34m\u001b[0m\u001b[0m\n\u001b[0m\u001b[1;32m     10\u001b[0m \u001b[0;34m\u001b[0m\u001b[0m\n\u001b[1;32m     11\u001b[0m \u001b[0mtest_datagen\u001b[0m \u001b[0;34m=\u001b[0m \u001b[0mImageDataGenerator\u001b[0m\u001b[0;34m(\u001b[0m\u001b[0mrescale\u001b[0m\u001b[0;34m=\u001b[0m\u001b[0;36m1.\u001b[0m\u001b[0;34m/\u001b[0m\u001b[0;36m255\u001b[0m\u001b[0;34m)\u001b[0m\u001b[0;34m\u001b[0m\u001b[0;34m\u001b[0m\u001b[0m\n",
            "\u001b[0;32m/usr/lib/python3.10/shutil.py\u001b[0m in \u001b[0;36mmove\u001b[0;34m(src, dst, copy_function)\u001b[0m\n\u001b[1;32m    812\u001b[0m \u001b[0;34m\u001b[0m\u001b[0m\n\u001b[1;32m    813\u001b[0m         \u001b[0;32mif\u001b[0m \u001b[0mos\u001b[0m\u001b[0;34m.\u001b[0m\u001b[0mpath\u001b[0m\u001b[0;34m.\u001b[0m\u001b[0mexists\u001b[0m\u001b[0;34m(\u001b[0m\u001b[0mreal_dst\u001b[0m\u001b[0;34m)\u001b[0m\u001b[0;34m:\u001b[0m\u001b[0;34m\u001b[0m\u001b[0;34m\u001b[0m\u001b[0m\n\u001b[0;32m--> 814\u001b[0;31m             \u001b[0;32mraise\u001b[0m \u001b[0mError\u001b[0m\u001b[0;34m(\u001b[0m\u001b[0;34m\"Destination path '%s' already exists\"\u001b[0m \u001b[0;34m%\u001b[0m \u001b[0mreal_dst\u001b[0m\u001b[0;34m)\u001b[0m\u001b[0;34m\u001b[0m\u001b[0;34m\u001b[0m\u001b[0m\n\u001b[0m\u001b[1;32m    815\u001b[0m     \u001b[0;32mtry\u001b[0m\u001b[0;34m:\u001b[0m\u001b[0;34m\u001b[0m\u001b[0;34m\u001b[0m\u001b[0m\n\u001b[1;32m    816\u001b[0m         \u001b[0mos\u001b[0m\u001b[0;34m.\u001b[0m\u001b[0mrename\u001b[0m\u001b[0;34m(\u001b[0m\u001b[0msrc\u001b[0m\u001b[0;34m,\u001b[0m \u001b[0mreal_dst\u001b[0m\u001b[0;34m)\u001b[0m\u001b[0;34m\u001b[0m\u001b[0;34m\u001b[0m\u001b[0m\n",
            "\u001b[0;31mError\u001b[0m: Destination path './data/test/dummy/test' already exists"
          ]
        }
      ]
    },
    {
      "cell_type": "code",
      "source": [
        "test_datagen = ImageDataGenerator(rescale=1./255)\n",
        "test_generator = test_datagen.flow_from_directory(\n",
        "    test_dir, target_size=(256,256), batch_size=64, class_mode=None, shuffle=False)"
      ],
      "metadata": {
        "colab": {
          "base_uri": "https://localhost:8080/"
        },
        "id": "E0y9J8VnNlLy",
        "outputId": "2452d37e-7027-4bd0-cd00-d86b32dc816a"
      },
      "execution_count": 32,
      "outputs": [
        {
          "output_type": "stream",
          "name": "stdout",
          "text": [
            "Found 587 images belonging to 3 classes.\n"
          ]
        }
      ]
    },
    {
      "cell_type": "code",
      "source": [
        "import numpy as np\n",
        "prediction = model.predict(test_generator)\n",
        "results = np.argmax(prediction,axis=1)\n",
        "print(results)\n",
        "np.savetxt('/content/drive/MyDrive/Colab Notebooks/save_ored.txt', results)"
      ],
      "metadata": {
        "colab": {
          "base_uri": "https://localhost:8080/"
        },
        "id": "p-LxHNyDBkmU",
        "outputId": "004c2b1b-629c-432e-947a-dc7b2b4bd95a"
      },
      "execution_count": 37,
      "outputs": [
        {
          "output_type": "stream",
          "name": "stdout",
          "text": [
            "10/10 [==============================] - 2s 215ms/step\n",
            "[1 2 7 7 0 4 4 1 1 1 1 0 0 4 1 0 0 1 0 2 1 0 2 0 4 0 1 0 0 1 0 4 4 1 0 3 0\n",
            " 0 4 0 1 1 0 4 2 1 1 0 2 3 4 0 4 0 0 1 1 7 0 0 4 4 2 4 1 4 0 1 0 1 1 4 2 0\n",
            " 0 2 1 0 0 2 0 0 4 1 4 4 0 1 1 1 1 0 1 3 1 0 1 1 0 1 0 3 1 1 1 0 3 3 0 0 4\n",
            " 0 0 4 0 1 4 3 4 1 4 7 1 3 0 4 1 2 3 4 7 1 1 1 4 0 3 4 1 4 3 2 1 0 2 2 1 3\n",
            " 4 2 4 4 1 2 4 1 1 1 3 7 2 2 1 2 2 1 1 4 0 3 4 2 1 2 1 1 4 3 2 1 1 0 3 4 1\n",
            " 4 0 0 4 6 1 0 0 2 1 1 2 2 4 1 4 0 4 1 0 4 0 2 1 0 2 3 4 0 2 4 7 2 0 0 1 1\n",
            " 0 4 4 1 2 0 2 0 4 6 2 4 1 0 0 3 0 2 0 1 3 4 2 2 3 4 4 0 3 1 4 4 0 2 0 4 2\n",
            " 4 1 2 3 0 3 4 1 2 1 4 3 3 1 0 0 3 0 0 1 1 1 0 7 0 0 1 1 1 4 3 0 4 1 1 1 0\n",
            " 4 4 0 2 1 4 0 7 6 1 0 3 1 4 4 2 6 4 1 3 4 4 0 2 0 4 3 0 0 1 1 0 4 0 0 0 3\n",
            " 1 1 0 0 0 0 0 4 2 1 0 2 1 4 0 0 1 0 2 7 1 0 4 4 1 0 4 4 2 1 4 0 0 1 1 2 0\n",
            " 0 1 7 0 0 4 1 2 1 3 2 1 4 0 1 1 2 0 4 2 4 7 4 0 0 2 1 2 1 4 1 0 4 0 3 2 0\n",
            " 1 2 1 1 2 1 0 1 1 0 3 1 0 0 3 0 2 4 6 0 1 0 4 3 4 1 4 4 4 1 4 4 3 1 3 1 2\n",
            " 0 4 0 0 2 0 1 4 0 1 3 1 1 1 0 1 0 0 1 4 2 1 0 2 0 7 1 1 3 4 7 1 2 2 1 1 4\n",
            " 3 1 1 1 1 0 0 0 0 1 3 1 0 4 0 0 1 4 1 4 4 4 0 1 1 4 1 4 2 1 0 3 0 0 2 2 3\n",
            " 2 3 1 1 3 1 1 0 1 4 4 4 0 2 2 0 1 1 1 3 4 0 0 4 4 0 7 1 1 0 1 1 0 2 0 4 2\n",
            " 1 1 4 3 3 4 4 2 0 0 0 3 1 2 1 1 1 0 0 1 1 4 4 4 0 2 0 0 3 4 0 1]\n"
          ]
        }
      ]
    }
  ]
}