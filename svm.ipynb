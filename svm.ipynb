{
  "cells": [
    {
      "cell_type": "markdown",
      "metadata": {
        "id": "view-in-github",
        "colab_type": "text"
      },
      "source": [
        "<a href=\"https://colab.research.google.com/github/MS-H2020/Open/blob/main/svm.ipynb\" target=\"_parent\"><img src=\"https://colab.research.google.com/assets/colab-badge.svg\" alt=\"Open In Colab\"/></a>"
      ]
    },
    {
      "cell_type": "markdown",
      "source": [
        "# Support Vector Machine"
      ],
      "metadata": {
        "id": "ZCBwx5SlATvK"
      }
    },
    {
      "cell_type": "markdown",
      "source": [
        "### データの用意"
      ],
      "metadata": {
        "id": "x-qbvW1_AFI6"
      }
    },
    {
      "cell_type": "code",
      "execution_count": 1,
      "metadata": {
        "colab": {
          "base_uri": "https://localhost:8080/"
        },
        "id": "ylwnyxOF9bVJ",
        "outputId": "faf85300-6a50-4f51-a234-6ac6bd827913"
      },
      "outputs": [
        {
          "output_type": "stream",
          "name": "stdout",
          "text": [
            "Drive already mounted at /content/drive; to attempt to forcibly remount, call drive.mount(\"/content/drive\", force_remount=True).\n",
            "(256, 256, 3)\n"
          ]
        }
      ],
      "source": [
        "from google.colab import drive\n",
        "drive.mount('/content/drive')\n",
        "import matplotlib.pyplot as plt\n",
        "import glob\n",
        "import cv2\n",
        "import pandas as pd\n",
        "import numpy as np\n",
        "from sklearn.model_selection import train_test_split\n",
        "\n",
        "#データ準備\n",
        "files = glob.glob(\"/content/drive/MyDrive/Colab Notebooks/日本絵画に描かれた人物の顔分類に機械学習で挑戦！/data/train/*.jpg\")\n",
        "files = sorted(files)\n",
        "df_label = pd.read_csv(\"/content/drive/MyDrive/Colab Notebooks/日本絵画に描かれた人物の顔分類に機械学習で挑戦！/data/train.csv\")\n",
        "\n",
        "file_list = []\n",
        "for file in files:\n",
        "    file = cv2.imread(file)\n",
        "    file_list.append(file)\n",
        "print(file.shape)\n",
        "\n",
        "#画素値を正規化\n",
        "file_list = [file.astype(float)/255 for file in file_list]\n",
        "\n",
        "file_list = np.array(file_list)\n",
        "file_list = file_list.reshape(file_list.shape[0],-1)\n",
        "\n",
        "df_label = df_label.drop([\"image\"],axis=1)\n",
        "\n",
        "train_x, valid_x, train_y, valid_y = train_test_split(file_list, df_label, test_size=0.2)\n",
        "\n",
        "# リスト型を配列型に\n",
        "train_x = np.array(train_x)\n",
        "valid_x = np.array(valid_x)\n",
        "train_y = np.array(train_y)\n",
        "valid_y = np.array(valid_y)"
      ]
    },
    {
      "cell_type": "markdown",
      "source": [
        "### Linear SVC"
      ],
      "metadata": {
        "id": "_v0Bfxu1_8GQ"
      }
    },
    {
      "cell_type": "code",
      "execution_count": null,
      "metadata": {
        "colab": {
          "base_uri": "https://localhost:8080/"
        },
        "id": "kX8xbINP9bVM",
        "outputId": "dc08c479-495c-401f-c313-4aa98163f694"
      },
      "outputs": [
        {
          "output_type": "stream",
          "name": "stderr",
          "text": [
            "/usr/local/lib/python3.10/dist-packages/sklearn/utils/validation.py:1143: DataConversionWarning: A column-vector y was passed when a 1d array was expected. Please change the shape of y to (n_samples, ), for example using ravel().\n",
            "  y = column_or_1d(y, warn=True)\n"
          ]
        }
      ],
      "source": [
        "from sklearn import svm, metrics\n",
        "clf = svm.LinearSVC()\n",
        "clf.fit(train_x, train_y)\n",
        "predicted = classifier.predicted(valid_x)"
      ]
    }
  ],
  "metadata": {
    "kernelspec": {
      "display_name": "base",
      "language": "python",
      "name": "python3"
    },
    "language_info": {
      "codemirror_mode": {
        "name": "ipython",
        "version": 3
      },
      "file_extension": ".py",
      "mimetype": "text/x-python",
      "name": "python",
      "nbconvert_exporter": "python",
      "pygments_lexer": "ipython3",
      "version": "3.11.5"
    },
    "colab": {
      "provenance": [],
      "include_colab_link": true
    }
  },
  "nbformat": 4,
  "nbformat_minor": 0
}