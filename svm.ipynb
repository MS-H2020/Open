{
  "cells": [
    {
      "cell_type": "markdown",
      "metadata": {
        "id": "view-in-github",
        "colab_type": "text"
      },
      "source": [
        "<a href=\"https://colab.research.google.com/github/MS-H2020/Open/blob/main/svm.ipynb\" target=\"_parent\"><img src=\"https://colab.research.google.com/assets/colab-badge.svg\" alt=\"Open In Colab\"/></a>"
      ]
    },
    {
      "cell_type": "markdown",
      "metadata": {
        "id": "ZCBwx5SlATvK"
      },
      "source": [
        "# Support Vector Machine"
      ]
    },
    {
      "cell_type": "markdown",
      "metadata": {
        "id": "x-qbvW1_AFI6"
      },
      "source": [
        "### データの用意"
      ]
    },
    {
      "cell_type": "code",
      "execution_count": null,
      "metadata": {
        "colab": {
          "base_uri": "https://localhost:8080/"
        },
        "id": "ylwnyxOF9bVJ",
        "outputId": "6bea16c2-e462-4580-a096-1f23148a8751"
      },
      "outputs": [
        {
          "output_type": "stream",
          "name": "stdout",
          "text": [
            "Drive already mounted at /content/drive; to attempt to forcibly remount, call drive.mount(\"/content/drive\", force_remount=True).\n"
          ]
        }
      ],
      "source": [
        "from google.colab import drive\n",
        "drive.mount('/content/drive')\n",
        "import matplotlib.pyplot as plt\n",
        "import glob\n",
        "import cv2 as cv\n",
        "import pandas as pd\n",
        "import numpy as np\n",
        "\n",
        "from sklearn.model_selection import train_test_split\n",
        "\n",
        "#データ準備\n",
        "files = glob.glob(\"/content/drive/MyDrive/Colab Notebooks/日本絵画に描かれた人物の顔分類に機械学習で挑戦！/data/train/*.jpg\")\n",
        "files = sorted(files)\n",
        "df_label = pd.read_csv(\"/content/drive/MyDrive/Colab Notebooks/日本絵画に描かれた人物の顔分類に機械学習で挑戦！/data/train.csv\")\n",
        "\n",
        "img_list = []\n",
        "for img in files:\n",
        "    img = cv.imread(img)\n",
        "    img_list.append(img)\n",
        "\n",
        "#画素値を正規化\n",
        "img_list = [img.astype(float)/255 for img in img_list]\n",
        "\n",
        "img_list = np.array(img_list,dtype=np.float32)\n",
        "img_list = img_list.reshape(img_list.shape[0],-1)\n",
        "\n",
        "df_label = df_label.drop([\"image\"],axis=1)\n",
        "df_label = df_label.to_numpy(dtype=np.float32)\n",
        "\n",
        "train_x, valid_x, train_y, valid_y = train_test_split(img_list, df_label, test_size=0.2)"
      ]
    },
    {
      "cell_type": "markdown",
      "metadata": {
        "id": "_v0Bfxu1_8GQ"
      },
      "source": [
        "### Linear SVC"
      ]
    },
    {
      "cell_type": "code",
      "execution_count": null,
      "metadata": {
        "colab": {
          "base_uri": "https://localhost:8080/"
        },
        "id": "kX8xbINP9bVM",
        "outputId": "a5a8dbd5-e74c-45f9-e056-13829b6ac262"
      },
      "outputs": [
        {
          "metadata": {
            "tags": null
          },
          "name": "stderr",
          "output_type": "stream",
          "text": [
            "/usr/local/lib/python3.10/dist-packages/sklearn/utils/validation.py:1143: DataConversionWarning: A column-vector y was passed when a 1d array was expected. Please change the shape of y to (n_samples, ), for example using ravel().\n",
            "  y = column_or_1d(y, warn=True)\n"
          ]
        }
      ],
      "source": [
        "from sklearn import svm, metrics\n",
        "clf = svm.LinearSVC()\n",
        "clf.fit(train_x, train_y)\n",
        "predicted = classifier.predicted(valid_x)"
      ]
    },
    {
      "cell_type": "markdown",
      "source": [
        "### [OpenCV SVM](https://docs.opencv.org/3.4/d1/d73/tutorial_introduction_to_svm.html)"
      ],
      "metadata": {
        "id": "D2YACTw94IsF"
      }
    },
    {
      "cell_type": "markdown",
      "source": [],
      "metadata": {
        "id": "CGInGmE_4R7z"
      }
    },
    {
      "cell_type": "code",
      "source": [
        "from google.colab import drive\n",
        "drive.mount('/content/drive')\n",
        "import matplotlib.pyplot as plt\n",
        "import glob\n",
        "import cv2 as cv\n",
        "import pandas as pd\n",
        "import numpy as np\n",
        "\n",
        "from sklearn.model_selection import train_test_split\n",
        "\n",
        "#データ準備\n",
        "files = glob.glob(\"/content/drive/MyDrive/Colab Notebooks/日本絵画に描かれた人物の顔分類に機械学習で挑戦！/data/train/*.jpg\")\n",
        "files = sorted(files)\n",
        "df_label = pd.read_csv(\"/content/drive/MyDrive/Colab Notebooks/日本絵画に描かれた人物の顔分類に機械学習で挑戦！/data/train.csv\")\n",
        "\n",
        "img_list = []\n",
        "for img in files:\n",
        "    img = cv.imread(img)\n",
        "    img_list.append(img)\n",
        "\n",
        "img_list = np.array(img_list, dtype=np.float32)\n",
        "\n",
        "df_label = df_label.drop([\"image\"],axis=1)\n",
        "df_label = df_label.to_numpy(dtype=np.float32)\n",
        "\n",
        "# Train the SVM\n",
        "svm = cv.ml.SVM_create()\n",
        "svm.setType(cv.ml.SVM_C_SVC)\n",
        "svm.setKernel(cv.ml.SVM_LINEAR)\n",
        "svm.setTermCriteria((cv.TERM_CRITERIA_MAX_ITER, 100, 1e-6))\n",
        "svm.train(img_list, cv.ml.ROW_SAMPLE, df_label)"
      ],
      "metadata": {
        "colab": {
          "base_uri": "https://localhost:8080/",
          "height": 237
        },
        "id": "AFFO7GLKs6Z6",
        "outputId": "44bebb8a-7f84-4335-c2eb-91d37cdcdd47"
      },
      "execution_count": 10,
      "outputs": [
        {
          "output_type": "stream",
          "name": "stdout",
          "text": [
            "Drive already mounted at /content/drive; to attempt to forcibly remount, call drive.mount(\"/content/drive\", force_remount=True).\n"
          ]
        },
        {
          "output_type": "error",
          "ename": "error",
          "evalue": "OpenCV(4.8.0) /io/opencv/modules/core/src/matrix.cpp:246: error: (-215:Assertion failed) s >= 0 in function 'setSize'\n",
          "traceback": [
            "\u001b[0;31m---------------------------------------------------------------------------\u001b[0m",
            "\u001b[0;31merror\u001b[0m                                     Traceback (most recent call last)",
            "\u001b[0;32m<ipython-input-10-a09172c50ab5>\u001b[0m in \u001b[0;36m<cell line: 32>\u001b[0;34m()\u001b[0m\n\u001b[1;32m     30\u001b[0m \u001b[0msvm\u001b[0m\u001b[0;34m.\u001b[0m\u001b[0msetKernel\u001b[0m\u001b[0;34m(\u001b[0m\u001b[0mcv\u001b[0m\u001b[0;34m.\u001b[0m\u001b[0mml\u001b[0m\u001b[0;34m.\u001b[0m\u001b[0mSVM_LINEAR\u001b[0m\u001b[0;34m)\u001b[0m\u001b[0;34m\u001b[0m\u001b[0;34m\u001b[0m\u001b[0m\n\u001b[1;32m     31\u001b[0m \u001b[0msvm\u001b[0m\u001b[0;34m.\u001b[0m\u001b[0msetTermCriteria\u001b[0m\u001b[0;34m(\u001b[0m\u001b[0;34m(\u001b[0m\u001b[0mcv\u001b[0m\u001b[0;34m.\u001b[0m\u001b[0mTERM_CRITERIA_MAX_ITER\u001b[0m\u001b[0;34m,\u001b[0m \u001b[0;36m100\u001b[0m\u001b[0;34m,\u001b[0m \u001b[0;36m1e-6\u001b[0m\u001b[0;34m)\u001b[0m\u001b[0;34m)\u001b[0m\u001b[0;34m\u001b[0m\u001b[0;34m\u001b[0m\u001b[0m\n\u001b[0;32m---> 32\u001b[0;31m \u001b[0msvm\u001b[0m\u001b[0;34m.\u001b[0m\u001b[0mtrain\u001b[0m\u001b[0;34m(\u001b[0m\u001b[0mimg_list\u001b[0m\u001b[0;34m,\u001b[0m \u001b[0mcv\u001b[0m\u001b[0;34m.\u001b[0m\u001b[0mml\u001b[0m\u001b[0;34m.\u001b[0m\u001b[0mROW_SAMPLE\u001b[0m\u001b[0;34m,\u001b[0m \u001b[0mdf_label\u001b[0m\u001b[0;34m)\u001b[0m\u001b[0;34m\u001b[0m\u001b[0;34m\u001b[0m\u001b[0m\n\u001b[0m",
            "\u001b[0;31merror\u001b[0m: OpenCV(4.8.0) /io/opencv/modules/core/src/matrix.cpp:246: error: (-215:Assertion failed) s >= 0 in function 'setSize'\n"
          ]
        }
      ]
    }
  ],
  "metadata": {
    "colab": {
      "provenance": [],
      "gpuType": "T4",
      "include_colab_link": true
    },
    "kernelspec": {
      "display_name": "Python 3",
      "name": "python3"
    },
    "language_info": {
      "codemirror_mode": {
        "name": "ipython",
        "version": 3
      },
      "file_extension": ".py",
      "mimetype": "text/x-python",
      "name": "python",
      "nbconvert_exporter": "python",
      "pygments_lexer": "ipython3",
      "version": "3.11.5"
    },
    "accelerator": "GPU"
  },
  "nbformat": 4,
  "nbformat_minor": 0
}