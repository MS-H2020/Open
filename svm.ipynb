{
  "cells": [
    {
      "cell_type": "markdown",
      "metadata": {
        "id": "view-in-github",
        "colab_type": "text"
      },
      "source": [
        "<a href=\"https://colab.research.google.com/github/MS-H2020/Open/blob/main/svm.ipynb\" target=\"_parent\"><img src=\"https://colab.research.google.com/assets/colab-badge.svg\" alt=\"Open In Colab\"/></a>"
      ]
    },
    {
      "cell_type": "markdown",
      "metadata": {
        "id": "ZCBwx5SlATvK"
      },
      "source": [
        "# Support Vector Machine"
      ]
    },
    {
      "cell_type": "markdown",
      "metadata": {
        "id": "x-qbvW1_AFI6"
      },
      "source": [
        "### データの用意"
      ]
    },
    {
      "cell_type": "code",
      "execution_count": 1,
      "metadata": {
        "colab": {
          "base_uri": "https://localhost:8080/"
        },
        "id": "ylwnyxOF9bVJ",
        "outputId": "b0b8b309-9ac7-4e58-af45-7671cae3032a"
      },
      "outputs": [
        {
          "output_type": "stream",
          "name": "stdout",
          "text": [
            "Drive already mounted at /content/drive; to attempt to forcibly remount, call drive.mount(\"/content/drive\", force_remount=True).\n"
          ]
        }
      ],
      "source": [
        "from google.colab import drive\n",
        "drive.mount('/content/drive')\n",
        "import matplotlib.pyplot as plt\n",
        "import glob\n",
        "import cv2\n",
        "import pandas as pd\n",
        "import numpy as np\n",
        "\n",
        "from sklearn.model_selection import train_test_split\n",
        "\n",
        "#データ準備\n",
        "files = glob.glob(\"/content/drive/MyDrive/Colab Notebooks/日本絵画に描かれた人物の顔分類に機械学習で挑戦！/data/train/*.jpg\")\n",
        "files = sorted(files)\n",
        "df_label = pd.read_csv(\"/content/drive/MyDrive/Colab Notebooks/日本絵画に描かれた人物の顔分類に機械学習で挑戦！/data/train.csv\")\n",
        "\n",
        "img_list = []\n",
        "for img in files:\n",
        "    img = cv2.imread(img)\n",
        "    img_list.append(img)\n",
        "\n",
        "#画素値を正規化\n",
        "img_list = [img.astype(float)/255 for img in img_list]\n",
        "\n",
        "img_list = np.array(img_list)\n",
        "img_list = img_list.reshape(img_list.shape[0],-1)\n",
        "\n",
        "df_label = df_label.drop([\"image\"],axis=1)\n",
        "df_label = df_label.to_numpy()\n",
        "\n",
        "train_x, valid_x, train_y, valid_y = train_test_split(img_list, df_label, test_size=0.2)"
      ]
    },
    {
      "cell_type": "markdown",
      "metadata": {
        "id": "_v0Bfxu1_8GQ"
      },
      "source": [
        "### Linear SVC"
      ]
    },
    {
      "cell_type": "code",
      "execution_count": null,
      "metadata": {
        "colab": {
          "base_uri": "https://localhost:8080/"
        },
        "id": "kX8xbINP9bVM",
        "outputId": "ad5785ca-147a-488b-bc07-e4e49466243f"
      },
      "outputs": [
        {
          "metadata": {
            "tags": null
          },
          "name": "stderr",
          "output_type": "stream",
          "text": [
            "/usr/local/lib/python3.10/dist-packages/sklearn/utils/validation.py:1143: DataConversionWarning: A column-vector y was passed when a 1d array was expected. Please change the shape of y to (n_samples, ), for example using ravel().\n",
            "  y = column_or_1d(y, warn=True)\n"
          ]
        }
      ],
      "source": [
        "from sklearn import svm, metrics\n",
        "clf = svm.LinearSVC()\n",
        "clf.fit(train_x, train_y)\n",
        "predicted = classifier.predicted(valid_x)"
      ]
    }
  ],
  "metadata": {
    "colab": {
      "provenance": [],
      "gpuType": "T4",
      "include_colab_link": true
    },
    "kernelspec": {
      "display_name": "Python 3",
      "name": "python3"
    },
    "language_info": {
      "codemirror_mode": {
        "name": "ipython",
        "version": 3
      },
      "file_extension": ".py",
      "mimetype": "text/x-python",
      "name": "python",
      "nbconvert_exporter": "python",
      "pygments_lexer": "ipython3",
      "version": "3.11.5"
    },
    "accelerator": "GPU"
  },
  "nbformat": 4,
  "nbformat_minor": 0
}