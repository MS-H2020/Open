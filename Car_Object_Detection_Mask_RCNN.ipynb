{
  "nbformat": 4,
  "nbformat_minor": 0,
  "metadata": {
    "colab": {
      "provenance": [],
      "gpuType": "T4",
      "authorship_tag": "ABX9TyMIeCyjwNqgRcXuc0JkVKZ5",
      "include_colab_link": true
    },
    "kernelspec": {
      "name": "python3",
      "display_name": "Python 3"
    },
    "language_info": {
      "name": "python"
    },
    "accelerator": "GPU"
  },
  "cells": [
    {
      "cell_type": "markdown",
      "metadata": {
        "id": "view-in-github",
        "colab_type": "text"
      },
      "source": [
        "<a href=\"https://colab.research.google.com/github/MS-H2020/Open/blob/main/Car_Object_Detection_Mask_RCNN.ipynb\" target=\"_parent\"><img src=\"https://colab.research.google.com/assets/colab-badge.svg\" alt=\"Open In Colab\"/></a>"
      ]
    },
    {
      "cell_type": "markdown",
      "source": [
        "# [Car Object Detection](https://www.kaggle.com/datasets/sshikamaru/car-object-detection)"
      ],
      "metadata": {
        "id": "6JRbDY44pOzv"
      }
    },
    {
      "cell_type": "markdown",
      "source": [
        "## Reference"
      ],
      "metadata": {
        "id": "n76CTiRopYzy"
      }
    },
    {
      "cell_type": "markdown",
      "source": [
        "1 [ASHISHSINGH226, \"Car-Detection-Using-MaskRCNN\"](https://www.kaggle.com/code/ashishsingh226/car-detection-using-maskrcnn)  \n",
        "2 [Jason Brownlee, \"How to Train an Object Detection Model with Keras\", Machine Learning Maestry, Sep.2020](https://machinelearningmastery.com/how-to-train-an-object-detection-model-with-keras/)"
      ],
      "metadata": {
        "id": "E4eFRzjqpcBh"
      }
    },
    {
      "cell_type": "markdown",
      "source": [
        "## 0. Setting for Google Colab"
      ],
      "metadata": {
        "id": "zd9Jil0fo_AA"
      }
    },
    {
      "cell_type": "code",
      "execution_count": 1,
      "metadata": {
        "colab": {
          "base_uri": "https://localhost:8080/",
          "height": 342
        },
        "id": "J1GSeGbboG9L",
        "outputId": "c7beeec2-6d39-4b9c-b5da-d59654dc2afa"
      },
      "outputs": [
        {
          "output_type": "error",
          "ename": "MessageError",
          "evalue": "Error: credential propagation was unsuccessful",
          "traceback": [
            "\u001b[0;31m---------------------------------------------------------------------------\u001b[0m",
            "\u001b[0;31mMessageError\u001b[0m                              Traceback (most recent call last)",
            "\u001b[0;32m<ipython-input-1-d5df0069828e>\u001b[0m in \u001b[0;36m<cell line: 2>\u001b[0;34m()\u001b[0m\n\u001b[1;32m      1\u001b[0m \u001b[0;32mfrom\u001b[0m \u001b[0mgoogle\u001b[0m\u001b[0;34m.\u001b[0m\u001b[0mcolab\u001b[0m \u001b[0;32mimport\u001b[0m \u001b[0mdrive\u001b[0m\u001b[0;34m\u001b[0m\u001b[0;34m\u001b[0m\u001b[0m\n\u001b[0;32m----> 2\u001b[0;31m \u001b[0mdrive\u001b[0m\u001b[0;34m.\u001b[0m\u001b[0mmount\u001b[0m\u001b[0;34m(\u001b[0m\u001b[0;34m'/content/drive'\u001b[0m\u001b[0;34m)\u001b[0m\u001b[0;34m\u001b[0m\u001b[0;34m\u001b[0m\u001b[0m\n\u001b[0m",
            "\u001b[0;32m/usr/local/lib/python3.10/dist-packages/google/colab/drive.py\u001b[0m in \u001b[0;36mmount\u001b[0;34m(mountpoint, force_remount, timeout_ms, readonly)\u001b[0m\n\u001b[1;32m     98\u001b[0m \u001b[0;32mdef\u001b[0m \u001b[0mmount\u001b[0m\u001b[0;34m(\u001b[0m\u001b[0mmountpoint\u001b[0m\u001b[0;34m,\u001b[0m \u001b[0mforce_remount\u001b[0m\u001b[0;34m=\u001b[0m\u001b[0;32mFalse\u001b[0m\u001b[0;34m,\u001b[0m \u001b[0mtimeout_ms\u001b[0m\u001b[0;34m=\u001b[0m\u001b[0;36m120000\u001b[0m\u001b[0;34m,\u001b[0m \u001b[0mreadonly\u001b[0m\u001b[0;34m=\u001b[0m\u001b[0;32mFalse\u001b[0m\u001b[0;34m)\u001b[0m\u001b[0;34m:\u001b[0m\u001b[0;34m\u001b[0m\u001b[0;34m\u001b[0m\u001b[0m\n\u001b[1;32m     99\u001b[0m   \u001b[0;34m\"\"\"Mount your Google Drive at the specified mountpoint path.\"\"\"\u001b[0m\u001b[0;34m\u001b[0m\u001b[0;34m\u001b[0m\u001b[0m\n\u001b[0;32m--> 100\u001b[0;31m   return _mount(\n\u001b[0m\u001b[1;32m    101\u001b[0m       \u001b[0mmountpoint\u001b[0m\u001b[0;34m,\u001b[0m\u001b[0;34m\u001b[0m\u001b[0;34m\u001b[0m\u001b[0m\n\u001b[1;32m    102\u001b[0m       \u001b[0mforce_remount\u001b[0m\u001b[0;34m=\u001b[0m\u001b[0mforce_remount\u001b[0m\u001b[0;34m,\u001b[0m\u001b[0;34m\u001b[0m\u001b[0;34m\u001b[0m\u001b[0m\n",
            "\u001b[0;32m/usr/local/lib/python3.10/dist-packages/google/colab/drive.py\u001b[0m in \u001b[0;36m_mount\u001b[0;34m(mountpoint, force_remount, timeout_ms, ephemeral, readonly)\u001b[0m\n\u001b[1;32m    131\u001b[0m   )\n\u001b[1;32m    132\u001b[0m   \u001b[0;32mif\u001b[0m \u001b[0mephemeral\u001b[0m\u001b[0;34m:\u001b[0m\u001b[0;34m\u001b[0m\u001b[0;34m\u001b[0m\u001b[0m\n\u001b[0;32m--> 133\u001b[0;31m     _message.blocking_request(\n\u001b[0m\u001b[1;32m    134\u001b[0m         \u001b[0;34m'request_auth'\u001b[0m\u001b[0;34m,\u001b[0m\u001b[0;34m\u001b[0m\u001b[0;34m\u001b[0m\u001b[0m\n\u001b[1;32m    135\u001b[0m         \u001b[0mrequest\u001b[0m\u001b[0;34m=\u001b[0m\u001b[0;34m{\u001b[0m\u001b[0;34m'authType'\u001b[0m\u001b[0;34m:\u001b[0m \u001b[0;34m'dfs_ephemeral'\u001b[0m\u001b[0;34m}\u001b[0m\u001b[0;34m,\u001b[0m\u001b[0;34m\u001b[0m\u001b[0;34m\u001b[0m\u001b[0m\n",
            "\u001b[0;32m/usr/local/lib/python3.10/dist-packages/google/colab/_message.py\u001b[0m in \u001b[0;36mblocking_request\u001b[0;34m(request_type, request, timeout_sec, parent)\u001b[0m\n\u001b[1;32m    174\u001b[0m       \u001b[0mrequest_type\u001b[0m\u001b[0;34m,\u001b[0m \u001b[0mrequest\u001b[0m\u001b[0;34m,\u001b[0m \u001b[0mparent\u001b[0m\u001b[0;34m=\u001b[0m\u001b[0mparent\u001b[0m\u001b[0;34m,\u001b[0m \u001b[0mexpect_reply\u001b[0m\u001b[0;34m=\u001b[0m\u001b[0;32mTrue\u001b[0m\u001b[0;34m\u001b[0m\u001b[0;34m\u001b[0m\u001b[0m\n\u001b[1;32m    175\u001b[0m   )\n\u001b[0;32m--> 176\u001b[0;31m   \u001b[0;32mreturn\u001b[0m \u001b[0mread_reply_from_input\u001b[0m\u001b[0;34m(\u001b[0m\u001b[0mrequest_id\u001b[0m\u001b[0;34m,\u001b[0m \u001b[0mtimeout_sec\u001b[0m\u001b[0;34m)\u001b[0m\u001b[0;34m\u001b[0m\u001b[0;34m\u001b[0m\u001b[0m\n\u001b[0m",
            "\u001b[0;32m/usr/local/lib/python3.10/dist-packages/google/colab/_message.py\u001b[0m in \u001b[0;36mread_reply_from_input\u001b[0;34m(message_id, timeout_sec)\u001b[0m\n\u001b[1;32m    101\u001b[0m     ):\n\u001b[1;32m    102\u001b[0m       \u001b[0;32mif\u001b[0m \u001b[0;34m'error'\u001b[0m \u001b[0;32min\u001b[0m \u001b[0mreply\u001b[0m\u001b[0;34m:\u001b[0m\u001b[0;34m\u001b[0m\u001b[0;34m\u001b[0m\u001b[0m\n\u001b[0;32m--> 103\u001b[0;31m         \u001b[0;32mraise\u001b[0m \u001b[0mMessageError\u001b[0m\u001b[0;34m(\u001b[0m\u001b[0mreply\u001b[0m\u001b[0;34m[\u001b[0m\u001b[0;34m'error'\u001b[0m\u001b[0;34m]\u001b[0m\u001b[0;34m)\u001b[0m\u001b[0;34m\u001b[0m\u001b[0;34m\u001b[0m\u001b[0m\n\u001b[0m\u001b[1;32m    104\u001b[0m       \u001b[0;32mreturn\u001b[0m \u001b[0mreply\u001b[0m\u001b[0;34m.\u001b[0m\u001b[0mget\u001b[0m\u001b[0;34m(\u001b[0m\u001b[0;34m'data'\u001b[0m\u001b[0;34m,\u001b[0m \u001b[0;32mNone\u001b[0m\u001b[0;34m)\u001b[0m\u001b[0;34m\u001b[0m\u001b[0;34m\u001b[0m\u001b[0m\n\u001b[1;32m    105\u001b[0m \u001b[0;34m\u001b[0m\u001b[0m\n",
            "\u001b[0;31mMessageError\u001b[0m: Error: credential propagation was unsuccessful"
          ]
        }
      ],
      "source": [
        "from google.colab import drive\n",
        "drive.mount('/content/drive')"
      ]
    },
    {
      "cell_type": "code",
      "source": [
        "INPUT_DIR:str = \"/content/drive/MyDrive/Car_Object_Detection/01_input\"\n",
        "TRAIN_DIR:str = \"./training_images\"\n",
        "TEST_DIR:str = \"./testing_images\"\n",
        "ANALYSIS_DIR:str = \"/content/drive/MyDrive/Car_Object_Detection/03_code-analysis\"\n",
        "MODEL_DIR:str = \"/content/drive/MyDrive/Car_Object_Detection//04_model\"\n",
        "SUBMISSION_DIR:str = '/content/drive/MyDrive/Car_Object_Detection/05_submission'\n",
        "CHECKPOINT_PATH:str = MODEL_DIR"
      ],
      "metadata": {
        "id": "tM6uWW0sovJZ"
      },
      "execution_count": null,
      "outputs": []
    },
    {
      "cell_type": "code",
      "source": [
        "import os, gc, glob, shutil, zipfile\n",
        "shutil.unpack_archive(INPUT_DIR+'/training_images.zip', './')\n",
        "shutil.unpack_archive(INPUT_DIR+'/testing_images.zip', './')"
      ],
      "metadata": {
        "id": "5c8AgE_Qo07u"
      },
      "execution_count": null,
      "outputs": []
    },
    {
      "cell_type": "markdown",
      "source": [
        "## 1. Importing and Installing libraries"
      ],
      "metadata": {
        "id": "h_EpqzJ-qyJt"
      }
    },
    {
      "cell_type": "code",
      "source": [
        "!git clone https://github.com/leekunhee/Mask_RCNN.git\n",
        "!cd Mask_RCNN && python setup.py install"
      ],
      "metadata": {
        "id": "myRFJgxMq1Iw"
      },
      "execution_count": null,
      "outputs": []
    },
    {
      "cell_type": "code",
      "source": [
        "import os,sys\n",
        "import pandas as pd\n",
        "import numpy as np\n",
        "from os import listdir\n",
        "from numpy import zeros, asarray, expand_dims, mean\n",
        "from matplotlib import pyplot\n",
        "\n",
        "ROOT_DIR = os.path.abspath(\"./Mask_RCNN\")\n",
        "sys.path.append(ROOT_DIR)\n",
        "\n",
        "from mrcnn.utils import Dataset,extract_bboxes\n",
        "from mrcnn.visualize import display_instances\n",
        "from mrcnn.config import Config\n",
        "from mrcnn.model import MaskRCNN\n",
        "from mrcnn.utils import compute_ap\n",
        "from mrcnn.model import load_image_gt\n",
        "from mrcnn.model import mold_image\n",
        "\n",
        "import warnings\n",
        "warnings.filterwarnings(\"ignore\")"
      ],
      "metadata": {
        "id": "nS1t50DWraFB"
      },
      "execution_count": null,
      "outputs": []
    },
    {
      "cell_type": "code",
      "source": [
        "bb_df = pd.read_csv(INPUT_DIR+'/train_solution_bounding_boxes.csv')"
      ],
      "metadata": {
        "id": "Hk0RyamqzehU"
      },
      "execution_count": null,
      "outputs": []
    },
    {
      "cell_type": "code",
      "source": [
        "bb_df.head() #displaying the first couple of rows"
      ],
      "metadata": {
        "id": "8ecXl_qWz1VK"
      },
      "execution_count": null,
      "outputs": []
    },
    {
      "cell_type": "code",
      "source": [
        "bb_df.nunique() #count of unique values in the dataset"
      ],
      "metadata": {
        "id": "KkKPF8Mvz_oR"
      },
      "execution_count": null,
      "outputs": []
    },
    {
      "cell_type": "code",
      "source": [
        "class CarsDataset(Dataset):\n",
        "    '''\n",
        "    Dataset class to load the images and their bounding boxes in the form of masks\n",
        "    '''\n",
        "    def load_dataset(self, dataset_dir=INPUT_DIR, mode='train'):\n",
        "        '''\n",
        "        This function is used to load the dataset. We will only use 500 images for training the rest are for validation.\n",
        "        We also have test set for which we dont have labels but are useful for visually checking\n",
        "        for how effective the training was\n",
        "        '''\n",
        "        self.add_class('dataset',1,'car')\n",
        "        if mode=='train':\n",
        "            images_dir = dataset_dir + '/training_images/'\n",
        "            for i in range(500):\n",
        "                image_id = bb_df.iloc[i,0]\n",
        "                img_path = images_dir + image_id\n",
        "                self.add_image('dataset', image_id=image_id, path=img_path)\n",
        "        if mode=='val':\n",
        "            images_dir = dataset_dir + '/training_images/'\n",
        "            for i in range(500,len(bb_df)):\n",
        "                image_id = bb_df.iloc[i,0]\n",
        "                img_path = images_dir + image_id\n",
        "                self.add_image('dataset', image_id=image_id, path=img_path)\n",
        "        if mode=='test':\n",
        "            images_dir = dataset_dir + '/testing_images/'\n",
        "            for filename in listdir(images_dir):\n",
        "                image_id = filename\n",
        "                img_path = images_dir + filename\n",
        "                self.add_image('dataset', image_id=image_id, path=img_path)\n",
        "\n",
        "    def extract_boxes(self, filename):\n",
        "        '''\n",
        "        To get the coordinates of the bounding boxes.\n",
        "        '''\n",
        "        boxes = list()\n",
        "        xmin = int(bb_df[bb_df['image']==filename].iloc[0,1])\n",
        "        ymin = int(bb_df[bb_df['image']==filename].iloc[0,2])\n",
        "        xmax = int(bb_df[bb_df['image']==filename].iloc[0,3])\n",
        "        ymax = int(bb_df[bb_df['image']==filename].iloc[0,4])\n",
        "        coors = [xmin, ymin, xmax, ymax]\n",
        "        boxes.append(coors)\n",
        "        width = 380\n",
        "        height = 676\n",
        "        return boxes, width, height\n",
        "    def load_mask(self, image_id):\n",
        "        '''\n",
        "        Takes the co-ordinates and uses that to make it into a mask.\n",
        "        '''\n",
        "        info = self.image_info[image_id]\n",
        "        file = info['id']\n",
        "        boxes, w, h = self.extract_boxes(file)\n",
        "        masks = zeros([w, h, len(boxes)], dtype='uint8')\n",
        "        class_ids = list()\n",
        "        for i in range(len(boxes)):\n",
        "            box = boxes[i]\n",
        "            row_s, row_e = box[1], box[3]\n",
        "            col_s, col_e = box[0], box[2]\n",
        "            masks[row_s:row_e, col_s:col_e, i] = 1\n",
        "            class_ids.append(self.class_names.index('car'))\n",
        "        return masks, asarray(class_ids, dtype='int32')\n",
        "\n",
        "    def image_reference(self, image_id):\n",
        "        info = self.image_info[image_id]\n",
        "        return info['path']"
      ],
      "metadata": {
        "id": "e-wV8AOA0I72"
      },
      "execution_count": null,
      "outputs": []
    },
    {
      "cell_type": "code",
      "source": [
        "#Loading all the datasets we will need.\n",
        "train_set = CarsDataset()\n",
        "train_set.load_dataset(mode='train')\n",
        "train_set.prepare()\n",
        "print('Train: %d' % len(train_set.image_ids))\n",
        "\n",
        "val_set = CarsDataset()\n",
        "val_set.load_dataset(mode='val')\n",
        "val_set.prepare()\n",
        "print('Validate: %d' % len(val_set.image_ids))\n",
        "\n",
        "test_set = CarsDataset()\n",
        "test_set.load_dataset(mode='test')\n",
        "test_set.prepare()\n",
        "print('Test: %d' % len(test_set.image_ids))"
      ],
      "metadata": {
        "id": "NXE_kW6P1SBf"
      },
      "execution_count": null,
      "outputs": []
    },
    {
      "cell_type": "code",
      "source": [
        "def plot(num_img=5):\n",
        "    for i in range(num_img):\n",
        "        image_id = np.random.randint(0,len(train_set.image_ids))\n",
        "        image = train_set.load_image(image_id)\n",
        "        mask, class_ids = train_set.load_mask(image_id)\n",
        "        pyplot.imshow(image)\n",
        "        pyplot.imshow(mask[:, :, 0], cmap='gray', alpha=0.3)\n",
        "        pyplot.show()"
      ],
      "metadata": {
        "id": "YI43CQ5U1Wbv"
      },
      "execution_count": null,
      "outputs": []
    },
    {
      "cell_type": "code",
      "source": [
        "plot()"
      ],
      "metadata": {
        "id": "Fg2Kheuh1Xcl"
      },
      "execution_count": null,
      "outputs": []
    },
    {
      "cell_type": "markdown",
      "source": [
        "## Training"
      ],
      "metadata": {
        "id": "3oIKPXrJ1dli"
      }
    },
    {
      "cell_type": "markdown",
      "source": [
        "This config file contains a lot of important parameters for model training."
      ],
      "metadata": {
        "id": "xALkgN6s1hno"
      }
    },
    {
      "cell_type": "code",
      "source": [
        "class CarsConfig(Config):\n",
        "    NAME = \"cars_cfg\"\n",
        "    NUM_CLASSES = 2 #Bckground is counted as class too so background + cars = 2 labels\n",
        "    STEPS_PER_EPOCH = 200\n",
        "    VALIDATION_STEPS = 20\n",
        "    IMAGES_PER_GPU = 1\n",
        "    IMAGE_MIN_DIM = 384\n",
        "    IMAGE_MAX_DIM = 448\n",
        "\n",
        "config = CarsConfig()"
      ],
      "metadata": {
        "id": "lpd8g4H71nDD"
      },
      "execution_count": null,
      "outputs": []
    },
    {
      "cell_type": "code",
      "source": [
        "config.display() #list of all available configurations"
      ],
      "metadata": {
        "id": "IJeaeV431tFv"
      },
      "execution_count": null,
      "outputs": []
    },
    {
      "cell_type": "code",
      "source": [
        "model = MaskRCNN(mode='training', model_dir=MODEL_DIR, config=config)"
      ],
      "metadata": {
        "id": "pXAqK4q51xrQ"
      },
      "execution_count": null,
      "outputs": []
    },
    {
      "cell_type": "markdown",
      "source": [
        "We are going to load pre-trained weights for this task. This will save us a lot of time because these algorithms can take a lot of time to converge"
      ],
      "metadata": {
        "id": "MQWnfUCo16Hp"
      }
    },
    {
      "cell_type": "code",
      "source": [
        "model.load_weights('../input/mask-rcnn-coco-weights/mask_rcnn_coco.h5', by_name=True, exclude=[\"mrcnn_class_logits\", \"mrcnn_bbox_fc\",  \"mrcnn_bbox\", \"mrcnn_mask\"])"
      ],
      "metadata": {
        "id": "4bgxXoHN18Z8"
      },
      "execution_count": null,
      "outputs": []
    },
    {
      "cell_type": "code",
      "source": [
        "model.train(train_set, val_set, learning_rate=config.LEARNING_RATE, epochs=10, layers='all')"
      ],
      "metadata": {
        "id": "Wip-nRCU2Gly"
      },
      "execution_count": null,
      "outputs": []
    },
    {
      "cell_type": "markdown",
      "source": [
        "## Evaluation"
      ],
      "metadata": {
        "id": "eD0lzrgd2KQr"
      }
    },
    {
      "cell_type": "markdown",
      "source": [
        "We need to define a seperate config file for predictions purposes."
      ],
      "metadata": {
        "id": "F6mba0p82Okr"
      }
    },
    {
      "cell_type": "code",
      "source": [
        "class PredictionConfig(Config):\n",
        "    NAME = \"cars_cfg\"\n",
        "    NUM_CLASSES = 2\n",
        "    GPU_COUNT = 1\n",
        "    IMAGES_PER_GPU = 1\n",
        "    USE_MINI_MASK = False"
      ],
      "metadata": {
        "id": "UlxEq5vw2Smh"
      },
      "execution_count": null,
      "outputs": []
    },
    {
      "cell_type": "code",
      "source": [
        "cfg = PredictionConfig()\n",
        "model = MaskRCNN(mode='inference', model_dir=MODEL_DIR, config=cfg)"
      ],
      "metadata": {
        "id": "F9lIH28J2ZA_"
      },
      "execution_count": null,
      "outputs": []
    },
    {
      "cell_type": "markdown",
      "source": [
        "Loading the saved weights to perform inference."
      ],
      "metadata": {
        "id": "wfT4EnNg2ilv"
      }
    },
    {
      "cell_type": "code",
      "source": [
        "for i in listdir():\n",
        "    if i[:4]=='cars':\n",
        "        path=i\n",
        "model.load_weights('./'+path+'/mask_rcnn_cars_cfg_0010.h5', by_name=True)"
      ],
      "metadata": {
        "id": "CbV_F-no2jiv"
      },
      "execution_count": null,
      "outputs": []
    },
    {
      "cell_type": "markdown",
      "source": [
        "Here we will calculate mean average precision for our model. To know in detail what it means try referring to this blog https://towardsdatascience.com/map-mean-average-precision-might-confuse-you-5956f1bfa9e2"
      ],
      "metadata": {
        "id": "j_rZJYDz2sdn"
      }
    },
    {
      "cell_type": "code",
      "source": [
        "def evaluate_model(dataset, model, cfg):\n",
        "    APs = list()\n",
        "    for image_id in dataset.image_ids:\n",
        "        image, image_meta, gt_class_id, gt_bbox, gt_mask = load_image_gt(dataset, cfg, image_id)\n",
        "        scaled_image = mold_image(image, cfg)\n",
        "        sample = expand_dims(scaled_image, 0)\n",
        "        yhat = model.detect(sample, verbose=0)\n",
        "        r = yhat[0]\n",
        "        AP, _, _, _ = compute_ap(gt_bbox, gt_class_id, gt_mask, r[\"rois\"], r[\"class_ids\"], r[\"scores\"], r['masks'])\n",
        "        APs.append(AP)\n",
        "    mAP = mean(APs)\n",
        "    return mAP"
      ],
      "metadata": {
        "id": "VOr3cCiQ3KUV"
      },
      "execution_count": null,
      "outputs": []
    },
    {
      "cell_type": "code",
      "source": [
        "train_mAP = evaluate_model(train_set, model, cfg)\n",
        "print(\"Train mAP: %.3f\" % train_mAP)\n",
        "val_mAP = evaluate_model(val_set, model, cfg)\n",
        "print(\"Validation mAP: %.3f\" % val_mAP)"
      ],
      "metadata": {
        "id": "WCEn1snJ3OAP"
      },
      "execution_count": null,
      "outputs": []
    },
    {
      "cell_type": "markdown",
      "source": [
        "## Actual vs Predicted"
      ],
      "metadata": {
        "id": "vUtvshhG3Tb6"
      }
    },
    {
      "cell_type": "markdown",
      "source": [
        "Fianlly we will compare our model preformances by simply seeing how well it is detecting cars compared to the real bounding boxes."
      ],
      "metadata": {
        "id": "0DNCzF-d3Uwg"
      }
    },
    {
      "cell_type": "code",
      "source": [
        "def plot_actual_vs_predicted(dataset, model, cfg, n_images=5):\n",
        "    for i in range(n_images):\n",
        "        id = np.random.randint(0,len(dataset.image_ids))\n",
        "        pyplot.figure(figsize=(50, 50))\n",
        "        image = dataset.load_image(id)\n",
        "        mask, _ = dataset.load_mask(id)\n",
        "        scaled_image = mold_image(image, cfg)\n",
        "        sample = expand_dims(scaled_image, 0)\n",
        "        yhat = model.detect(sample, verbose=0)[0]\n",
        "        pyplot.subplot(n_images, 2, i*2+1)\n",
        "        pyplot.imshow(image)\n",
        "        pyplot.title('Actual')\n",
        "        for j in range(mask.shape[2]):\n",
        "            pyplot.imshow(mask[:, :, j], cmap='gray', alpha=0.3)\n",
        "        pyplot.subplot(n_images, 2, i*2+2)\n",
        "        pyplot.imshow(image)\n",
        "        pyplot.title('Predicted')\n",
        "        ax = pyplot.gca()\n",
        "        for box in yhat['rois']:\n",
        "            y1, x1, y2, x2 = box\n",
        "            width, height = x2 - x1, y2 - y1\n",
        "            rect = Rectangle((x1, y1), width, height, fill=False, color='red')\n",
        "            ax.add_patch(rect)\n",
        "    pyplot.show()"
      ],
      "metadata": {
        "id": "MJ3wvhEx3X6X"
      },
      "execution_count": null,
      "outputs": []
    },
    {
      "cell_type": "code",
      "source": [
        "from matplotlib.patches import Rectangle\n",
        "plot_actual_vs_predicted(val_set, model, cfg)"
      ],
      "metadata": {
        "id": "hIIf3x9W3dnN"
      },
      "execution_count": null,
      "outputs": []
    }
  ]
}