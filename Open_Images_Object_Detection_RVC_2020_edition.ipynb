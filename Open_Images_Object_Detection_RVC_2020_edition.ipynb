{
  "nbformat": 4,
  "nbformat_minor": 0,
  "metadata": {
    "colab": {
      "provenance": [],
      "gpuType": "T4",
      "authorship_tag": "ABX9TyOoVdGs5R4OIjJ4sND2aSR2",
      "include_colab_link": true
    },
    "kernelspec": {
      "name": "python3",
      "display_name": "Python 3"
    },
    "language_info": {
      "name": "python"
    },
    "accelerator": "GPU"
  },
  "cells": [
    {
      "cell_type": "markdown",
      "metadata": {
        "id": "view-in-github",
        "colab_type": "text"
      },
      "source": [
        "<a href=\"https://colab.research.google.com/github/MS-H2020/Open/blob/main/Open_Images_Object_Detection_RVC_2020_edition.ipynb\" target=\"_parent\"><img src=\"https://colab.research.google.com/assets/colab-badge.svg\" alt=\"Open In Colab\"/></a>"
      ]
    },
    {
      "cell_type": "markdown",
      "source": [
        "# [Open Images Object Detection RVC 2020 edition](https://www.kaggle.com/competitions/open-images-object-detection-rvc-2020/code?competitionId=19205&sortBy=voteCount&excludeNonAccessedDatasources=true)"
      ],
      "metadata": {
        "id": "SRQba3vlk8F9"
      }
    },
    {
      "cell_type": "markdown",
      "source": [
        "## Refference\n",
        "1.   [Tensorflow Hub Faster Rcnn](https://www.kaggle.com/code/c7934597/tensorflow-hub-faster-rcnn)\n",
        "\n"
      ],
      "metadata": {
        "id": "T5vDKGdUlJC1"
      }
    },
    {
      "cell_type": "markdown",
      "source": [
        "## 0. Setting for Google Colab"
      ],
      "metadata": {
        "id": "VUgmkeFdlmMS"
      }
    },
    {
      "cell_type": "code",
      "execution_count": 1,
      "metadata": {
        "id": "PK7Q-zzxktjs",
        "colab": {
          "base_uri": "https://localhost:8080/"
        },
        "outputId": "574760d4-7d1c-4b4c-bab6-70a215b155a2"
      },
      "outputs": [
        {
          "output_type": "stream",
          "name": "stdout",
          "text": [
            "Mounted at /content/drive\n"
          ]
        }
      ],
      "source": [
        "from google.colab import drive\n",
        "drive.mount('/content/drive')"
      ]
    },
    {
      "cell_type": "code",
      "source": [
        "INPUT_DIR:str = \"/content/drive/MyDrive/open-images-object-detection-rvc-2020/01_input\"\n",
        "ANALYSIS_DIR:str = \"/content/drive/MyDrive/open-images-object-detection-rvc-2020/03_code-analysis\"\n",
        "MODEL_DIR:str = \"/content/drive/MyDrive/open-images-object-detection-rvc-2020//04_model\"\n",
        "SUBMISSION_DIR:str = '/content/drive/MyDrive/open-images-object-detection-rvc-2020/05_submission'\n",
        "CHECKPOINT_PATH:str = MODEL_DIR"
      ],
      "metadata": {
        "id": "EFofix54lzuV"
      },
      "execution_count": 2,
      "outputs": []
    },
    {
      "cell_type": "code",
      "source": [
        "import os, gc, glob, shutil, zipfile\n",
        "shutil.unpack_archive(INPUT_DIR+'/test.zip', './')"
      ],
      "metadata": {
        "id": "yeMXGJRomQpp"
      },
      "execution_count": 3,
      "outputs": []
    },
    {
      "cell_type": "markdown",
      "source": [
        "## 1. Importing Modules"
      ],
      "metadata": {
        "id": "QBV-7gh1mUzM"
      }
    },
    {
      "cell_type": "code",
      "source": [
        "import os\n",
        "import pandas as pd\n",
        "import tensorflow as tf\n",
        "import tensorflow_hub as hub\n",
        "import matplotlib.pyplot as plt\n",
        "from six import BytesIO\n",
        "import numpy as np\n",
        "import xml.etree.ElementTree as et\n",
        "import ast\n",
        "import tqdm\n",
        "from itertools import chain\n",
        "from xml.dom import minidom\n",
        "from PIL import Image\n",
        "from PIL import ImageColor\n",
        "from PIL import ImageDraw\n",
        "from PIL import ImageFont\n",
        "from PIL import ImageOps\n",
        "import cv2\n",
        "import glob\n",
        "import time"
      ],
      "metadata": {
        "id": "sL85sMtxmsu8"
      },
      "execution_count": 4,
      "outputs": []
    },
    {
      "cell_type": "code",
      "source": [
        "path1 = INPUT_DIR + '/test/'"
      ],
      "metadata": {
        "id": "aoah7ZmWmfJB"
      },
      "execution_count": 5,
      "outputs": []
    },
    {
      "cell_type": "code",
      "source": [
        "df = pd.read_csv(INPUT_DIR + '/sample_submission.csv')\n",
        "df.head()"
      ],
      "metadata": {
        "colab": {
          "base_uri": "https://localhost:8080/",
          "height": 206
        },
        "id": "SLAzZcRKtlE7",
        "outputId": "c53048d1-d6db-4dd3-803f-19d36a19b3f6"
      },
      "execution_count": 6,
      "outputs": [
        {
          "output_type": "execute_result",
          "data": {
            "text/plain": [
              "            ImageId                                   PredictionString\n",
              "0  b5d912e06f74e948  /m/05s2s 0.9 0.46 0.08 0.93 0.5 /m/0c9ph5 0.5 ...\n",
              "1  be137cf6bb0b62d5  /m/05s2s 0.9 0.46 0.08 0.93 0.5 /m/0c9ph5 0.5 ...\n",
              "2  8d65ca08cb5ce8e8  /m/05s2s 0.9 0.46 0.08 0.93 0.5 /m/0c9ph5 0.5 ...\n",
              "3  4d3ad1e52ad8c065  /m/05s2s 0.9 0.46 0.08 0.93 0.5 /m/0c9ph5 0.5 ...\n",
              "4  9b94408691c7d7bf  /m/05s2s 0.9 0.46 0.08 0.93 0.5 /m/0c9ph5 0.5 ..."
            ],
            "text/html": [
              "\n",
              "  <div id=\"df-13d9e3c4-56dc-4dd5-afef-f3bbe135f9b6\" class=\"colab-df-container\">\n",
              "    <div>\n",
              "<style scoped>\n",
              "    .dataframe tbody tr th:only-of-type {\n",
              "        vertical-align: middle;\n",
              "    }\n",
              "\n",
              "    .dataframe tbody tr th {\n",
              "        vertical-align: top;\n",
              "    }\n",
              "\n",
              "    .dataframe thead th {\n",
              "        text-align: right;\n",
              "    }\n",
              "</style>\n",
              "<table border=\"1\" class=\"dataframe\">\n",
              "  <thead>\n",
              "    <tr style=\"text-align: right;\">\n",
              "      <th></th>\n",
              "      <th>ImageId</th>\n",
              "      <th>PredictionString</th>\n",
              "    </tr>\n",
              "  </thead>\n",
              "  <tbody>\n",
              "    <tr>\n",
              "      <th>0</th>\n",
              "      <td>b5d912e06f74e948</td>\n",
              "      <td>/m/05s2s 0.9 0.46 0.08 0.93 0.5 /m/0c9ph5 0.5 ...</td>\n",
              "    </tr>\n",
              "    <tr>\n",
              "      <th>1</th>\n",
              "      <td>be137cf6bb0b62d5</td>\n",
              "      <td>/m/05s2s 0.9 0.46 0.08 0.93 0.5 /m/0c9ph5 0.5 ...</td>\n",
              "    </tr>\n",
              "    <tr>\n",
              "      <th>2</th>\n",
              "      <td>8d65ca08cb5ce8e8</td>\n",
              "      <td>/m/05s2s 0.9 0.46 0.08 0.93 0.5 /m/0c9ph5 0.5 ...</td>\n",
              "    </tr>\n",
              "    <tr>\n",
              "      <th>3</th>\n",
              "      <td>4d3ad1e52ad8c065</td>\n",
              "      <td>/m/05s2s 0.9 0.46 0.08 0.93 0.5 /m/0c9ph5 0.5 ...</td>\n",
              "    </tr>\n",
              "    <tr>\n",
              "      <th>4</th>\n",
              "      <td>9b94408691c7d7bf</td>\n",
              "      <td>/m/05s2s 0.9 0.46 0.08 0.93 0.5 /m/0c9ph5 0.5 ...</td>\n",
              "    </tr>\n",
              "  </tbody>\n",
              "</table>\n",
              "</div>\n",
              "    <div class=\"colab-df-buttons\">\n",
              "\n",
              "  <div class=\"colab-df-container\">\n",
              "    <button class=\"colab-df-convert\" onclick=\"convertToInteractive('df-13d9e3c4-56dc-4dd5-afef-f3bbe135f9b6')\"\n",
              "            title=\"Convert this dataframe to an interactive table.\"\n",
              "            style=\"display:none;\">\n",
              "\n",
              "  <svg xmlns=\"http://www.w3.org/2000/svg\" height=\"24px\" viewBox=\"0 -960 960 960\">\n",
              "    <path d=\"M120-120v-720h720v720H120Zm60-500h600v-160H180v160Zm220 220h160v-160H400v160Zm0 220h160v-160H400v160ZM180-400h160v-160H180v160Zm440 0h160v-160H620v160ZM180-180h160v-160H180v160Zm440 0h160v-160H620v160Z\"/>\n",
              "  </svg>\n",
              "    </button>\n",
              "\n",
              "  <style>\n",
              "    .colab-df-container {\n",
              "      display:flex;\n",
              "      gap: 12px;\n",
              "    }\n",
              "\n",
              "    .colab-df-convert {\n",
              "      background-color: #E8F0FE;\n",
              "      border: none;\n",
              "      border-radius: 50%;\n",
              "      cursor: pointer;\n",
              "      display: none;\n",
              "      fill: #1967D2;\n",
              "      height: 32px;\n",
              "      padding: 0 0 0 0;\n",
              "      width: 32px;\n",
              "    }\n",
              "\n",
              "    .colab-df-convert:hover {\n",
              "      background-color: #E2EBFA;\n",
              "      box-shadow: 0px 1px 2px rgba(60, 64, 67, 0.3), 0px 1px 3px 1px rgba(60, 64, 67, 0.15);\n",
              "      fill: #174EA6;\n",
              "    }\n",
              "\n",
              "    .colab-df-buttons div {\n",
              "      margin-bottom: 4px;\n",
              "    }\n",
              "\n",
              "    [theme=dark] .colab-df-convert {\n",
              "      background-color: #3B4455;\n",
              "      fill: #D2E3FC;\n",
              "    }\n",
              "\n",
              "    [theme=dark] .colab-df-convert:hover {\n",
              "      background-color: #434B5C;\n",
              "      box-shadow: 0px 1px 3px 1px rgba(0, 0, 0, 0.15);\n",
              "      filter: drop-shadow(0px 1px 2px rgba(0, 0, 0, 0.3));\n",
              "      fill: #FFFFFF;\n",
              "    }\n",
              "  </style>\n",
              "\n",
              "    <script>\n",
              "      const buttonEl =\n",
              "        document.querySelector('#df-13d9e3c4-56dc-4dd5-afef-f3bbe135f9b6 button.colab-df-convert');\n",
              "      buttonEl.style.display =\n",
              "        google.colab.kernel.accessAllowed ? 'block' : 'none';\n",
              "\n",
              "      async function convertToInteractive(key) {\n",
              "        const element = document.querySelector('#df-13d9e3c4-56dc-4dd5-afef-f3bbe135f9b6');\n",
              "        const dataTable =\n",
              "          await google.colab.kernel.invokeFunction('convertToInteractive',\n",
              "                                                    [key], {});\n",
              "        if (!dataTable) return;\n",
              "\n",
              "        const docLinkHtml = 'Like what you see? Visit the ' +\n",
              "          '<a target=\"_blank\" href=https://colab.research.google.com/notebooks/data_table.ipynb>data table notebook</a>'\n",
              "          + ' to learn more about interactive tables.';\n",
              "        element.innerHTML = '';\n",
              "        dataTable['output_type'] = 'display_data';\n",
              "        await google.colab.output.renderOutput(dataTable, element);\n",
              "        const docLink = document.createElement('div');\n",
              "        docLink.innerHTML = docLinkHtml;\n",
              "        element.appendChild(docLink);\n",
              "      }\n",
              "    </script>\n",
              "  </div>\n",
              "\n",
              "\n",
              "<div id=\"df-b4d799ed-5b18-445d-a704-2c1251303559\">\n",
              "  <button class=\"colab-df-quickchart\" onclick=\"quickchart('df-b4d799ed-5b18-445d-a704-2c1251303559')\"\n",
              "            title=\"Suggest charts\"\n",
              "            style=\"display:none;\">\n",
              "\n",
              "<svg xmlns=\"http://www.w3.org/2000/svg\" height=\"24px\"viewBox=\"0 0 24 24\"\n",
              "     width=\"24px\">\n",
              "    <g>\n",
              "        <path d=\"M19 3H5c-1.1 0-2 .9-2 2v14c0 1.1.9 2 2 2h14c1.1 0 2-.9 2-2V5c0-1.1-.9-2-2-2zM9 17H7v-7h2v7zm4 0h-2V7h2v10zm4 0h-2v-4h2v4z\"/>\n",
              "    </g>\n",
              "</svg>\n",
              "  </button>\n",
              "\n",
              "<style>\n",
              "  .colab-df-quickchart {\n",
              "      --bg-color: #E8F0FE;\n",
              "      --fill-color: #1967D2;\n",
              "      --hover-bg-color: #E2EBFA;\n",
              "      --hover-fill-color: #174EA6;\n",
              "      --disabled-fill-color: #AAA;\n",
              "      --disabled-bg-color: #DDD;\n",
              "  }\n",
              "\n",
              "  [theme=dark] .colab-df-quickchart {\n",
              "      --bg-color: #3B4455;\n",
              "      --fill-color: #D2E3FC;\n",
              "      --hover-bg-color: #434B5C;\n",
              "      --hover-fill-color: #FFFFFF;\n",
              "      --disabled-bg-color: #3B4455;\n",
              "      --disabled-fill-color: #666;\n",
              "  }\n",
              "\n",
              "  .colab-df-quickchart {\n",
              "    background-color: var(--bg-color);\n",
              "    border: none;\n",
              "    border-radius: 50%;\n",
              "    cursor: pointer;\n",
              "    display: none;\n",
              "    fill: var(--fill-color);\n",
              "    height: 32px;\n",
              "    padding: 0;\n",
              "    width: 32px;\n",
              "  }\n",
              "\n",
              "  .colab-df-quickchart:hover {\n",
              "    background-color: var(--hover-bg-color);\n",
              "    box-shadow: 0 1px 2px rgba(60, 64, 67, 0.3), 0 1px 3px 1px rgba(60, 64, 67, 0.15);\n",
              "    fill: var(--button-hover-fill-color);\n",
              "  }\n",
              "\n",
              "  .colab-df-quickchart-complete:disabled,\n",
              "  .colab-df-quickchart-complete:disabled:hover {\n",
              "    background-color: var(--disabled-bg-color);\n",
              "    fill: var(--disabled-fill-color);\n",
              "    box-shadow: none;\n",
              "  }\n",
              "\n",
              "  .colab-df-spinner {\n",
              "    border: 2px solid var(--fill-color);\n",
              "    border-color: transparent;\n",
              "    border-bottom-color: var(--fill-color);\n",
              "    animation:\n",
              "      spin 1s steps(1) infinite;\n",
              "  }\n",
              "\n",
              "  @keyframes spin {\n",
              "    0% {\n",
              "      border-color: transparent;\n",
              "      border-bottom-color: var(--fill-color);\n",
              "      border-left-color: var(--fill-color);\n",
              "    }\n",
              "    20% {\n",
              "      border-color: transparent;\n",
              "      border-left-color: var(--fill-color);\n",
              "      border-top-color: var(--fill-color);\n",
              "    }\n",
              "    30% {\n",
              "      border-color: transparent;\n",
              "      border-left-color: var(--fill-color);\n",
              "      border-top-color: var(--fill-color);\n",
              "      border-right-color: var(--fill-color);\n",
              "    }\n",
              "    40% {\n",
              "      border-color: transparent;\n",
              "      border-right-color: var(--fill-color);\n",
              "      border-top-color: var(--fill-color);\n",
              "    }\n",
              "    60% {\n",
              "      border-color: transparent;\n",
              "      border-right-color: var(--fill-color);\n",
              "    }\n",
              "    80% {\n",
              "      border-color: transparent;\n",
              "      border-right-color: var(--fill-color);\n",
              "      border-bottom-color: var(--fill-color);\n",
              "    }\n",
              "    90% {\n",
              "      border-color: transparent;\n",
              "      border-bottom-color: var(--fill-color);\n",
              "    }\n",
              "  }\n",
              "</style>\n",
              "\n",
              "  <script>\n",
              "    async function quickchart(key) {\n",
              "      const quickchartButtonEl =\n",
              "        document.querySelector('#' + key + ' button');\n",
              "      quickchartButtonEl.disabled = true;  // To prevent multiple clicks.\n",
              "      quickchartButtonEl.classList.add('colab-df-spinner');\n",
              "      try {\n",
              "        const charts = await google.colab.kernel.invokeFunction(\n",
              "            'suggestCharts', [key], {});\n",
              "      } catch (error) {\n",
              "        console.error('Error during call to suggestCharts:', error);\n",
              "      }\n",
              "      quickchartButtonEl.classList.remove('colab-df-spinner');\n",
              "      quickchartButtonEl.classList.add('colab-df-quickchart-complete');\n",
              "    }\n",
              "    (() => {\n",
              "      let quickchartButtonEl =\n",
              "        document.querySelector('#df-b4d799ed-5b18-445d-a704-2c1251303559 button');\n",
              "      quickchartButtonEl.style.display =\n",
              "        google.colab.kernel.accessAllowed ? 'block' : 'none';\n",
              "    })();\n",
              "  </script>\n",
              "</div>\n",
              "\n",
              "    </div>\n",
              "  </div>\n"
            ],
            "application/vnd.google.colaboratory.intrinsic+json": {
              "type": "dataframe",
              "variable_name": "df",
              "summary": "{\n  \"name\": \"df\",\n  \"rows\": 99999,\n  \"fields\": [\n    {\n      \"column\": \"ImageId\",\n      \"properties\": {\n        \"dtype\": \"string\",\n        \"num_unique_values\": 99999,\n        \"samples\": [\n          \"b975f1537c6c81ab\",\n          \"fbb437c5c5ecd2d7\",\n          \"0814a8c0f172e9c1\"\n        ],\n        \"semantic_type\": \"\",\n        \"description\": \"\"\n      }\n    },\n    {\n      \"column\": \"PredictionString\",\n      \"properties\": {\n        \"dtype\": \"category\",\n        \"num_unique_values\": 1,\n        \"samples\": [\n          \"/m/05s2s 0.9 0.46 0.08 0.93 0.5 /m/0c9ph5 0.5 0.25 0.6 0.6 0.9\"\n        ],\n        \"semantic_type\": \"\",\n        \"description\": \"\"\n      }\n    }\n  ]\n}"
            }
          },
          "metadata": {},
          "execution_count": 6
        }
      ]
    },
    {
      "cell_type": "code",
      "source": [
        "df.shape"
      ],
      "metadata": {
        "colab": {
          "base_uri": "https://localhost:8080/"
        },
        "id": "UGADQGL0veSw",
        "outputId": "e3a514a2-4bde-4b91-c8ca-f6bd43558cf6"
      },
      "execution_count": 7,
      "outputs": [
        {
          "output_type": "execute_result",
          "data": {
            "text/plain": [
              "(99999, 2)"
            ]
          },
          "metadata": {},
          "execution_count": 7
        }
      ]
    },
    {
      "cell_type": "code",
      "source": [
        "ids = []\n",
        "for i in range(len(df)):\n",
        "    ids.append(df['ImageId'][i])"
      ],
      "metadata": {
        "id": "nXzcUkyMvjNF"
      },
      "execution_count": 8,
      "outputs": []
    },
    {
      "cell_type": "code",
      "source": [
        "ids[0:5]"
      ],
      "metadata": {
        "colab": {
          "base_uri": "https://localhost:8080/"
        },
        "id": "Jz6qdwczvpPm",
        "outputId": "9cfd60ed-fee6-4591-d512-9e888feefdd3"
      },
      "execution_count": 9,
      "outputs": [
        {
          "output_type": "execute_result",
          "data": {
            "text/plain": [
              "['b5d912e06f74e948',\n",
              " 'be137cf6bb0b62d5',\n",
              " '8d65ca08cb5ce8e8',\n",
              " '4d3ad1e52ad8c065',\n",
              " '9b94408691c7d7bf']"
            ]
          },
          "metadata": {},
          "execution_count": 9
        }
      ]
    },
    {
      "cell_type": "code",
      "source": [
        "img_data=[]\n",
        "for i in range(len(df)):\n",
        "    img_data.append(glob.glob('./test/{0}.jpg'.format(ids[i])))"
      ],
      "metadata": {
        "id": "gzcTBRI-vu25"
      },
      "execution_count": 10,
      "outputs": []
    },
    {
      "cell_type": "code",
      "source": [
        "img_data[0:5]"
      ],
      "metadata": {
        "colab": {
          "base_uri": "https://localhost:8080/"
        },
        "id": "ELVw4iYRwE1w",
        "outputId": "cd693f32-94fa-4d88-ee54-dca68ff2e6d4"
      },
      "execution_count": 11,
      "outputs": [
        {
          "output_type": "execute_result",
          "data": {
            "text/plain": [
              "[['./test/b5d912e06f74e948.jpg'],\n",
              " ['./test/be137cf6bb0b62d5.jpg'],\n",
              " ['./test/8d65ca08cb5ce8e8.jpg'],\n",
              " ['./test/4d3ad1e52ad8c065.jpg'],\n",
              " ['./test/9b94408691c7d7bf.jpg']]"
            ]
          },
          "metadata": {},
          "execution_count": 11
        }
      ]
    },
    {
      "cell_type": "code",
      "source": [
        "img_data = list(chain.from_iterable(img_data))"
      ],
      "metadata": {
        "id": "sH7w-HLuwWoy"
      },
      "execution_count": 12,
      "outputs": []
    },
    {
      "cell_type": "code",
      "source": [
        "img_data[0:5]"
      ],
      "metadata": {
        "colab": {
          "base_uri": "https://localhost:8080/"
        },
        "id": "QCZhXRLKwZrT",
        "outputId": "d0610405-57d0-4067-f478-04582445fe6f"
      },
      "execution_count": 13,
      "outputs": [
        {
          "output_type": "execute_result",
          "data": {
            "text/plain": [
              "['./test/b5d912e06f74e948.jpg',\n",
              " './test/be137cf6bb0b62d5.jpg',\n",
              " './test/8d65ca08cb5ce8e8.jpg',\n",
              " './test/4d3ad1e52ad8c065.jpg',\n",
              " './test/9b94408691c7d7bf.jpg']"
            ]
          },
          "metadata": {},
          "execution_count": 13
        }
      ]
    },
    {
      "cell_type": "code",
      "source": [
        "def get_prediction_string(result):\n",
        "    with tf.device('/device:GPU:0'):\n",
        "        df = pd.DataFrame(columns=['Ymin','Xmin','Ymax', 'Xmax','Score','Label','Class_label','Class_name'])\n",
        "        min_score=0.01\n",
        "        for i in range(result['detection_boxes'].shape[0]):\n",
        "           if (result[\"detection_scores\"][i]) >= min_score:\n",
        "              df.loc[i]= tuple(result['detection_boxes'][i])+(result[\"detection_scores\"][i],)+(result[\"detection_class_labels\"][i],)+(result[\"detection_class_names\"][i],)+(result[\"detection_class_entities\"][i],)\n",
        "        return df"
      ],
      "metadata": {
        "id": "9B6_8_puwoyU"
      },
      "execution_count": 14,
      "outputs": []
    },
    {
      "cell_type": "code",
      "source": [
        "import tensorflow.compat.v1 as tf\n",
        "tf.compat.v1.disable_v2_behavior()"
      ],
      "metadata": {
        "id": "STQcBhfLw0YC",
        "colab": {
          "base_uri": "https://localhost:8080/"
        },
        "outputId": "072350e5-553c-428a-c145-17b4378a0566"
      },
      "execution_count": 15,
      "outputs": [
        {
          "output_type": "stream",
          "name": "stderr",
          "text": [
            "WARNING:tensorflow:From /usr/local/lib/python3.10/dist-packages/tensorflow/python/compat/v2_compat.py:108: disable_resource_variables (from tensorflow.python.ops.variable_scope) is deprecated and will be removed in a future version.\n",
            "Instructions for updating:\n",
            "non-resource variables are not supported in the long term\n"
          ]
        }
      ]
    },
    {
      "cell_type": "markdown",
      "source": [
        "### [TensorFlow, \"Object Detection\"](https://www.tensorflow.org/hub/tutorials/object_detection)"
      ],
      "metadata": {
        "id": "7KWTnj8mTXmO"
      }
    },
    {
      "cell_type": "code",
      "source": [
        "module_handle = \"https://www.kaggle.com/models/google/faster-rcnn-inception-resnet-v2/TensorFlow1/faster-rcnn-openimages-v4-inception-resnet-v2/1\"\n",
        "with tf.device('/device:GPU:0'):\n",
        "    with tf.Graph().as_default():\n",
        "        detector = hub.load(module_handle).signatures['default']\n",
        "        image_string_placeholder = tf.placeholder(tf.string)\n",
        "        decoded_image = tf.image.decode_jpeg(image_string_placeholder)\n",
        "        decoded_image_float = tf.image.convert_image_dtype(\n",
        "            image=decoded_image, dtype=tf.float32)\n",
        "        module_input = tf.expand_dims(decoded_image_float, axis = 0)\n",
        "        result = detector(module_input)\n",
        "        init_ops = [tf.global_variables_initializer(), tf.tables_initializer()]\n",
        "\n",
        "        session = tf.Session()\n",
        "        session.run(init_ops)"
      ],
      "metadata": {
        "id": "Yqxmbtxkw546"
      },
      "execution_count": 16,
      "outputs": []
    },
    {
      "cell_type": "code",
      "source": [
        "def nms(dets, thresh):\n",
        "    x1 = dets[:, 0]\n",
        "    y1 = dets[:, 1]\n",
        "    x2 = dets[:, 2]\n",
        "    y2 = dets[:, 3]\n",
        "    scores = dets[:, 4]\n",
        "\n",
        "    areas = (x2 - x1 + 1) * (y2 - y1 + 1)\n",
        "    order = scores.argsort()[::-1]\n",
        "\n",
        "    keep = []\n",
        "    while order.size > 0:\n",
        "        i = order[0]\n",
        "        keep.append(i)\n",
        "        xx1 = np.maximum(x1[i], x1[order[1:]])\n",
        "        yy1 = np.maximum(y1[i], y1[order[1:]])\n",
        "        xx2 = np.minimum(x2[i], x2[order[1:]])\n",
        "        yy2 = np.minimum(y2[i], y2[order[1:]])\n",
        "\n",
        "        w = np.maximum(0.0, xx2 - xx1 + 1)\n",
        "        h = np.maximum(0.0, yy2 - yy1 + 1)\n",
        "        inter = w * h\n",
        "        ovr = inter / (areas[i] + areas[order[1:]] - inter)\n",
        "\n",
        "        inds = np.where(ovr <= thresh)[0]\n",
        "        order = order[inds + 1]\n",
        "\n",
        "    return keep"
      ],
      "metadata": {
        "id": "QI-UHzqiEoEy"
      },
      "execution_count": null,
      "outputs": []
    },
    {
      "cell_type": "markdown",
      "source": [
        "### First 20 Images"
      ],
      "metadata": {
        "id": "tTKyB9LXEszk"
      }
    },
    {
      "cell_type": "code",
      "source": [
        "image_paths = img_data[0:20]"
      ],
      "metadata": {
        "id": "MFXi9oNEEwi0"
      },
      "execution_count": null,
      "outputs": []
    },
    {
      "cell_type": "code",
      "source": [
        "images = []\n",
        "for f in image_paths:\n",
        "    images.append(np.asarray(Image.open(f)))"
      ],
      "metadata": {
        "id": "VbK2XGHmE15T"
      },
      "execution_count": null,
      "outputs": []
    },
    {
      "cell_type": "code",
      "source": [
        "!mkdir deepak"
      ],
      "metadata": {
        "id": "7UaOzK8WE20r"
      },
      "execution_count": null,
      "outputs": []
    },
    {
      "cell_type": "code",
      "source": [
        "image_id = df['ImageId']\n",
        "def format_prediction_string(image_id, result):\n",
        "    prediction_strings = []\n",
        "\n",
        "    for i in range(len(result['Score'])):\n",
        "        class_name = result['Class_label'][i].decode(\"utf-8\")\n",
        "        YMin,XMin,YMax,XMax = result['Ymin'][i],result['Xmin'][i],result['Ymax'][i],result['Xmax'][i]\n",
        "        score = result['Score'][i]\n",
        "\n",
        "        prediction_strings.append(\n",
        "            f\"{class_name} {score} {XMin} {YMin} {XMax} {YMax}\"\n",
        "        )\n",
        "\n",
        "    prediction_string = \" \".join(prediction_strings)\n",
        "\n",
        "    return {\n",
        "        \"PredictionString\": prediction_string\n",
        "    }"
      ],
      "metadata": {
        "id": "DnCaO3RnE5-F"
      },
      "execution_count": null,
      "outputs": []
    },
    {
      "cell_type": "code",
      "source": [
        "k =-1\n",
        "predictions = []\n",
        "with tf.device('/device:GPU:0'):\n",
        "    for image_path in image_paths:\n",
        "        k=k+1\n",
        "        img_path = img_data[k]\n",
        "        img = cv2.imread(img_path)\n",
        "        with tf.gfile.Open(image_path, \"rb\") as binfile:\n",
        "            image_string = binfile.read()\n",
        "\n",
        "        inference_start_time = time.time()\n",
        "        result_out, image_out = session.run(\n",
        "            [result, decoded_image],\n",
        "            feed_dict={image_string_placeholder: image_string})\n",
        "        df1=get_prediction_string(result_out)\n",
        "        z1=nms(df1.values,0.68)\n",
        "        z=df1.iloc[z1]\n",
        "        z=z.reset_index()\n",
        "        predictions.append(format_prediction_string(image_id, z))\n",
        "        data1=z\n",
        "        COLORS = np.random.uniform(0, 255, size=(len(z['Class_name']), 3))\n",
        "        for m in range(len(data1)):\n",
        "            if data1['Score'][m] >=0.01:\n",
        "                img_class=data1.iloc[m].Class_name\n",
        "                img_xmax, img_ymax =images[k].shape[1],images[k].shape[0]\n",
        "                bbox_x_max, bbox_x_min = data1.Xmax[m] * img_xmax, data1.Xmin[m] * img_xmax\n",
        "                bbox_y_max ,bbox_y_min = data1.Ymax[m] * img_ymax, data1.Ymin[m] * img_ymax\n",
        "                xmin = int(bbox_x_min)\n",
        "                ymin = int(bbox_y_min)\n",
        "                xmax = int(bbox_x_max)\n",
        "                ymax = int(bbox_y_max)\n",
        "                width = xmax - xmin\n",
        "                height = ymax - ymin\n",
        "                label = str(data1['Class_name'][m])\n",
        "                color = COLORS[m]\n",
        "                cv2.rectangle(img, (xmin, ymax), (xmax, ymin), color, 2)\n",
        "                path1 = './deepak/'+str(k)+'.jpg'\n",
        "                img_path = path1\n",
        "                cv2.imwrite(path1, img)\n",
        "                cv2.putText(img, label, (xmax,ymin), cv2.FONT_HERSHEY_SIMPLEX, 0.9,color, 2)"
      ],
      "metadata": {
        "id": "BJKZldrMFDam"
      },
      "execution_count": null,
      "outputs": []
    },
    {
      "cell_type": "code",
      "source": [
        "def load_images(folder):\n",
        "    images = []\n",
        "    for filename in os.listdir(folder):\n",
        "        img = Image.open(os.path.join(folder, filename))\n",
        "        if img is not None:\n",
        "            images.append(img)\n",
        "    return images"
      ],
      "metadata": {
        "id": "lofr5WzhFf9j"
      },
      "execution_count": null,
      "outputs": []
    },
    {
      "cell_type": "code",
      "source": [
        "z = load_images(\"./deepak\")"
      ],
      "metadata": {
        "id": "0dj37vHgFi7S"
      },
      "execution_count": null,
      "outputs": []
    },
    {
      "cell_type": "code",
      "source": [
        "z[0]"
      ],
      "metadata": {
        "id": "ie5ZnUoZFnHS"
      },
      "execution_count": null,
      "outputs": []
    },
    {
      "cell_type": "code",
      "source": [
        "z[3]"
      ],
      "metadata": {
        "id": "PsSLgdFpFopX"
      },
      "execution_count": null,
      "outputs": []
    },
    {
      "cell_type": "code",
      "source": [
        "z[4]"
      ],
      "metadata": {
        "id": "wQThRiIpFtbL"
      },
      "execution_count": null,
      "outputs": []
    },
    {
      "cell_type": "code",
      "source": [
        "z[6]"
      ],
      "metadata": {
        "id": "o3KuBzx8Fv6O"
      },
      "execution_count": null,
      "outputs": []
    },
    {
      "cell_type": "code",
      "source": [
        "z[9]"
      ],
      "metadata": {
        "id": "I7-ylf8cFzM7"
      },
      "execution_count": null,
      "outputs": []
    },
    {
      "cell_type": "code",
      "source": [
        "z[10]"
      ],
      "metadata": {
        "id": "uLe_9CwEF2Lk"
      },
      "execution_count": null,
      "outputs": []
    },
    {
      "cell_type": "code",
      "source": [
        "z[11]"
      ],
      "metadata": {
        "id": "6xbOa1AgF4qo"
      },
      "execution_count": null,
      "outputs": []
    },
    {
      "cell_type": "code",
      "source": [
        "z[15]"
      ],
      "metadata": {
        "id": "TkyQ62CMF66X"
      },
      "execution_count": null,
      "outputs": []
    },
    {
      "cell_type": "code",
      "source": [
        "z[18]"
      ],
      "metadata": {
        "id": "IfGi2zu8F-A9"
      },
      "execution_count": null,
      "outputs": []
    },
    {
      "cell_type": "markdown",
      "source": [
        "### For Submission"
      ],
      "metadata": {
        "id": "vb2EfzoXGCSP"
      }
    },
    {
      "cell_type": "code",
      "source": [
        "pred_df = pd.DataFrame(predictions)\n",
        "pred_df.head()"
      ],
      "metadata": {
        "id": "jjxVAL1kGEK4"
      },
      "execution_count": null,
      "outputs": []
    },
    {
      "cell_type": "code",
      "source": [
        "df['PredictionString']= pred_df['PredictionString']"
      ],
      "metadata": {
        "id": "sDPAEOb5GJgO"
      },
      "execution_count": null,
      "outputs": []
    },
    {
      "cell_type": "code",
      "source": [
        "df.head()"
      ],
      "metadata": {
        "id": "69VN-IjAGQzg"
      },
      "execution_count": null,
      "outputs": []
    }
  ]
}