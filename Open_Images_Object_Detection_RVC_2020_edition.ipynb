{
  "nbformat": 4,
  "nbformat_minor": 0,
  "metadata": {
    "colab": {
      "provenance": [],
      "gpuType": "T4",
      "authorship_tag": "ABX9TyNH8rnuSlGXe3FGcpdvoiKm",
      "include_colab_link": true
    },
    "kernelspec": {
      "name": "python3",
      "display_name": "Python 3"
    },
    "language_info": {
      "name": "python"
    },
    "accelerator": "GPU"
  },
  "cells": [
    {
      "cell_type": "markdown",
      "metadata": {
        "id": "view-in-github",
        "colab_type": "text"
      },
      "source": [
        "<a href=\"https://colab.research.google.com/github/MS-H2020/Open/blob/main/Open_Images_Object_Detection_RVC_2020_edition.ipynb\" target=\"_parent\"><img src=\"https://colab.research.google.com/assets/colab-badge.svg\" alt=\"Open In Colab\"/></a>"
      ]
    },
    {
      "cell_type": "markdown",
      "source": [
        "# [Open Images Object Detection RVC 2020 edition](https://www.kaggle.com/competitions/open-images-object-detection-rvc-2020/code?competitionId=19205&sortBy=voteCount&excludeNonAccessedDatasources=true)"
      ],
      "metadata": {
        "id": "SRQba3vlk8F9"
      }
    },
    {
      "cell_type": "markdown",
      "source": [
        "## Refference\n",
        "1.   [Tensorflow Hub Faster Rcnn](https://www.kaggle.com/code/c7934597/tensorflow-hub-faster-rcnn)\n",
        "\n"
      ],
      "metadata": {
        "id": "T5vDKGdUlJC1"
      }
    },
    {
      "cell_type": "markdown",
      "source": [
        "## 0. Setting for Google Colab"
      ],
      "metadata": {
        "id": "VUgmkeFdlmMS"
      }
    },
    {
      "cell_type": "code",
      "execution_count": 1,
      "metadata": {
        "id": "PK7Q-zzxktjs",
        "colab": {
          "base_uri": "https://localhost:8080/"
        },
        "outputId": "2f68f87e-b71a-411d-a2c1-353230abfc76"
      },
      "outputs": [
        {
          "output_type": "stream",
          "name": "stdout",
          "text": [
            "Mounted at /content/drive\n"
          ]
        }
      ],
      "source": [
        "from google.colab import drive\n",
        "drive.mount('/content/drive')"
      ]
    },
    {
      "cell_type": "code",
      "source": [
        "INPUT_DIR:str = \"/content/drive/MyDrive/open-images-object-detection-rvc-2020/01_input\"\n",
        "ANALYSIS_DIR:str = \"/content/drive/MyDrive/open-images-object-detection-rvc-2020/03_code-analysis\"\n",
        "MODEL_DIR:str = \"/content/drive/MyDrive/open-images-object-detection-rvc-2020//04_model\"\n",
        "SUBMISSION_DIR:str = '/content/drive/MyDrive/open-images-object-detection-rvc-2020/05_submission'\n",
        "CHECKPOINT_PATH:str = MODEL_DIR"
      ],
      "metadata": {
        "id": "EFofix54lzuV"
      },
      "execution_count": 2,
      "outputs": []
    },
    {
      "cell_type": "code",
      "source": [
        "import os, gc, glob, shutil, zipfile\n",
        "shutil.unpack_archive(INPUT_DIR+'/test.zip', './')"
      ],
      "metadata": {
        "id": "yeMXGJRomQpp"
      },
      "execution_count": null,
      "outputs": []
    },
    {
      "cell_type": "markdown",
      "source": [
        "## 1. Importing Modules"
      ],
      "metadata": {
        "id": "QBV-7gh1mUzM"
      }
    },
    {
      "cell_type": "code",
      "source": [
        "import os\n",
        "import pandas as pd\n",
        "import tensorflow as tf\n",
        "import tensorflow_hub as hub\n",
        "import matplotlib.pyplot as plt\n",
        "from six import BytesIO\n",
        "import numpy as np\n",
        "import xml.etree.ElementTree as et\n",
        "import ast\n",
        "import tqdm\n",
        "from itertools import chain\n",
        "from xml.dom import minidom\n",
        "from PIL import Image\n",
        "from PIL import ImageColor\n",
        "from PIL import ImageDraw\n",
        "from PIL import ImageFont\n",
        "from PIL import ImageOps\n",
        "import cv2\n",
        "import glob\n",
        "import time"
      ],
      "metadata": {
        "id": "sL85sMtxmsu8"
      },
      "execution_count": null,
      "outputs": []
    },
    {
      "cell_type": "code",
      "source": [
        "path1 = INPUT_DIR + '/test/'"
      ],
      "metadata": {
        "id": "aoah7ZmWmfJB"
      },
      "execution_count": null,
      "outputs": []
    },
    {
      "cell_type": "code",
      "source": [
        "df = pd.read_csv(INPUT_DIR + '/sample_submission.csv')\n",
        "df.head()"
      ],
      "metadata": {
        "id": "SLAzZcRKtlE7"
      },
      "execution_count": null,
      "outputs": []
    },
    {
      "cell_type": "code",
      "source": [
        "df.shape"
      ],
      "metadata": {
        "id": "UGADQGL0veSw"
      },
      "execution_count": null,
      "outputs": []
    },
    {
      "cell_type": "code",
      "source": [
        "ids = []\n",
        "for i in range(len(df)):\n",
        "    ids.append(df['ImageId'][i])"
      ],
      "metadata": {
        "id": "nXzcUkyMvjNF"
      },
      "execution_count": null,
      "outputs": []
    },
    {
      "cell_type": "code",
      "source": [
        "ids[0:5]"
      ],
      "metadata": {
        "id": "Jz6qdwczvpPm"
      },
      "execution_count": null,
      "outputs": []
    },
    {
      "cell_type": "code",
      "source": [
        "img_data=[]\n",
        "for i in range(len(df)):\n",
        "    img_data.append(glob.glob('./test/{0}.jpg'.format(ids[i])))"
      ],
      "metadata": {
        "id": "gzcTBRI-vu25"
      },
      "execution_count": null,
      "outputs": []
    },
    {
      "cell_type": "code",
      "source": [
        "img_data[0:5]"
      ],
      "metadata": {
        "id": "ELVw4iYRwE1w"
      },
      "execution_count": null,
      "outputs": []
    },
    {
      "cell_type": "code",
      "source": [
        "img_data = list(chain.from_iterable(img_data))"
      ],
      "metadata": {
        "id": "sH7w-HLuwWoy"
      },
      "execution_count": null,
      "outputs": []
    },
    {
      "cell_type": "code",
      "source": [
        "img_data[0:5]"
      ],
      "metadata": {
        "id": "QCZhXRLKwZrT"
      },
      "execution_count": null,
      "outputs": []
    },
    {
      "cell_type": "code",
      "source": [
        "def get_prediction_string(result):\n",
        "    with tf.device('/device:GPU:0'):\n",
        "        df = pd.DataFrame(columns=['Ymin','Xmin','Ymax', 'Xmax','Score','Label','Class_label','Class_name'])\n",
        "        min_score=0.01\n",
        "        for i in range(result['detection_boxes'].shape[0]):\n",
        "           if (result[\"detection_scores\"][i]) >= min_score:\n",
        "              df.loc[i]= tuple(result['detection_boxes'][i])+(result[\"detection_scores\"][i],)+(result[\"detection_class_labels\"][i],)+(result[\"detection_class_names\"][i],)+(result[\"detection_class_entities\"][i],)\n",
        "        return df"
      ],
      "metadata": {
        "id": "9B6_8_puwoyU"
      },
      "execution_count": null,
      "outputs": []
    },
    {
      "cell_type": "code",
      "source": [
        "import tensorflow.compat.v1\n",
        "tensorflow.compat.v1.disable_v2_behavior()"
      ],
      "metadata": {
        "id": "STQcBhfLw0YC"
      },
      "execution_count": null,
      "outputs": []
    },
    {
      "cell_type": "markdown",
      "source": [
        "### [TensorFlow, \"Object Detection\"](https://www.tensorflow.org/hub/tutorials/object_detection)"
      ],
      "metadata": {
        "id": "7KWTnj8mTXmO"
      }
    },
    {
      "cell_type": "code",
      "source": [
        "module_handle = \"https://www.kaggle.com/models/google/faster-rcnn-inception-resnet-v2/TensorFlow1/faster-rcnn-openimages-v4-inception-resnet-v2/1\"\n",
        "with tf.device('/device:GPU:0'):\n",
        "    with tf.Graph().as_default():\n",
        "        detector = hub.load(module_handle).signatures['default']\n",
        "        image_string_placeholder = tf.placeholder(tf.string)\n",
        "        decoded_image = tf.image.decode_jpeg(img, channels=3)\n",
        "        decoded_image_float = tf.image.convert_image_dtype(\n",
        "            image=decoded_image, dtype=tf.float32)\n",
        "        module_input = tf.expand_dims(decoded_image_float, 0)\n",
        "        result = detector(module_input, as_dict=True)\n",
        "        init_ops = [tf.global_variables_initializer(), tf.tables_initializer()]\n",
        "\n",
        "        session = tf.Session()\n",
        "        session.run(init_ops)"
      ],
      "metadata": {
        "id": "Yqxmbtxkw546"
      },
      "execution_count": null,
      "outputs": []
    }
  ]
}