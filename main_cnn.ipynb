{
  "nbformat": 4,
  "nbformat_minor": 0,
  "metadata": {
    "colab": {
      "provenance": [],
      "gpuType": "T4",
      "mount_file_id": "1XT_3FZuB32FfVNHbTICC1fninBod0gR2",
      "authorship_tag": "ABX9TyO64IL3UZ4twLaGNNQPPON/",
      "include_colab_link": true
    },
    "kernelspec": {
      "name": "python3",
      "display_name": "Python 3"
    },
    "language_info": {
      "name": "python"
    },
    "accelerator": "GPU"
  },
  "cells": [
    {
      "cell_type": "markdown",
      "metadata": {
        "id": "view-in-github",
        "colab_type": "text"
      },
      "source": [
        "<a href=\"https://colab.research.google.com/github/MS-H2020/Open/blob/main/main_cnn.ipynb\" target=\"_parent\"><img src=\"https://colab.research.google.com/assets/colab-badge.svg\" alt=\"Open In Colab\"/></a>"
      ]
    },
    {
      "cell_type": "markdown",
      "source": [
        "# [オゾンレベルの分類](https://signate.jp/competitions/123)"
      ],
      "metadata": {
        "id": "HZsjbRVVLPjv"
      }
    },
    {
      "cell_type": "markdown",
      "source": [
        "Refered to [\"Tensorflow - Classification on imbalanced data\"](https://www.tensorflow.org/tutorials/structured_data/imbalanced_data?authuser=1)"
      ],
      "metadata": {
        "id": "Yu7WwtcLzs05"
      }
    },
    {
      "cell_type": "markdown",
      "source": [
        "## Google Colabの設定"
      ],
      "metadata": {
        "id": "K9LnkJjhLYmY"
      }
    },
    {
      "cell_type": "code",
      "execution_count": 1,
      "metadata": {
        "colab": {
          "base_uri": "https://localhost:8080/"
        },
        "id": "RbSmNhPGJy05",
        "outputId": "237a6896-1166-49a5-87cc-7bbb3f7a3aa9"
      },
      "outputs": [
        {
          "output_type": "stream",
          "name": "stdout",
          "text": [
            "Drive already mounted at /content/drive; to attempt to forcibly remount, call drive.mount(\"/content/drive\", force_remount=True).\n"
          ]
        }
      ],
      "source": [
        "from google.colab import drive\n",
        "drive.mount('/content/drive')"
      ]
    },
    {
      "cell_type": "code",
      "source": [
        "#TEMP_DIR = \"./temp\"\n",
        "INPUT_DIR:str = \"/content/drive/MyDrive/Ozone_Level_Detection/01_input\"\n",
        "#TRAIN_DIR:str = INPUT_DIR + \"/train_data\"\n",
        "#TEST_DIR:str = INPUT_DIR + \"/test_data\"\n",
        "ANALYSIS_DIR:str = \"/content/drive/MyDrive/Ozone_Level_Detection/03_code-analysis\"\n",
        "MODEL_DIR:str = \"/content/drive/MyDrive/Ozone_Level_Detection//04_model\"\n",
        "SUBMISSION_DIR:str = '/content/drive/MyDrive/Ozone_Level_Detection/05_submission'\n",
        "CHECKPOINT_PATH:str = MODEL_DIR"
      ],
      "metadata": {
        "id": "CAWax4MKKuTJ"
      },
      "execution_count": 2,
      "outputs": []
    },
    {
      "cell_type": "markdown",
      "source": [
        "## メインコード"
      ],
      "metadata": {
        "id": "cFSgk1UXLn1o"
      }
    },
    {
      "cell_type": "code",
      "source": [
        "import tensorflow as tf\n",
        "from tensorflow import keras\n",
        "\n",
        "import os\n",
        "import tempfile\n",
        "\n",
        "import matplotlib as mpl\n",
        "import matplotlib.pyplot as plt\n",
        "import numpy as np\n",
        "import pandas as pd\n",
        "import seaborn as sns\n",
        "\n",
        "import sklearn\n",
        "from sklearn.metrics import confusion_matrix\n",
        "from sklearn.model_selection import train_test_split\n",
        "from sklearn.preprocessing import StandardScaler"
      ],
      "metadata": {
        "id": "X0udKWUSLm4I"
      },
      "execution_count": 3,
      "outputs": []
    },
    {
      "cell_type": "code",
      "source": [
        "mpl.rcParams['figure.figsize'] = (12, 10)\n",
        "colors = plt.rcParams['axes.prop_cycle'].by_key()['color']"
      ],
      "metadata": {
        "id": "flcUgGaSzEaz"
      },
      "execution_count": 4,
      "outputs": []
    },
    {
      "cell_type": "code",
      "source": [
        "df = pd.read_csv(INPUT_DIR+\"/train.tsv\", index_col='Date', parse_dates=True, sep='\\t')\n",
        "df = df.drop(['id'], axis=1)"
      ],
      "metadata": {
        "id": "4iduvhWnLtn5"
      },
      "execution_count": 5,
      "outputs": []
    },
    {
      "cell_type": "code",
      "source": [
        "df"
      ],
      "metadata": {
        "colab": {
          "base_uri": "https://localhost:8080/",
          "height": 455
        },
        "id": "4ZDIvHQqMCsO",
        "outputId": "dfd8fdab-c787-4134-809b-07e63db89684"
      },
      "execution_count": 6,
      "outputs": [
        {
          "output_type": "execute_result",
          "data": {
            "text/plain": [
              "            WSR0  WSR1  WSR2  WSR3  WSR4  WSR5  WSR6  WSR7  WSR8  WSR9  ...  \\\n",
              "Date                                                                    ...   \n",
              "1998-01-01   0.8   1.8   2.4   2.1   2.0   2.1   1.5   1.7   1.9   2.3  ...   \n",
              "1998-01-02   2.8   3.2   3.3   2.7   3.3   3.2   2.9   2.8   3.1   3.4  ...   \n",
              "1998-01-03   2.9   2.8   2.6   2.1   2.2   2.5   2.5   2.7   2.2   2.5  ...   \n",
              "1998-01-04   4.7   3.8   3.7   3.8   2.9   3.1   2.8   2.5   2.4   3.1  ...   \n",
              "1998-01-05   2.6   2.1   1.6   1.4   0.9   1.5   1.2   1.4   1.3   1.4  ...   \n",
              "...          ...   ...   ...   ...   ...   ...   ...   ...   ...   ...  ...   \n",
              "2001-06-29   0.8   0.9   0.3   0.3   0.7   0.8   1.3   1.9   3.0   3.0  ...   \n",
              "2001-06-30   1.0   0.7   0.8   0.6   0.9   1.2   1.3   1.7   2.8   2.9  ...   \n",
              "2001-07-01   0.7   1.0   1.4   0.9   1.0   1.2   1.4   1.4   1.1   2.0  ...   \n",
              "2001-07-02   1.7   1.7   1.1   1.3   1.0   1.0   1.2   1.8   1.8   1.8  ...   \n",
              "2001-07-03   0.5   0.5   0.8   0.6   0.8   0.8   1.0   1.5   1.8   1.8  ...   \n",
              "\n",
              "            RH50    U50    V50    HT50     KI     TT      SLP  SLP_  Precp  \\\n",
              "Date                                                                         \n",
              "1998-01-01  0.15  10.67  -1.56  5795.0 -12.10  17.90  10330.0 -55.0   0.00   \n",
              "1998-01-02  0.48   8.39   3.84  5805.0  14.05  29.00  10275.0 -55.0   0.00   \n",
              "1998-01-03  0.60   6.94   9.80  5790.0  17.90  41.30  10235.0 -40.0   0.00   \n",
              "1998-01-04  0.49   8.73  10.54  5775.0  31.15  51.70  10195.0 -40.0   2.08   \n",
              "1998-01-05   NaN    NaN    NaN     NaN    NaN    NaN      NaN   NaN   0.58   \n",
              "...          ...    ...    ...     ...    ...    ...      ...   ...    ...   \n",
              "2001-06-29  0.45   8.65  -1.27  5870.0  27.80  44.80  10190.0 -25.0   0.05   \n",
              "2001-06-30  0.65   5.38   2.00  5850.0  35.60  49.60  10175.0 -15.0   0.18   \n",
              "2001-07-01  0.22   2.29   4.09  5855.0  32.10  48.20  10155.0 -20.0   0.23   \n",
              "2001-07-02  0.39  -1.84   5.32  5865.0  28.10  45.00  10160.0   5.0   2.87   \n",
              "2001-07-03  0.91  -4.09   2.42  5895.0  35.50  46.05  10190.0  30.0   0.00   \n",
              "\n",
              "            OZONE  \n",
              "Date               \n",
              "1998-01-01      0  \n",
              "1998-01-02      0  \n",
              "1998-01-03      0  \n",
              "1998-01-04      0  \n",
              "1998-01-05      0  \n",
              "...           ...  \n",
              "2001-06-29      0  \n",
              "2001-06-30      0  \n",
              "2001-07-01      0  \n",
              "2001-07-02      0  \n",
              "2001-07-03      0  \n",
              "\n",
              "[1267 rows x 73 columns]"
            ],
            "text/html": [
              "\n",
              "  <div id=\"df-f186df23-a3df-4762-b54c-ade556849329\" class=\"colab-df-container\">\n",
              "    <div>\n",
              "<style scoped>\n",
              "    .dataframe tbody tr th:only-of-type {\n",
              "        vertical-align: middle;\n",
              "    }\n",
              "\n",
              "    .dataframe tbody tr th {\n",
              "        vertical-align: top;\n",
              "    }\n",
              "\n",
              "    .dataframe thead th {\n",
              "        text-align: right;\n",
              "    }\n",
              "</style>\n",
              "<table border=\"1\" class=\"dataframe\">\n",
              "  <thead>\n",
              "    <tr style=\"text-align: right;\">\n",
              "      <th></th>\n",
              "      <th>WSR0</th>\n",
              "      <th>WSR1</th>\n",
              "      <th>WSR2</th>\n",
              "      <th>WSR3</th>\n",
              "      <th>WSR4</th>\n",
              "      <th>WSR5</th>\n",
              "      <th>WSR6</th>\n",
              "      <th>WSR7</th>\n",
              "      <th>WSR8</th>\n",
              "      <th>WSR9</th>\n",
              "      <th>...</th>\n",
              "      <th>RH50</th>\n",
              "      <th>U50</th>\n",
              "      <th>V50</th>\n",
              "      <th>HT50</th>\n",
              "      <th>KI</th>\n",
              "      <th>TT</th>\n",
              "      <th>SLP</th>\n",
              "      <th>SLP_</th>\n",
              "      <th>Precp</th>\n",
              "      <th>OZONE</th>\n",
              "    </tr>\n",
              "    <tr>\n",
              "      <th>Date</th>\n",
              "      <th></th>\n",
              "      <th></th>\n",
              "      <th></th>\n",
              "      <th></th>\n",
              "      <th></th>\n",
              "      <th></th>\n",
              "      <th></th>\n",
              "      <th></th>\n",
              "      <th></th>\n",
              "      <th></th>\n",
              "      <th></th>\n",
              "      <th></th>\n",
              "      <th></th>\n",
              "      <th></th>\n",
              "      <th></th>\n",
              "      <th></th>\n",
              "      <th></th>\n",
              "      <th></th>\n",
              "      <th></th>\n",
              "      <th></th>\n",
              "      <th></th>\n",
              "    </tr>\n",
              "  </thead>\n",
              "  <tbody>\n",
              "    <tr>\n",
              "      <th>1998-01-01</th>\n",
              "      <td>0.8</td>\n",
              "      <td>1.8</td>\n",
              "      <td>2.4</td>\n",
              "      <td>2.1</td>\n",
              "      <td>2.0</td>\n",
              "      <td>2.1</td>\n",
              "      <td>1.5</td>\n",
              "      <td>1.7</td>\n",
              "      <td>1.9</td>\n",
              "      <td>2.3</td>\n",
              "      <td>...</td>\n",
              "      <td>0.15</td>\n",
              "      <td>10.67</td>\n",
              "      <td>-1.56</td>\n",
              "      <td>5795.0</td>\n",
              "      <td>-12.10</td>\n",
              "      <td>17.90</td>\n",
              "      <td>10330.0</td>\n",
              "      <td>-55.0</td>\n",
              "      <td>0.00</td>\n",
              "      <td>0</td>\n",
              "    </tr>\n",
              "    <tr>\n",
              "      <th>1998-01-02</th>\n",
              "      <td>2.8</td>\n",
              "      <td>3.2</td>\n",
              "      <td>3.3</td>\n",
              "      <td>2.7</td>\n",
              "      <td>3.3</td>\n",
              "      <td>3.2</td>\n",
              "      <td>2.9</td>\n",
              "      <td>2.8</td>\n",
              "      <td>3.1</td>\n",
              "      <td>3.4</td>\n",
              "      <td>...</td>\n",
              "      <td>0.48</td>\n",
              "      <td>8.39</td>\n",
              "      <td>3.84</td>\n",
              "      <td>5805.0</td>\n",
              "      <td>14.05</td>\n",
              "      <td>29.00</td>\n",
              "      <td>10275.0</td>\n",
              "      <td>-55.0</td>\n",
              "      <td>0.00</td>\n",
              "      <td>0</td>\n",
              "    </tr>\n",
              "    <tr>\n",
              "      <th>1998-01-03</th>\n",
              "      <td>2.9</td>\n",
              "      <td>2.8</td>\n",
              "      <td>2.6</td>\n",
              "      <td>2.1</td>\n",
              "      <td>2.2</td>\n",
              "      <td>2.5</td>\n",
              "      <td>2.5</td>\n",
              "      <td>2.7</td>\n",
              "      <td>2.2</td>\n",
              "      <td>2.5</td>\n",
              "      <td>...</td>\n",
              "      <td>0.60</td>\n",
              "      <td>6.94</td>\n",
              "      <td>9.80</td>\n",
              "      <td>5790.0</td>\n",
              "      <td>17.90</td>\n",
              "      <td>41.30</td>\n",
              "      <td>10235.0</td>\n",
              "      <td>-40.0</td>\n",
              "      <td>0.00</td>\n",
              "      <td>0</td>\n",
              "    </tr>\n",
              "    <tr>\n",
              "      <th>1998-01-04</th>\n",
              "      <td>4.7</td>\n",
              "      <td>3.8</td>\n",
              "      <td>3.7</td>\n",
              "      <td>3.8</td>\n",
              "      <td>2.9</td>\n",
              "      <td>3.1</td>\n",
              "      <td>2.8</td>\n",
              "      <td>2.5</td>\n",
              "      <td>2.4</td>\n",
              "      <td>3.1</td>\n",
              "      <td>...</td>\n",
              "      <td>0.49</td>\n",
              "      <td>8.73</td>\n",
              "      <td>10.54</td>\n",
              "      <td>5775.0</td>\n",
              "      <td>31.15</td>\n",
              "      <td>51.70</td>\n",
              "      <td>10195.0</td>\n",
              "      <td>-40.0</td>\n",
              "      <td>2.08</td>\n",
              "      <td>0</td>\n",
              "    </tr>\n",
              "    <tr>\n",
              "      <th>1998-01-05</th>\n",
              "      <td>2.6</td>\n",
              "      <td>2.1</td>\n",
              "      <td>1.6</td>\n",
              "      <td>1.4</td>\n",
              "      <td>0.9</td>\n",
              "      <td>1.5</td>\n",
              "      <td>1.2</td>\n",
              "      <td>1.4</td>\n",
              "      <td>1.3</td>\n",
              "      <td>1.4</td>\n",
              "      <td>...</td>\n",
              "      <td>NaN</td>\n",
              "      <td>NaN</td>\n",
              "      <td>NaN</td>\n",
              "      <td>NaN</td>\n",
              "      <td>NaN</td>\n",
              "      <td>NaN</td>\n",
              "      <td>NaN</td>\n",
              "      <td>NaN</td>\n",
              "      <td>0.58</td>\n",
              "      <td>0</td>\n",
              "    </tr>\n",
              "    <tr>\n",
              "      <th>...</th>\n",
              "      <td>...</td>\n",
              "      <td>...</td>\n",
              "      <td>...</td>\n",
              "      <td>...</td>\n",
              "      <td>...</td>\n",
              "      <td>...</td>\n",
              "      <td>...</td>\n",
              "      <td>...</td>\n",
              "      <td>...</td>\n",
              "      <td>...</td>\n",
              "      <td>...</td>\n",
              "      <td>...</td>\n",
              "      <td>...</td>\n",
              "      <td>...</td>\n",
              "      <td>...</td>\n",
              "      <td>...</td>\n",
              "      <td>...</td>\n",
              "      <td>...</td>\n",
              "      <td>...</td>\n",
              "      <td>...</td>\n",
              "      <td>...</td>\n",
              "    </tr>\n",
              "    <tr>\n",
              "      <th>2001-06-29</th>\n",
              "      <td>0.8</td>\n",
              "      <td>0.9</td>\n",
              "      <td>0.3</td>\n",
              "      <td>0.3</td>\n",
              "      <td>0.7</td>\n",
              "      <td>0.8</td>\n",
              "      <td>1.3</td>\n",
              "      <td>1.9</td>\n",
              "      <td>3.0</td>\n",
              "      <td>3.0</td>\n",
              "      <td>...</td>\n",
              "      <td>0.45</td>\n",
              "      <td>8.65</td>\n",
              "      <td>-1.27</td>\n",
              "      <td>5870.0</td>\n",
              "      <td>27.80</td>\n",
              "      <td>44.80</td>\n",
              "      <td>10190.0</td>\n",
              "      <td>-25.0</td>\n",
              "      <td>0.05</td>\n",
              "      <td>0</td>\n",
              "    </tr>\n",
              "    <tr>\n",
              "      <th>2001-06-30</th>\n",
              "      <td>1.0</td>\n",
              "      <td>0.7</td>\n",
              "      <td>0.8</td>\n",
              "      <td>0.6</td>\n",
              "      <td>0.9</td>\n",
              "      <td>1.2</td>\n",
              "      <td>1.3</td>\n",
              "      <td>1.7</td>\n",
              "      <td>2.8</td>\n",
              "      <td>2.9</td>\n",
              "      <td>...</td>\n",
              "      <td>0.65</td>\n",
              "      <td>5.38</td>\n",
              "      <td>2.00</td>\n",
              "      <td>5850.0</td>\n",
              "      <td>35.60</td>\n",
              "      <td>49.60</td>\n",
              "      <td>10175.0</td>\n",
              "      <td>-15.0</td>\n",
              "      <td>0.18</td>\n",
              "      <td>0</td>\n",
              "    </tr>\n",
              "    <tr>\n",
              "      <th>2001-07-01</th>\n",
              "      <td>0.7</td>\n",
              "      <td>1.0</td>\n",
              "      <td>1.4</td>\n",
              "      <td>0.9</td>\n",
              "      <td>1.0</td>\n",
              "      <td>1.2</td>\n",
              "      <td>1.4</td>\n",
              "      <td>1.4</td>\n",
              "      <td>1.1</td>\n",
              "      <td>2.0</td>\n",
              "      <td>...</td>\n",
              "      <td>0.22</td>\n",
              "      <td>2.29</td>\n",
              "      <td>4.09</td>\n",
              "      <td>5855.0</td>\n",
              "      <td>32.10</td>\n",
              "      <td>48.20</td>\n",
              "      <td>10155.0</td>\n",
              "      <td>-20.0</td>\n",
              "      <td>0.23</td>\n",
              "      <td>0</td>\n",
              "    </tr>\n",
              "    <tr>\n",
              "      <th>2001-07-02</th>\n",
              "      <td>1.7</td>\n",
              "      <td>1.7</td>\n",
              "      <td>1.1</td>\n",
              "      <td>1.3</td>\n",
              "      <td>1.0</td>\n",
              "      <td>1.0</td>\n",
              "      <td>1.2</td>\n",
              "      <td>1.8</td>\n",
              "      <td>1.8</td>\n",
              "      <td>1.8</td>\n",
              "      <td>...</td>\n",
              "      <td>0.39</td>\n",
              "      <td>-1.84</td>\n",
              "      <td>5.32</td>\n",
              "      <td>5865.0</td>\n",
              "      <td>28.10</td>\n",
              "      <td>45.00</td>\n",
              "      <td>10160.0</td>\n",
              "      <td>5.0</td>\n",
              "      <td>2.87</td>\n",
              "      <td>0</td>\n",
              "    </tr>\n",
              "    <tr>\n",
              "      <th>2001-07-03</th>\n",
              "      <td>0.5</td>\n",
              "      <td>0.5</td>\n",
              "      <td>0.8</td>\n",
              "      <td>0.6</td>\n",
              "      <td>0.8</td>\n",
              "      <td>0.8</td>\n",
              "      <td>1.0</td>\n",
              "      <td>1.5</td>\n",
              "      <td>1.8</td>\n",
              "      <td>1.8</td>\n",
              "      <td>...</td>\n",
              "      <td>0.91</td>\n",
              "      <td>-4.09</td>\n",
              "      <td>2.42</td>\n",
              "      <td>5895.0</td>\n",
              "      <td>35.50</td>\n",
              "      <td>46.05</td>\n",
              "      <td>10190.0</td>\n",
              "      <td>30.0</td>\n",
              "      <td>0.00</td>\n",
              "      <td>0</td>\n",
              "    </tr>\n",
              "  </tbody>\n",
              "</table>\n",
              "<p>1267 rows × 73 columns</p>\n",
              "</div>\n",
              "    <div class=\"colab-df-buttons\">\n",
              "\n",
              "  <div class=\"colab-df-container\">\n",
              "    <button class=\"colab-df-convert\" onclick=\"convertToInteractive('df-f186df23-a3df-4762-b54c-ade556849329')\"\n",
              "            title=\"Convert this dataframe to an interactive table.\"\n",
              "            style=\"display:none;\">\n",
              "\n",
              "  <svg xmlns=\"http://www.w3.org/2000/svg\" height=\"24px\" viewBox=\"0 -960 960 960\">\n",
              "    <path d=\"M120-120v-720h720v720H120Zm60-500h600v-160H180v160Zm220 220h160v-160H400v160Zm0 220h160v-160H400v160ZM180-400h160v-160H180v160Zm440 0h160v-160H620v160ZM180-180h160v-160H180v160Zm440 0h160v-160H620v160Z\"/>\n",
              "  </svg>\n",
              "    </button>\n",
              "\n",
              "  <style>\n",
              "    .colab-df-container {\n",
              "      display:flex;\n",
              "      gap: 12px;\n",
              "    }\n",
              "\n",
              "    .colab-df-convert {\n",
              "      background-color: #E8F0FE;\n",
              "      border: none;\n",
              "      border-radius: 50%;\n",
              "      cursor: pointer;\n",
              "      display: none;\n",
              "      fill: #1967D2;\n",
              "      height: 32px;\n",
              "      padding: 0 0 0 0;\n",
              "      width: 32px;\n",
              "    }\n",
              "\n",
              "    .colab-df-convert:hover {\n",
              "      background-color: #E2EBFA;\n",
              "      box-shadow: 0px 1px 2px rgba(60, 64, 67, 0.3), 0px 1px 3px 1px rgba(60, 64, 67, 0.15);\n",
              "      fill: #174EA6;\n",
              "    }\n",
              "\n",
              "    .colab-df-buttons div {\n",
              "      margin-bottom: 4px;\n",
              "    }\n",
              "\n",
              "    [theme=dark] .colab-df-convert {\n",
              "      background-color: #3B4455;\n",
              "      fill: #D2E3FC;\n",
              "    }\n",
              "\n",
              "    [theme=dark] .colab-df-convert:hover {\n",
              "      background-color: #434B5C;\n",
              "      box-shadow: 0px 1px 3px 1px rgba(0, 0, 0, 0.15);\n",
              "      filter: drop-shadow(0px 1px 2px rgba(0, 0, 0, 0.3));\n",
              "      fill: #FFFFFF;\n",
              "    }\n",
              "  </style>\n",
              "\n",
              "    <script>\n",
              "      const buttonEl =\n",
              "        document.querySelector('#df-f186df23-a3df-4762-b54c-ade556849329 button.colab-df-convert');\n",
              "      buttonEl.style.display =\n",
              "        google.colab.kernel.accessAllowed ? 'block' : 'none';\n",
              "\n",
              "      async function convertToInteractive(key) {\n",
              "        const element = document.querySelector('#df-f186df23-a3df-4762-b54c-ade556849329');\n",
              "        const dataTable =\n",
              "          await google.colab.kernel.invokeFunction('convertToInteractive',\n",
              "                                                    [key], {});\n",
              "        if (!dataTable) return;\n",
              "\n",
              "        const docLinkHtml = 'Like what you see? Visit the ' +\n",
              "          '<a target=\"_blank\" href=https://colab.research.google.com/notebooks/data_table.ipynb>data table notebook</a>'\n",
              "          + ' to learn more about interactive tables.';\n",
              "        element.innerHTML = '';\n",
              "        dataTable['output_type'] = 'display_data';\n",
              "        await google.colab.output.renderOutput(dataTable, element);\n",
              "        const docLink = document.createElement('div');\n",
              "        docLink.innerHTML = docLinkHtml;\n",
              "        element.appendChild(docLink);\n",
              "      }\n",
              "    </script>\n",
              "  </div>\n",
              "\n",
              "\n",
              "<div id=\"df-005c5ddb-f182-4a0d-939e-be18a954dbab\">\n",
              "  <button class=\"colab-df-quickchart\" onclick=\"quickchart('df-005c5ddb-f182-4a0d-939e-be18a954dbab')\"\n",
              "            title=\"Suggest charts\"\n",
              "            style=\"display:none;\">\n",
              "\n",
              "<svg xmlns=\"http://www.w3.org/2000/svg\" height=\"24px\"viewBox=\"0 0 24 24\"\n",
              "     width=\"24px\">\n",
              "    <g>\n",
              "        <path d=\"M19 3H5c-1.1 0-2 .9-2 2v14c0 1.1.9 2 2 2h14c1.1 0 2-.9 2-2V5c0-1.1-.9-2-2-2zM9 17H7v-7h2v7zm4 0h-2V7h2v10zm4 0h-2v-4h2v4z\"/>\n",
              "    </g>\n",
              "</svg>\n",
              "  </button>\n",
              "\n",
              "<style>\n",
              "  .colab-df-quickchart {\n",
              "      --bg-color: #E8F0FE;\n",
              "      --fill-color: #1967D2;\n",
              "      --hover-bg-color: #E2EBFA;\n",
              "      --hover-fill-color: #174EA6;\n",
              "      --disabled-fill-color: #AAA;\n",
              "      --disabled-bg-color: #DDD;\n",
              "  }\n",
              "\n",
              "  [theme=dark] .colab-df-quickchart {\n",
              "      --bg-color: #3B4455;\n",
              "      --fill-color: #D2E3FC;\n",
              "      --hover-bg-color: #434B5C;\n",
              "      --hover-fill-color: #FFFFFF;\n",
              "      --disabled-bg-color: #3B4455;\n",
              "      --disabled-fill-color: #666;\n",
              "  }\n",
              "\n",
              "  .colab-df-quickchart {\n",
              "    background-color: var(--bg-color);\n",
              "    border: none;\n",
              "    border-radius: 50%;\n",
              "    cursor: pointer;\n",
              "    display: none;\n",
              "    fill: var(--fill-color);\n",
              "    height: 32px;\n",
              "    padding: 0;\n",
              "    width: 32px;\n",
              "  }\n",
              "\n",
              "  .colab-df-quickchart:hover {\n",
              "    background-color: var(--hover-bg-color);\n",
              "    box-shadow: 0 1px 2px rgba(60, 64, 67, 0.3), 0 1px 3px 1px rgba(60, 64, 67, 0.15);\n",
              "    fill: var(--button-hover-fill-color);\n",
              "  }\n",
              "\n",
              "  .colab-df-quickchart-complete:disabled,\n",
              "  .colab-df-quickchart-complete:disabled:hover {\n",
              "    background-color: var(--disabled-bg-color);\n",
              "    fill: var(--disabled-fill-color);\n",
              "    box-shadow: none;\n",
              "  }\n",
              "\n",
              "  .colab-df-spinner {\n",
              "    border: 2px solid var(--fill-color);\n",
              "    border-color: transparent;\n",
              "    border-bottom-color: var(--fill-color);\n",
              "    animation:\n",
              "      spin 1s steps(1) infinite;\n",
              "  }\n",
              "\n",
              "  @keyframes spin {\n",
              "    0% {\n",
              "      border-color: transparent;\n",
              "      border-bottom-color: var(--fill-color);\n",
              "      border-left-color: var(--fill-color);\n",
              "    }\n",
              "    20% {\n",
              "      border-color: transparent;\n",
              "      border-left-color: var(--fill-color);\n",
              "      border-top-color: var(--fill-color);\n",
              "    }\n",
              "    30% {\n",
              "      border-color: transparent;\n",
              "      border-left-color: var(--fill-color);\n",
              "      border-top-color: var(--fill-color);\n",
              "      border-right-color: var(--fill-color);\n",
              "    }\n",
              "    40% {\n",
              "      border-color: transparent;\n",
              "      border-right-color: var(--fill-color);\n",
              "      border-top-color: var(--fill-color);\n",
              "    }\n",
              "    60% {\n",
              "      border-color: transparent;\n",
              "      border-right-color: var(--fill-color);\n",
              "    }\n",
              "    80% {\n",
              "      border-color: transparent;\n",
              "      border-right-color: var(--fill-color);\n",
              "      border-bottom-color: var(--fill-color);\n",
              "    }\n",
              "    90% {\n",
              "      border-color: transparent;\n",
              "      border-bottom-color: var(--fill-color);\n",
              "    }\n",
              "  }\n",
              "</style>\n",
              "\n",
              "  <script>\n",
              "    async function quickchart(key) {\n",
              "      const quickchartButtonEl =\n",
              "        document.querySelector('#' + key + ' button');\n",
              "      quickchartButtonEl.disabled = true;  // To prevent multiple clicks.\n",
              "      quickchartButtonEl.classList.add('colab-df-spinner');\n",
              "      try {\n",
              "        const charts = await google.colab.kernel.invokeFunction(\n",
              "            'suggestCharts', [key], {});\n",
              "      } catch (error) {\n",
              "        console.error('Error during call to suggestCharts:', error);\n",
              "      }\n",
              "      quickchartButtonEl.classList.remove('colab-df-spinner');\n",
              "      quickchartButtonEl.classList.add('colab-df-quickchart-complete');\n",
              "    }\n",
              "    (() => {\n",
              "      let quickchartButtonEl =\n",
              "        document.querySelector('#df-005c5ddb-f182-4a0d-939e-be18a954dbab button');\n",
              "      quickchartButtonEl.style.display =\n",
              "        google.colab.kernel.accessAllowed ? 'block' : 'none';\n",
              "    })();\n",
              "  </script>\n",
              "</div>\n",
              "\n",
              "  <div id=\"id_e5cddb7a-af02-45b4-9f70-e35821a88e2d\">\n",
              "    <style>\n",
              "      .colab-df-generate {\n",
              "        background-color: #E8F0FE;\n",
              "        border: none;\n",
              "        border-radius: 50%;\n",
              "        cursor: pointer;\n",
              "        display: none;\n",
              "        fill: #1967D2;\n",
              "        height: 32px;\n",
              "        padding: 0 0 0 0;\n",
              "        width: 32px;\n",
              "      }\n",
              "\n",
              "      .colab-df-generate:hover {\n",
              "        background-color: #E2EBFA;\n",
              "        box-shadow: 0px 1px 2px rgba(60, 64, 67, 0.3), 0px 1px 3px 1px rgba(60, 64, 67, 0.15);\n",
              "        fill: #174EA6;\n",
              "      }\n",
              "\n",
              "      [theme=dark] .colab-df-generate {\n",
              "        background-color: #3B4455;\n",
              "        fill: #D2E3FC;\n",
              "      }\n",
              "\n",
              "      [theme=dark] .colab-df-generate:hover {\n",
              "        background-color: #434B5C;\n",
              "        box-shadow: 0px 1px 3px 1px rgba(0, 0, 0, 0.15);\n",
              "        filter: drop-shadow(0px 1px 2px rgba(0, 0, 0, 0.3));\n",
              "        fill: #FFFFFF;\n",
              "      }\n",
              "    </style>\n",
              "    <button class=\"colab-df-generate\" onclick=\"generateWithVariable('df')\"\n",
              "            title=\"Generate code using this dataframe.\"\n",
              "            style=\"display:none;\">\n",
              "\n",
              "  <svg xmlns=\"http://www.w3.org/2000/svg\" height=\"24px\"viewBox=\"0 0 24 24\"\n",
              "       width=\"24px\">\n",
              "    <path d=\"M7,19H8.4L18.45,9,17,7.55,7,17.6ZM5,21V16.75L18.45,3.32a2,2,0,0,1,2.83,0l1.4,1.43a1.91,1.91,0,0,1,.58,1.4,1.91,1.91,0,0,1-.58,1.4L9.25,21ZM18.45,9,17,7.55Zm-12,3A5.31,5.31,0,0,0,4.9,8.1,5.31,5.31,0,0,0,1,6.5,5.31,5.31,0,0,0,4.9,4.9,5.31,5.31,0,0,0,6.5,1,5.31,5.31,0,0,0,8.1,4.9,5.31,5.31,0,0,0,12,6.5,5.46,5.46,0,0,0,6.5,12Z\"/>\n",
              "  </svg>\n",
              "    </button>\n",
              "    <script>\n",
              "      (() => {\n",
              "      const buttonEl =\n",
              "        document.querySelector('#id_e5cddb7a-af02-45b4-9f70-e35821a88e2d button.colab-df-generate');\n",
              "      buttonEl.style.display =\n",
              "        google.colab.kernel.accessAllowed ? 'block' : 'none';\n",
              "\n",
              "      buttonEl.onclick = () => {\n",
              "        google.colab.notebook.generateWithVariable('df');\n",
              "      }\n",
              "      })();\n",
              "    </script>\n",
              "  </div>\n",
              "\n",
              "    </div>\n",
              "  </div>\n"
            ],
            "application/vnd.google.colaboratory.intrinsic+json": {
              "type": "dataframe",
              "variable_name": "df"
            }
          },
          "metadata": {},
          "execution_count": 6
        }
      ]
    },
    {
      "cell_type": "code",
      "source": [
        "# showing column wise %ge of NaN values they contains\n",
        "null_col = []\n",
        "for i in df.columns:\n",
        "  print(i,\"\\t-\\t\", df[i].isna().mean()*100)\n",
        "  if df[i].isna().mean()*100 > 0:\n",
        "    null_col.append(i)"
      ],
      "metadata": {
        "colab": {
          "base_uri": "https://localhost:8080/"
        },
        "id": "nJXnuZoPMItp",
        "outputId": "7387ad3c-bdc9-4b26-8fcf-6422c0b66e0c"
      },
      "execution_count": 7,
      "outputs": [
        {
          "output_type": "stream",
          "name": "stdout",
          "text": [
            "WSR0 \t-\t 2.131018153117601\n",
            "WSR1 \t-\t 2.131018153117601\n",
            "WSR2 \t-\t 2.209944751381215\n",
            "WSR3 \t-\t 2.131018153117601\n",
            "WSR4 \t-\t 2.131018153117601\n",
            "WSR5 \t-\t 2.131018153117601\n",
            "WSR6 \t-\t 2.0520915548539858\n",
            "WSR7 \t-\t 1.8153117600631412\n",
            "WSR8 \t-\t 1.8942383583267564\n",
            "WSR9 \t-\t 2.0520915548539858\n",
            "WSR10 \t-\t 2.0520915548539858\n",
            "WSR11 \t-\t 1.973164956590371\n",
            "WSR12 \t-\t 1.8942383583267564\n",
            "WSR13 \t-\t 2.0520915548539858\n",
            "WSR14 \t-\t 2.0520915548539858\n",
            "WSR15 \t-\t 1.8942383583267564\n",
            "WSR16 \t-\t 1.8942383583267564\n",
            "WSR17 \t-\t 1.8153117600631412\n",
            "WSR18 \t-\t 1.8942383583267564\n",
            "WSR19 \t-\t 2.131018153117601\n",
            "WSR20 \t-\t 2.131018153117601\n",
            "WSR21 \t-\t 2.131018153117601\n",
            "WSR22 \t-\t 2.131018153117601\n",
            "WSR23 \t-\t 2.131018153117601\n",
            "WSR_PK \t-\t 1.5785319652722969\n",
            "WSR_AV \t-\t 1.5785319652722969\n",
            "T0 \t-\t 0.3946329913180742\n",
            "T1 \t-\t 0.3946329913180742\n",
            "T2 \t-\t 0.4735595895816891\n",
            "T3 \t-\t 0.3946329913180742\n",
            "T4 \t-\t 0.3946329913180742\n",
            "T5 \t-\t 0.3946329913180742\n",
            "T6 \t-\t 0.4735595895816891\n",
            "T7 \t-\t 0.31570639305445936\n",
            "T8 \t-\t 0.31570639305445936\n",
            "T9 \t-\t 0.4735595895816891\n",
            "T10 \t-\t 0.4735595895816891\n",
            "T11 \t-\t 0.3946329913180742\n",
            "T12 \t-\t 0.3946329913180742\n",
            "T13 \t-\t 0.6314127861089187\n",
            "T14 \t-\t 0.6314127861089187\n",
            "T15 \t-\t 0.3946329913180742\n",
            "T16 \t-\t 0.3946329913180742\n",
            "T17 \t-\t 0.23677979479084454\n",
            "T18 \t-\t 0.31570639305445936\n",
            "T19 \t-\t 0.3946329913180742\n",
            "T20 \t-\t 0.4735595895816891\n",
            "T21 \t-\t 0.3946329913180742\n",
            "T22 \t-\t 0.4735595895816891\n",
            "T23 \t-\t 0.4735595895816891\n",
            "T_PK \t-\t 0.0\n",
            "T_AV \t-\t 0.0\n",
            "T85 \t-\t 5.05130228887135\n",
            "RH85 \t-\t 5.05130228887135\n",
            "U85 \t-\t 7.419100236779795\n",
            "V85 \t-\t 7.419100236779795\n",
            "HT85 \t-\t 4.89344909234412\n",
            "T70 \t-\t 5.524861878453039\n",
            "RH70 \t-\t 5.6037884767166535\n",
            "U70 \t-\t 6.866614048934491\n",
            "V70 \t-\t 6.866614048934491\n",
            "HT70 \t-\t 5.288082083662194\n",
            "T50 \t-\t 5.919494869771113\n",
            "RH50 \t-\t 5.998421468034728\n",
            "U50 \t-\t 8.918705603788476\n",
            "V50 \t-\t 8.918705603788476\n",
            "HT50 \t-\t 5.919494869771113\n",
            "KI \t-\t 6.393054459352802\n",
            "TT \t-\t 6.077348066298343\n",
            "SLP \t-\t 4.89344909234412\n",
            "SLP_ \t-\t 8.524072612470404\n",
            "Precp \t-\t 0.0\n",
            "OZONE \t-\t 0.0\n"
          ]
        }
      ]
    },
    {
      "cell_type": "code",
      "source": [
        "# Since dataset contains values in str format, changing it into float values\n",
        "\n",
        "for i in df.columns[1:-1]:\n",
        "  df[i] = df[i].astype(str).astype(float)\n",
        "\n",
        "for i in null_col:\n",
        "  df[i] = df[i].fillna(df[i].mean())\n",
        "\n",
        "# lets check for null values again\n",
        "for i in df.columns:\n",
        "  print(i,\"\\t-\\t\", df[i].isna().mean()*100)"
      ],
      "metadata": {
        "colab": {
          "base_uri": "https://localhost:8080/"
        },
        "id": "bWEUmwxDMM6L",
        "outputId": "069af7c1-248d-44c8-b245-34e40247b146"
      },
      "execution_count": 8,
      "outputs": [
        {
          "output_type": "stream",
          "name": "stdout",
          "text": [
            "WSR0 \t-\t 0.0\n",
            "WSR1 \t-\t 0.0\n",
            "WSR2 \t-\t 0.0\n",
            "WSR3 \t-\t 0.0\n",
            "WSR4 \t-\t 0.0\n",
            "WSR5 \t-\t 0.0\n",
            "WSR6 \t-\t 0.0\n",
            "WSR7 \t-\t 0.0\n",
            "WSR8 \t-\t 0.0\n",
            "WSR9 \t-\t 0.0\n",
            "WSR10 \t-\t 0.0\n",
            "WSR11 \t-\t 0.0\n",
            "WSR12 \t-\t 0.0\n",
            "WSR13 \t-\t 0.0\n",
            "WSR14 \t-\t 0.0\n",
            "WSR15 \t-\t 0.0\n",
            "WSR16 \t-\t 0.0\n",
            "WSR17 \t-\t 0.0\n",
            "WSR18 \t-\t 0.0\n",
            "WSR19 \t-\t 0.0\n",
            "WSR20 \t-\t 0.0\n",
            "WSR21 \t-\t 0.0\n",
            "WSR22 \t-\t 0.0\n",
            "WSR23 \t-\t 0.0\n",
            "WSR_PK \t-\t 0.0\n",
            "WSR_AV \t-\t 0.0\n",
            "T0 \t-\t 0.0\n",
            "T1 \t-\t 0.0\n",
            "T2 \t-\t 0.0\n",
            "T3 \t-\t 0.0\n",
            "T4 \t-\t 0.0\n",
            "T5 \t-\t 0.0\n",
            "T6 \t-\t 0.0\n",
            "T7 \t-\t 0.0\n",
            "T8 \t-\t 0.0\n",
            "T9 \t-\t 0.0\n",
            "T10 \t-\t 0.0\n",
            "T11 \t-\t 0.0\n",
            "T12 \t-\t 0.0\n",
            "T13 \t-\t 0.0\n",
            "T14 \t-\t 0.0\n",
            "T15 \t-\t 0.0\n",
            "T16 \t-\t 0.0\n",
            "T17 \t-\t 0.0\n",
            "T18 \t-\t 0.0\n",
            "T19 \t-\t 0.0\n",
            "T20 \t-\t 0.0\n",
            "T21 \t-\t 0.0\n",
            "T22 \t-\t 0.0\n",
            "T23 \t-\t 0.0\n",
            "T_PK \t-\t 0.0\n",
            "T_AV \t-\t 0.0\n",
            "T85 \t-\t 0.0\n",
            "RH85 \t-\t 0.0\n",
            "U85 \t-\t 0.0\n",
            "V85 \t-\t 0.0\n",
            "HT85 \t-\t 0.0\n",
            "T70 \t-\t 0.0\n",
            "RH70 \t-\t 0.0\n",
            "U70 \t-\t 0.0\n",
            "V70 \t-\t 0.0\n",
            "HT70 \t-\t 0.0\n",
            "T50 \t-\t 0.0\n",
            "RH50 \t-\t 0.0\n",
            "U50 \t-\t 0.0\n",
            "V50 \t-\t 0.0\n",
            "HT50 \t-\t 0.0\n",
            "KI \t-\t 0.0\n",
            "TT \t-\t 0.0\n",
            "SLP \t-\t 0.0\n",
            "SLP_ \t-\t 0.0\n",
            "Precp \t-\t 0.0\n",
            "OZONE \t-\t 0.0\n"
          ]
        }
      ]
    },
    {
      "cell_type": "code",
      "source": [
        "neg, pos = np.bincount(df['OZONE'])\n",
        "total = neg + pos\n",
        "print('Examples:\\n    Total: {}\\n    Positive: {} ({:.2f}% of total)\\n'.format(\n",
        "    total, pos, 100 * pos / total))"
      ],
      "metadata": {
        "colab": {
          "base_uri": "https://localhost:8080/"
        },
        "id": "NZRJ1bZczLu2",
        "outputId": "2b10bac1-b1fc-4d70-d84b-e5d3a8193c34"
      },
      "execution_count": 9,
      "outputs": [
        {
          "output_type": "stream",
          "name": "stdout",
          "text": [
            "Examples:\n",
            "    Total: 1267\n",
            "    Positive: 111 (8.76% of total)\n",
            "\n"
          ]
        }
      ]
    },
    {
      "cell_type": "markdown",
      "source": [
        "### One-Hold法"
      ],
      "metadata": {
        "id": "ypXzW171Miyp"
      }
    },
    {
      "cell_type": "code",
      "source": [
        "# Use a utility from sklearn to split and shuffle your dataset.\n",
        "train_df, val_df = train_test_split(df, test_size=0.2)\n",
        "\n",
        "# Form np arrays of labels and features.\n",
        "train_labels = np.array(train_df.pop('OZONE'))\n",
        "bool_train_labels = train_labels != 0\n",
        "val_labels = np.array(val_df.pop('OZONE'))\n",
        "\n",
        "train_features = np.array(train_df)\n",
        "val_features = np.array(val_df)"
      ],
      "metadata": {
        "id": "xNqh0ktn1JRe"
      },
      "execution_count": 10,
      "outputs": []
    },
    {
      "cell_type": "code",
      "source": [
        "print(f'Average class probability in training set:   {train_labels.mean():.4f}')\n",
        "print(f'Average class probability in validation set: {val_labels.mean():.4f}')"
      ],
      "metadata": {
        "colab": {
          "base_uri": "https://localhost:8080/"
        },
        "id": "6he7LjfAB4Ui",
        "outputId": "29390303-9289-442a-9ed6-e1d2322ec483"
      },
      "execution_count": 11,
      "outputs": [
        {
          "output_type": "stream",
          "name": "stdout",
          "text": [
            "Average class probability in training set:   0.0958\n",
            "Average class probability in validation set: 0.0551\n"
          ]
        }
      ]
    },
    {
      "cell_type": "code",
      "source": [
        "scaler = StandardScaler()\n",
        "train_features = scaler.fit_transform(train_features)\n",
        "val_features = scaler.transform(val_features)\n",
        "\n",
        "train_features = np.clip(train_features, -5, 5)\n",
        "val_features = np.clip(val_features, -5, 5)\n",
        "\n",
        "print('Training labels shape:', train_labels.shape)\n",
        "print('Validation labels shape:', val_labels.shape)\n",
        "\n",
        "print('Training features shape:', train_features.shape)\n",
        "print('Validation features shape:', val_features.shape)"
      ],
      "metadata": {
        "colab": {
          "base_uri": "https://localhost:8080/"
        },
        "id": "hmgnxY4oD6ux",
        "outputId": "b0a8be04-4d8b-4147-b7b1-a247625f7a45"
      },
      "execution_count": 12,
      "outputs": [
        {
          "output_type": "stream",
          "name": "stdout",
          "text": [
            "Training labels shape: (1013,)\n",
            "Validation labels shape: (254,)\n",
            "Training features shape: (1013, 72)\n",
            "Validation features shape: (254, 72)\n"
          ]
        }
      ]
    },
    {
      "cell_type": "markdown",
      "source": [
        "#### Look at the data distribution"
      ],
      "metadata": {
        "id": "I_sy7TRSEPvU"
      }
    },
    {
      "cell_type": "code",
      "source": [
        "pos_df = pd.DataFrame(train_features[ bool_train_labels], columns=train_df.columns)\n",
        "neg_df = pd.DataFrame(train_features[~bool_train_labels], columns=train_df.columns)\n",
        "\n",
        "sns.jointplot(x=pos_df['WSR0'], y=pos_df['WSR1'],\n",
        "              kind='hex', xlim=(-5,5), ylim=(-5,5))\n",
        "plt.suptitle(\"Positive distribution\")\n",
        "\n",
        "sns.jointplot(x=neg_df['WSR0'], y=neg_df['WSR1'],\n",
        "              kind='hex', xlim=(-5,5), ylim=(-5,5))\n",
        "_ = plt.suptitle(\"Negative distribution\")\n"
      ],
      "metadata": {
        "colab": {
          "base_uri": "https://localhost:8080/",
          "height": 1000
        },
        "id": "4944sA2JEU9u",
        "outputId": "5225c0ea-b1c2-4070-cd47-5ee2164ac022"
      },
      "execution_count": 13,
      "outputs": [
        {
          "output_type": "display_data",
          "data": {
            "text/plain": [
              "<Figure size 600x600 with 3 Axes>"
            ],
            "image/png": "[encoded data removed]"
          },
          "metadata": {}
        },
        {
          "output_type": "display_data",
          "data": {
            "text/plain": [
              "<Figure size 600x600 with 3 Axes>"
            ],
            "image/png": "[encoded data removed]"
          },
          "metadata": {}
        }
      ]
    },
    {
      "cell_type": "markdown",
      "source": [
        "#### Define the model and metrics"
      ],
      "metadata": {
        "id": "fcFRE12jCZuD"
      }
    },
    {
      "cell_type": "code",
      "source": [
        "train_features = train_features.reshape((train_features.shape[0], train_features.shape[1], 1))\n",
        "val_features = val_features.reshape((val_features.shape[0], val_features.shape[1], 1))"
      ],
      "metadata": {
        "id": "RupVYcGSWnrF"
      },
      "execution_count": 14,
      "outputs": []
    },
    {
      "cell_type": "code",
      "source": [
        "train_features.shape"
      ],
      "metadata": {
        "colab": {
          "base_uri": "https://localhost:8080/"
        },
        "id": "AG3JrScCcuvi",
        "outputId": "c248c77e-6825-4646-8cd5-bd4379ede744"
      },
      "execution_count": 15,
      "outputs": [
        {
          "output_type": "execute_result",
          "data": {
            "text/plain": [
              "(1013, 72, 1)"
            ]
          },
          "metadata": {},
          "execution_count": 15
        }
      ]
    },
    {
      "cell_type": "code",
      "source": [
        "val_features.shape"
      ],
      "metadata": {
        "colab": {
          "base_uri": "https://localhost:8080/"
        },
        "id": "bd6ZInbBc0sh",
        "outputId": "16a03f97-9eaf-4222-82af-4c2242f2c87e"
      },
      "execution_count": 16,
      "outputs": [
        {
          "output_type": "execute_result",
          "data": {
            "text/plain": [
              "(254, 72, 1)"
            ]
          },
          "metadata": {},
          "execution_count": 16
        }
      ]
    },
    {
      "cell_type": "code",
      "source": [
        "METRICS = [\n",
        "      keras.metrics.BinaryCrossentropy(name='cross entropy'),  # same as model's loss\n",
        "      keras.metrics.MeanSquaredError(name='Brier score'),\n",
        "      keras.metrics.TruePositives(name='tp'),\n",
        "      keras.metrics.FalsePositives(name='fp'),\n",
        "      keras.metrics.TrueNegatives(name='tn'),\n",
        "      keras.metrics.FalseNegatives(name='fn'),\n",
        "      keras.metrics.BinaryAccuracy(name='accuracy'),\n",
        "      keras.metrics.Precision(name='precision'),\n",
        "      keras.metrics.Recall(name='recall'),\n",
        "      keras.metrics.AUC(name='auc'),\n",
        "      keras.metrics.AUC(name='prc', curve='PR'), # precision-recall curve\n",
        "]\n",
        "\n",
        "def make_model(metrics=METRICS, output_bias=None):\n",
        "  if output_bias is not None:\n",
        "    output_bias = tf.keras.initializers.Constant(output_bias)\n",
        "\n",
        "  input_layer = keras.layers.Input(train_features.shape[1:])\n",
        "  conv1 = keras.layers.Conv1D(filters=128, kernel_size=8, padding='same')(input_layer)\n",
        "  conv1 = keras.layers.BatchNormalization()(conv1)\n",
        "  conv1 = keras.layers.Activation(activation='relu')(conv1)\n",
        "  conv2 = keras.layers.Conv1D(filters=256, kernel_size=5, padding='same')(conv1)\n",
        "  conv2 = keras.layers.BatchNormalization()(conv2)\n",
        "  conv2 = keras.layers.Activation('relu')(conv2)\n",
        "  conv3 = keras.layers.Conv1D(128, kernel_size=3,padding='same')(conv2)\n",
        "  conv3 = keras.layers.BatchNormalization()(conv3)\n",
        "  conv3 = keras.layers.Activation('relu')(conv3)\n",
        "  gap_layer = keras.layers.GlobalAveragePooling1D()(conv3)\n",
        "  output_layer = keras.layers.Dense(1, activation='sigmoid', bias_initializer=output_bias)(gap_layer)\n",
        "  model = keras.models.Model(inputs=input_layer, outputs=output_layer)\n",
        "\n",
        "  model.compile(\n",
        "      optimizer=keras.optimizers.Adam(learning_rate=1e-3),\n",
        "      loss=keras.losses.BinaryCrossentropy(),\n",
        "      metrics=metrics)\n",
        "\n",
        "  return model"
      ],
      "metadata": {
        "id": "zv3KcZZK0yRz"
      },
      "execution_count": 17,
      "outputs": []
    },
    {
      "cell_type": "markdown",
      "source": [
        "#### Baseline model（CNN）"
      ],
      "metadata": {
        "id": "XZIjkWSm2967"
      }
    },
    {
      "cell_type": "code",
      "source": [
        "# Build the model\n",
        "\n",
        "EPOCHS = 100\n",
        "BATCH_SIZE = 2048\n",
        "\n",
        "early_stopping = tf.keras.callbacks.EarlyStopping(\n",
        "    monitor='val_prc',\n",
        "    verbose=1,\n",
        "    patience=10,\n",
        "    mode='max',\n",
        "    restore_best_weights=True)"
      ],
      "metadata": {
        "id": "N9kSWP-6MoKS"
      },
      "execution_count": 18,
      "outputs": []
    },
    {
      "cell_type": "code",
      "source": [
        "model = make_model()\n",
        "model.summary()"
      ],
      "metadata": {
        "colab": {
          "base_uri": "https://localhost:8080/"
        },
        "id": "1kfNwFuD4l-0",
        "outputId": "4ebaa75a-919f-4666-fcb9-fc037662db82"
      },
      "execution_count": 19,
      "outputs": [
        {
          "output_type": "stream",
          "name": "stdout",
          "text": [
            "Model: \"model\"\n",
            "_________________________________________________________________\n",
            " Layer (type)                Output Shape              Param #   \n",
            "=================================================================\n",
            " input_1 (InputLayer)        [(None, 72, 1)]           0         \n",
            "                                                                 \n",
            " conv1d (Conv1D)             (None, 72, 128)           1152      \n",
            "                                                                 \n",
            " batch_normalization (Batch  (None, 72, 128)           512       \n",
            " Normalization)                                                  \n",
            "                                                                 \n",
            " activation (Activation)     (None, 72, 128)           0         \n",
            "                                                                 \n",
            " conv1d_1 (Conv1D)           (None, 72, 256)           164096    \n",
            "                                                                 \n",
            " batch_normalization_1 (Bat  (None, 72, 256)           1024      \n",
            " chNormalization)                                                \n",
            "                                                                 \n",
            " activation_1 (Activation)   (None, 72, 256)           0         \n",
            "                                                                 \n",
            " conv1d_2 (Conv1D)           (None, 72, 128)           98432     \n",
            "                                                                 \n",
            " batch_normalization_2 (Bat  (None, 72, 128)           512       \n",
            " chNormalization)                                                \n",
            "                                                                 \n",
            " activation_2 (Activation)   (None, 72, 128)           0         \n",
            "                                                                 \n",
            " global_average_pooling1d (  (None, 128)               0         \n",
            " GlobalAveragePooling1D)                                         \n",
            "                                                                 \n",
            " dense (Dense)               (None, 1)                 129       \n",
            "                                                                 \n",
            "=================================================================\n",
            "Total params: 265857 (1.01 MB)\n",
            "Trainable params: 264833 (1.01 MB)\n",
            "Non-trainable params: 1024 (4.00 KB)\n",
            "_________________________________________________________________\n"
          ]
        }
      ]
    },
    {
      "cell_type": "code",
      "source": [
        "model.predict(train_features[:10])"
      ],
      "metadata": {
        "colab": {
          "base_uri": "https://localhost:8080/"
        },
        "id": "Yihc5ceD9rVw",
        "outputId": "5eb0f791-957b-4d1b-ac2f-0914189bc70c"
      },
      "execution_count": 20,
      "outputs": [
        {
          "output_type": "stream",
          "name": "stdout",
          "text": [
            "1/1 [==============================] - 1s 559ms/step\n"
          ]
        },
        {
          "output_type": "execute_result",
          "data": {
            "text/plain": [
              "array([[0.80965644],\n",
              "       [0.8076971 ],\n",
              "       [0.8118091 ],\n",
              "       [0.81134874],\n",
              "       [0.80872947],\n",
              "       [0.8123928 ],\n",
              "       [0.8062371 ],\n",
              "       [0.8160685 ],\n",
              "       [0.8144576 ],\n",
              "       [0.81744945]], dtype=float32)"
            ]
          },
          "metadata": {},
          "execution_count": 20
        }
      ]
    },
    {
      "cell_type": "markdown",
      "source": [
        "#### Set the correct initial bias."
      ],
      "metadata": {
        "id": "i9saUMkB9yXK"
      }
    },
    {
      "cell_type": "code",
      "source": [
        "results = model.evaluate(train_features, train_labels, batch_size=BATCH_SIZE, verbose=0)\n",
        "print(\"Loss: {:0.4f}\".format(results[0]))"
      ],
      "metadata": {
        "colab": {
          "base_uri": "https://localhost:8080/"
        },
        "id": "bGUgE0-D8NXs",
        "outputId": "2acf95b2-13a8-47bb-d99e-bab03429f299"
      },
      "execution_count": 21,
      "outputs": [
        {
          "output_type": "stream",
          "name": "stdout",
          "text": [
            "Loss: 1.5335\n"
          ]
        }
      ]
    },
    {
      "cell_type": "code",
      "source": [
        "initial_bias = np.log([pos/neg])\n",
        "initial_bias"
      ],
      "metadata": {
        "colab": {
          "base_uri": "https://localhost:8080/"
        },
        "id": "J-6uqNQ8422v",
        "outputId": "dd2891a6-7634-4813-8ae7-9f9245650295"
      },
      "execution_count": 22,
      "outputs": [
        {
          "output_type": "execute_result",
          "data": {
            "text/plain": [
              "array([-2.34319085])"
            ]
          },
          "metadata": {},
          "execution_count": 22
        }
      ]
    },
    {
      "cell_type": "code",
      "source": [
        "model = make_model(output_bias=initial_bias)\n",
        "model.predict(train_features[:10])"
      ],
      "metadata": {
        "colab": {
          "base_uri": "https://localhost:8080/"
        },
        "id": "ZZjyXmF97COp",
        "outputId": "dac0e0a2-7eae-4d8a-c1f3-90b1df575132"
      },
      "execution_count": 23,
      "outputs": [
        {
          "output_type": "stream",
          "name": "stdout",
          "text": [
            "1/1 [==============================] - 1s 840ms/step\n"
          ]
        },
        {
          "output_type": "execute_result",
          "data": {
            "text/plain": [
              "array([[0.09383413],\n",
              "       [0.09228164],\n",
              "       [0.09541012],\n",
              "       [0.09784361],\n",
              "       [0.09448568],\n",
              "       [0.10000465],\n",
              "       [0.09185528],\n",
              "       [0.10250098],\n",
              "       [0.10272285],\n",
              "       [0.10224875]], dtype=float32)"
            ]
          },
          "metadata": {},
          "execution_count": 23
        }
      ]
    },
    {
      "cell_type": "code",
      "source": [
        "results = model.evaluate(train_features, train_labels, batch_size=BATCH_SIZE, verbose=0)\n",
        "print(\"Loss: {:0.4f}\".format(results[0]))"
      ],
      "metadata": {
        "colab": {
          "base_uri": "https://localhost:8080/"
        },
        "id": "1M3e_XSO9k6s",
        "outputId": "2b7509a3-9121-4cd3-9c14-7678d3667dd9"
      },
      "execution_count": 24,
      "outputs": [
        {
          "output_type": "stream",
          "name": "stdout",
          "text": [
            "Loss: 0.3166\n"
          ]
        }
      ]
    },
    {
      "cell_type": "markdown",
      "source": [
        "#### Checkpoint the initial weights"
      ],
      "metadata": {
        "id": "PxDzx2-t-MQt"
      }
    },
    {
      "cell_type": "code",
      "source": [
        "initial_weights = os.path.join(tempfile.mkdtemp(), 'initial_weights')\n",
        "model.save_weights(initial_weights)"
      ],
      "metadata": {
        "id": "GwtiXlV_8Ah5"
      },
      "execution_count": 25,
      "outputs": []
    },
    {
      "cell_type": "markdown",
      "source": [
        "#### Confirm that the bias fix helps"
      ],
      "metadata": {
        "id": "3QUNxdTB_nbB"
      }
    },
    {
      "cell_type": "code",
      "source": [
        "model = make_model()\n",
        "model.load_weights(initial_weights)\n",
        "model.layers[-1].bias.assign([0.0])\n",
        "zero_bias_history = model.fit(\n",
        "    train_features,\n",
        "    train_labels,\n",
        "    batch_size=BATCH_SIZE,\n",
        "    epochs=20,\n",
        "    validation_data=(val_features, val_labels),\n",
        "    verbose=0)"
      ],
      "metadata": {
        "id": "R1T00ocD_pCZ"
      },
      "execution_count": null,
      "outputs": []
    },
    {
      "cell_type": "code",
      "source": [
        "model = make_model()\n",
        "model.load_weights(initial_weights)\n",
        "careful_bias_history = model.fit(\n",
        "    train_features,\n",
        "    train_labels,\n",
        "    batch_size=BATCH_SIZE,\n",
        "    epochs=20,\n",
        "    validation_data=(val_features, val_labels),\n",
        "    verbose=0)"
      ],
      "metadata": {
        "id": "zP70ibNgDHEC"
      },
      "execution_count": null,
      "outputs": []
    },
    {
      "cell_type": "code",
      "source": [
        "def plot_loss(history, label, n):\n",
        "  # Use a log scale on y-axis to show the wide range of values.\n",
        "  plt.semilogy(history.epoch, history.history['loss'],\n",
        "               color=colors[n], label='Train ' + label)\n",
        "  plt.semilogy(history.epoch, history.history['val_loss'],\n",
        "               color=colors[n], label='Val ' + label,\n",
        "               linestyle=\"--\")\n",
        "  plt.xlabel('Epoch')\n",
        "  plt.ylabel('Loss')\n",
        "  plt.legend()"
      ],
      "metadata": {
        "id": "kR4VIZgvDNGy"
      },
      "execution_count": null,
      "outputs": []
    },
    {
      "cell_type": "code",
      "source": [
        "plot_loss(zero_bias_history, \"Zero Bias\", 0)\n",
        "plot_loss(careful_bias_history, \"Careful Bias\", 1)"
      ],
      "metadata": {
        "id": "C1N3oaIkDQ1l"
      },
      "execution_count": null,
      "outputs": []
    },
    {
      "cell_type": "markdown",
      "source": [
        "#### Train the model"
      ],
      "metadata": {
        "id": "VJPEXAm3FmrR"
      }
    },
    {
      "cell_type": "code",
      "source": [
        "model = make_model()\n",
        "model.load_weights(initial_weights)\n",
        "baseline_history = model.fit(\n",
        "    train_features,\n",
        "    train_labels,\n",
        "    batch_size=BATCH_SIZE,\n",
        "    epochs=EPOCHS,\n",
        "    callbacks=[early_stopping],\n",
        "    validation_data=(val_features, val_labels))"
      ],
      "metadata": {
        "id": "65VCLsx-FlRd"
      },
      "execution_count": null,
      "outputs": []
    },
    {
      "cell_type": "markdown",
      "source": [
        "#### Check training history"
      ],
      "metadata": {
        "id": "Km46_107F-J2"
      }
    },
    {
      "cell_type": "code",
      "source": [
        "def plot_metrics(history):\n",
        "  metrics = ['loss', 'prc', 'precision', 'recall']\n",
        "  for n, metric in enumerate(metrics):\n",
        "    name = metric.replace(\"_\",\" \").capitalize()\n",
        "    plt.subplot(2,2,n+1)\n",
        "    plt.plot(history.epoch, history.history[metric], color=colors[0], label='Train')\n",
        "    plt.plot(history.epoch, history.history['val_'+metric],\n",
        "             color=colors[0], linestyle=\"--\", label='Val')\n",
        "    plt.xlabel('Epoch')\n",
        "    plt.ylabel(name)\n",
        "    if metric == 'loss':\n",
        "      plt.ylim([0, plt.ylim()[1]])\n",
        "    elif metric == 'auc':\n",
        "      plt.ylim([0.8,1])\n",
        "    else:\n",
        "      plt.ylim([0,1])\n",
        "\n",
        "    plt.legend()"
      ],
      "metadata": {
        "id": "5T-t6YuqGB6C"
      },
      "execution_count": null,
      "outputs": []
    },
    {
      "cell_type": "code",
      "source": [
        "plot_metrics(baseline_history)"
      ],
      "metadata": {
        "id": "JaqzYFRZGFK3"
      },
      "execution_count": null,
      "outputs": []
    },
    {
      "cell_type": "markdown",
      "source": [
        "#### Evaluate metrics"
      ],
      "metadata": {
        "id": "aJK0vJ6kGTCh"
      }
    },
    {
      "cell_type": "code",
      "source": [
        "train_predictions_baseline = model.predict(train_features, batch_size=BATCH_SIZE)\n",
        "val_predictions_baseline = model.predict(val_features, batch_size=BATCH_SIZE)"
      ],
      "metadata": {
        "id": "3uAnFtFVGPR2"
      },
      "execution_count": null,
      "outputs": []
    },
    {
      "cell_type": "code",
      "source": [
        "def plot_cm(labels, predictions, threshold=0.5):\n",
        "  cm = confusion_matrix(labels, predictions > threshold)\n",
        "  plt.figure(figsize=(5,5))\n",
        "  sns.heatmap(cm, annot=True, fmt=\"d\")\n",
        "  plt.title('Confusion matrix @{:.2f}'.format(threshold))\n",
        "  plt.ylabel('Actual label')\n",
        "  plt.xlabel('Predicted label')\n",
        "\n",
        "  print('Legitimate Transactions Detected (True Negatives): ', cm[0][0])\n",
        "  print('Legitimate Transactions Incorrectly Detected (False Positives): ', cm[0][1])\n",
        "  print('Fraudulent Transactions Missed (False Negatives): ', cm[1][0])\n",
        "  print('Fraudulent Transactions Detected (True Positives): ', cm[1][1])\n",
        "  print('Total Fraudulent Transactions: ', np.sum(cm[1]))"
      ],
      "metadata": {
        "id": "CsgtDzLMGcXb"
      },
      "execution_count": null,
      "outputs": []
    },
    {
      "cell_type": "code",
      "source": [
        "baseline_results = model.evaluate(val_features, val_labels,\n",
        "                                  batch_size=BATCH_SIZE, verbose=0)\n",
        "for name, value in zip(model.metrics_names, baseline_results):\n",
        "  print(name, ': ', value)\n",
        "print()\n",
        "\n",
        "plot_cm(val_labels, val_predictions_baseline)"
      ],
      "metadata": {
        "id": "VExoXzM0GhB2"
      },
      "execution_count": null,
      "outputs": []
    },
    {
      "cell_type": "markdown",
      "source": [
        "#### Changing the threshold"
      ],
      "metadata": {
        "id": "0kEWVf8SGx_R"
      }
    },
    {
      "cell_type": "code",
      "source": [
        "plot_cm(val_labels, val_predictions_baseline, threshold=0.1)\n",
        "plot_cm(val_labels, val_predictions_baseline, threshold=0.01)"
      ],
      "metadata": {
        "id": "f6dlcFipG15x"
      },
      "execution_count": null,
      "outputs": []
    },
    {
      "cell_type": "markdown",
      "source": [
        "#### Plot the ROC"
      ],
      "metadata": {
        "id": "-c6J6SBVHD3x"
      }
    },
    {
      "cell_type": "code",
      "source": [
        "def plot_roc(name, labels, predictions, **kwargs):\n",
        "  fp, tp, _ = sklearn.metrics.roc_curve(labels, predictions)\n",
        "\n",
        "  plt.plot(100*fp, 100*tp, label=name, linewidth=2, **kwargs)\n",
        "  plt.xlabel('False positives [%]')\n",
        "  plt.ylabel('True positives [%]')\n",
        "  plt.xlim([-0.5,20])\n",
        "  plt.ylim([80,100.5])\n",
        "  plt.grid(True)\n",
        "  ax = plt.gca()\n",
        "  ax.set_aspect('equal')"
      ],
      "metadata": {
        "id": "EJqkbIlPHFrM"
      },
      "execution_count": null,
      "outputs": []
    },
    {
      "cell_type": "code",
      "source": [
        "plot_roc(\"Train Baseline\", train_labels, train_predictions_baseline, color=colors[0])\n",
        "plot_roc(\"Test Baseline\", val_labels, val_predictions_baseline, color=colors[0], linestyle='--')\n",
        "plt.legend(loc='lower right');"
      ],
      "metadata": {
        "id": "dJE9bEzOHJSO"
      },
      "execution_count": null,
      "outputs": []
    },
    {
      "cell_type": "markdown",
      "source": [
        "#### Plot the PRC"
      ],
      "metadata": {
        "id": "NKqFSw1SHUFz"
      }
    },
    {
      "cell_type": "code",
      "source": [
        "def plot_prc(name, labels, predictions, **kwargs):\n",
        "    precision, recall, _ = sklearn.metrics.precision_recall_curve(labels, predictions)\n",
        "\n",
        "    plt.plot(precision, recall, label=name, linewidth=2, **kwargs)\n",
        "    plt.xlabel('Precision')\n",
        "    plt.ylabel('Recall')\n",
        "    plt.grid(True)\n",
        "    ax = plt.gca()\n",
        "    ax.set_aspect('equal')"
      ],
      "metadata": {
        "id": "02r8vr1THXVf"
      },
      "execution_count": null,
      "outputs": []
    },
    {
      "cell_type": "code",
      "source": [
        "plot_prc(\"Train Baseline\", train_labels, train_predictions_baseline, color=colors[0])\n",
        "plot_prc(\"Test Baseline\", val_labels, val_predictions_baseline, color=colors[0], linestyle='--')\n",
        "plt.legend(loc='lower right');"
      ],
      "metadata": {
        "id": "GAzx3zbPHakH"
      },
      "execution_count": null,
      "outputs": []
    },
    {
      "cell_type": "markdown",
      "source": [
        "#### Class weights"
      ],
      "metadata": {
        "id": "ok-2CgvK5sfc"
      }
    },
    {
      "cell_type": "markdown",
      "source": [
        "##### Calculate class weights"
      ],
      "metadata": {
        "id": "WC3QBuVJHu3T"
      }
    },
    {
      "cell_type": "code",
      "source": [
        "# Scaling by total/2 helps keep the loss to a similar magnitude.\n",
        "# The sum of the weights of all examples stays the same.\n",
        "weight_for_0 = (1 / neg) * (total / 2.0)\n",
        "weight_for_1 = (1 / pos) * (total / 2.0)\n",
        "\n",
        "class_weight = {0: weight_for_0, 1: weight_for_1}\n",
        "\n",
        "print('Weight for class 0: {:.2f}'.format(weight_for_0))\n",
        "print('Weight for class 1: {:.2f}'.format(weight_for_1))"
      ],
      "metadata": {
        "id": "QI26PsT65PNb"
      },
      "execution_count": null,
      "outputs": []
    },
    {
      "cell_type": "markdown",
      "source": [
        "##### Train a model with class weights"
      ],
      "metadata": {
        "id": "AvBETQeiHrX5"
      }
    },
    {
      "cell_type": "code",
      "source": [
        "weighted_model = make_model()\n",
        "weighted_model.load_weights(initial_weights)\n",
        "\n",
        "weighted_history = weighted_model.fit(\n",
        "    train_features,\n",
        "    train_labels,\n",
        "    batch_size=BATCH_SIZE,\n",
        "    epochs=EPOCHS,\n",
        "    callbacks=[early_stopping],\n",
        "    validation_data=(val_features, val_labels),\n",
        "    # The class weights go here\n",
        "    class_weight=class_weight)"
      ],
      "metadata": {
        "id": "XhnvdQ0aH1tk"
      },
      "execution_count": null,
      "outputs": []
    },
    {
      "cell_type": "markdown",
      "source": [
        "##### Check training history"
      ],
      "metadata": {
        "id": "YJ5hYFRFIA-M"
      }
    },
    {
      "cell_type": "code",
      "source": [
        "plot_metrics(weighted_history)"
      ],
      "metadata": {
        "id": "0SJzzMJ2H7W9"
      },
      "execution_count": null,
      "outputs": []
    },
    {
      "cell_type": "markdown",
      "source": [
        "##### Evaluate metrics"
      ],
      "metadata": {
        "id": "YLZW9nesIQE1"
      }
    },
    {
      "cell_type": "code",
      "source": [
        "train_predictions_weighted = weighted_model.predict(train_features, batch_size=BATCH_SIZE)\n",
        "val_predictions_weighted = weighted_model.predict(val_features, batch_size=BATCH_SIZE)"
      ],
      "metadata": {
        "id": "ZSJVt2_jIJDP"
      },
      "execution_count": null,
      "outputs": []
    },
    {
      "cell_type": "code",
      "source": [
        "weighted_results = weighted_model.evaluate(val_features, val_labels,\n",
        "                                           batch_size=BATCH_SIZE, verbose=0)\n",
        "for name, value in zip(weighted_model.metrics_names, weighted_results):\n",
        "  print(name, ': ', value)\n",
        "print()\n",
        "\n",
        "plot_cm(val_labels, val_predictions_weighted)"
      ],
      "metadata": {
        "id": "WNiBC1_qIUNX"
      },
      "execution_count": null,
      "outputs": []
    },
    {
      "cell_type": "markdown",
      "source": [
        "##### Plot the ROC"
      ],
      "metadata": {
        "id": "659pkoTZIhCu"
      }
    },
    {
      "cell_type": "code",
      "source": [
        "plot_roc(\"Train Baseline\", train_labels, train_predictions_baseline, color=colors[0])\n",
        "plot_roc(\"val Baseline\", val_labels, val_predictions_baseline, color=colors[0], linestyle='--')\n",
        "\n",
        "plot_roc(\"Train Weighted\", train_labels, train_predictions_weighted, color=colors[1])\n",
        "plot_roc(\"val Weighted\", val_labels, val_predictions_weighted, color=colors[1], linestyle='--')\n",
        "\n",
        "\n",
        "plt.legend(loc='lower right');"
      ],
      "metadata": {
        "id": "LJUst2lEIiqJ"
      },
      "execution_count": null,
      "outputs": []
    },
    {
      "cell_type": "markdown",
      "source": [
        "##### Plot the PRC"
      ],
      "metadata": {
        "id": "FXLopr6kIuyI"
      }
    },
    {
      "cell_type": "code",
      "source": [
        "plot_prc(\"Train Baseline\", train_labels, train_predictions_baseline, color=colors[0])\n",
        "plot_prc(\"val Baseline\", val_labels, val_predictions_baseline, color=colors[0], linestyle='--')\n",
        "\n",
        "plot_prc(\"Train Weighted\", train_labels, train_predictions_weighted, color=colors[1])\n",
        "plot_prc(\"val Weighted\", val_labels, val_predictions_weighted, color=colors[1], linestyle='--')\n",
        "\n",
        "\n",
        "plt.legend(loc='lower right');\n"
      ],
      "metadata": {
        "id": "ETDOut31Iwcj"
      },
      "execution_count": null,
      "outputs": []
    },
    {
      "cell_type": "markdown",
      "source": [
        "#### Oversampling"
      ],
      "metadata": {
        "id": "yanayKokI9Gh"
      }
    },
    {
      "cell_type": "markdown",
      "source": [
        "##### Oversample the minority class"
      ],
      "metadata": {
        "id": "uVHwwvy05gFj"
      }
    },
    {
      "cell_type": "code",
      "source": [
        "pos_features = train_features[bool_train_labels]\n",
        "neg_features = train_features[~bool_train_labels]\n",
        "\n",
        "pos_labels = train_labels[bool_train_labels]\n",
        "neg_labels = train_labels[~bool_train_labels]"
      ],
      "metadata": {
        "id": "1DbH9tTB5YZg"
      },
      "execution_count": null,
      "outputs": []
    },
    {
      "cell_type": "markdown",
      "source": [
        "##### Using NumPy"
      ],
      "metadata": {
        "id": "4J0ddGsCJF9K"
      }
    },
    {
      "cell_type": "code",
      "source": [
        "ids = np.arange(len(pos_features))\n",
        "choices = np.random.choice(ids, len(neg_features))\n",
        "\n",
        "res_pos_features = pos_features[choices]\n",
        "res_pos_labels = pos_labels[choices]\n",
        "\n",
        "res_pos_features.shape"
      ],
      "metadata": {
        "id": "Aaumf0sG5fUT"
      },
      "execution_count": null,
      "outputs": []
    },
    {
      "cell_type": "code",
      "source": [
        "resampled_features = np.concatenate([res_pos_features, neg_features], axis=0)\n",
        "resampled_labels = np.concatenate([res_pos_labels, neg_labels], axis=0)\n",
        "\n",
        "order = np.arange(len(resampled_labels))\n",
        "np.random.shuffle(order)\n",
        "resampled_features = resampled_features[order]\n",
        "resampled_labels = resampled_labels[order]\n",
        "\n",
        "resampled_features.shape"
      ],
      "metadata": {
        "id": "HqErcr8V6CmY"
      },
      "execution_count": null,
      "outputs": []
    },
    {
      "cell_type": "markdown",
      "source": [
        "##### Using tf.data"
      ],
      "metadata": {
        "id": "QUZm6RQDJQMI"
      }
    },
    {
      "cell_type": "code",
      "source": [
        "BUFFER_SIZE = 100000\n",
        "\n",
        "def make_ds(features, labels):\n",
        "  ds = tf.data.Dataset.from_tensor_slices((features, labels))#.cache()\n",
        "  ds = ds.shuffle(BUFFER_SIZE).repeat()\n",
        "  return ds\n",
        "\n",
        "pos_ds = make_ds(pos_features, pos_labels)\n",
        "neg_ds = make_ds(neg_features, neg_labels)"
      ],
      "metadata": {
        "id": "6dvP6fDd6HU1"
      },
      "execution_count": null,
      "outputs": []
    },
    {
      "cell_type": "code",
      "source": [
        "for features, label in pos_ds.take(1):\n",
        "  print(\"Features:\\n\", features.numpy())\n",
        "  print()\n",
        "  print(\"Label: \", label.numpy())"
      ],
      "metadata": {
        "id": "pt8IIaJa6LaC"
      },
      "execution_count": null,
      "outputs": []
    },
    {
      "cell_type": "code",
      "source": [
        "resampled_ds = tf.data.Dataset.sample_from_datasets([pos_ds, neg_ds], weights=[0.5, 0.5])\n",
        "resampled_ds = resampled_ds.batch(BATCH_SIZE).prefetch(2)"
      ],
      "metadata": {
        "id": "wiTmQMIa6SE6"
      },
      "execution_count": null,
      "outputs": []
    },
    {
      "cell_type": "code",
      "source": [
        "for features, label in resampled_ds.take(1):\n",
        "  print(label.numpy().mean())"
      ],
      "metadata": {
        "id": "gvHKGL8A6V31"
      },
      "execution_count": null,
      "outputs": []
    },
    {
      "cell_type": "code",
      "source": [
        "resampled_steps_per_epoch = np.ceil(2.0*neg/BATCH_SIZE)\n",
        "resampled_steps_per_epoch"
      ],
      "metadata": {
        "id": "XZ_1yeJh6aeL"
      },
      "execution_count": null,
      "outputs": []
    },
    {
      "cell_type": "markdown",
      "source": [
        "##### Train on the oversampled data"
      ],
      "metadata": {
        "id": "xvSuCLBkJg15"
      }
    },
    {
      "cell_type": "code",
      "source": [
        "resampled_model = make_model()\n",
        "resampled_model.load_weights(initial_weights)\n",
        "\n",
        "# Reset the bias to zero, since this dataset is balanced.\n",
        "output_layer = resampled_model.layers[-1]\n",
        "output_layer.bias.assign([0])\n",
        "\n",
        "val_ds = tf.data.Dataset.from_tensor_slices((val_features, val_labels)).cache()\n",
        "val_ds = val_ds.batch(BATCH_SIZE).prefetch(2)\n",
        "\n",
        "resampled_history = resampled_model.fit(\n",
        "    resampled_ds,\n",
        "    epochs=EPOCHS,\n",
        "    steps_per_epoch=resampled_steps_per_epoch,\n",
        "    callbacks=[early_stopping],\n",
        "    validation_data=val_ds)"
      ],
      "metadata": {
        "id": "n0xw7TF86gGg"
      },
      "execution_count": null,
      "outputs": []
    },
    {
      "cell_type": "markdown",
      "source": [
        "##### Check training history"
      ],
      "metadata": {
        "id": "-uG6TA8mJzI9"
      }
    },
    {
      "cell_type": "code",
      "source": [
        "plot_metrics(resampled_history)"
      ],
      "metadata": {
        "id": "_esEvZCIJ1S8"
      },
      "execution_count": null,
      "outputs": []
    },
    {
      "cell_type": "markdown",
      "source": [
        "##### Re-train"
      ],
      "metadata": {
        "id": "1QIrmTxoKAYf"
      }
    },
    {
      "cell_type": "code",
      "source": [
        "resampled_model = make_model()\n",
        "resampled_model.load_weights(initial_weights)\n",
        "\n",
        "# Reset the bias to zero, since this dataset is balanced.\n",
        "output_layer = resampled_model.layers[-1]\n",
        "output_layer.bias.assign([0])\n",
        "\n",
        "resampled_history = resampled_model.fit(\n",
        "    resampled_ds,\n",
        "    # These are not real epochs\n",
        "    steps_per_epoch=20,\n",
        "    epochs=10*EPOCHS,\n",
        "    callbacks=[early_stopping],\n",
        "    validation_data=(val_ds))"
      ],
      "metadata": {
        "id": "mTByDgDqKBuu"
      },
      "execution_count": null,
      "outputs": []
    },
    {
      "cell_type": "markdown",
      "source": [
        "##### Re-check training history"
      ],
      "metadata": {
        "id": "oD76ftb0KXiQ"
      }
    },
    {
      "cell_type": "code",
      "source": [
        "plot_metrics(resampled_history)"
      ],
      "metadata": {
        "id": "hZptgTLOKZdk"
      },
      "execution_count": null,
      "outputs": []
    },
    {
      "cell_type": "markdown",
      "source": [
        "##### Evaluate metrics"
      ],
      "metadata": {
        "id": "dnbOQGFvKgOD"
      }
    },
    {
      "cell_type": "code",
      "source": [
        "train_predictions_resampled = resampled_model.predict(train_features, batch_size=BATCH_SIZE)\n",
        "val_predictions_resampled = resampled_model.predict(val_features, batch_size=BATCH_SIZE)"
      ],
      "metadata": {
        "id": "ahNIqJDnKhoS"
      },
      "execution_count": null,
      "outputs": []
    },
    {
      "cell_type": "code",
      "source": [
        "resampled_results = resampled_model.evaluate(val_features, val_labels,\n",
        "                                             batch_size=BATCH_SIZE, verbose=0)\n",
        "for name, value in zip(resampled_model.metrics_names, resampled_results):\n",
        "  print(name, ': ', value)\n",
        "print()\n",
        "plot_cm(val_labels, val_predictions_resampled)"
      ],
      "metadata": {
        "id": "GaEI0MUPKqgt"
      },
      "execution_count": null,
      "outputs": []
    },
    {
      "cell_type": "markdown",
      "source": [
        "##### Plot the ROC"
      ],
      "metadata": {
        "id": "eEQ7DsVxK4BW"
      }
    },
    {
      "cell_type": "code",
      "source": [
        "plot_roc(\"Train Baseline\", train_labels, train_predictions_baseline, color=colors[0])\n",
        "plot_roc(\"val Baseline\", val_labels, val_predictions_baseline, color=colors[0], linestyle='--')\n",
        "plot_roc(\"Train Weighted\", train_labels, train_predictions_weighted, color=colors[1])\n",
        "plot_roc(\"val Weighted\", val_labels, val_predictions_weighted, color=colors[1], linestyle='--')\n",
        "plot_roc(\"Train Resampled\", train_labels, train_predictions_resampled, color=colors[2])\n",
        "plot_roc(\"val Resampled\", val_labels, val_predictions_resampled, color=colors[2], linestyle='--')\n",
        "plt.legend(loc='lower right');"
      ],
      "metadata": {
        "id": "8iOfJhq6K5jh"
      },
      "execution_count": null,
      "outputs": []
    },
    {
      "cell_type": "markdown",
      "source": [
        "##### Plot the AUPRC"
      ],
      "metadata": {
        "id": "1DimU0CHLInk"
      }
    },
    {
      "cell_type": "code",
      "source": [
        "plot_prc(\"Train Baseline\", train_labels, train_predictions_baseline, color=colors[0])\n",
        "plot_prc(\"val Baseline\", val_labels, val_predictions_baseline, color=colors[0], linestyle='--')\n",
        "\n",
        "plot_prc(\"Train Weighted\", train_labels, train_predictions_weighted, color=colors[1])\n",
        "plot_prc(\"val Weighted\", val_labels, val_predictions_weighted, color=colors[1], linestyle='--')\n",
        "\n",
        "plot_prc(\"Train Resampled\", train_labels, train_predictions_resampled, color=colors[2])\n",
        "plot_prc(\"val Resampled\", val_labels, val_predictions_resampled, color=colors[2], linestyle='--')\n",
        "plt.legend(loc='lower right');"
      ],
      "metadata": {
        "id": "D54TO3ZSLKLS"
      },
      "execution_count": null,
      "outputs": []
    },
    {
      "cell_type": "code",
      "source": [
        "submit_df = pd.read_csv(INPUT_DIR+\"/test.tsv\", index_col=0, sep='\\t')\n",
        "submit_df = submit_df.drop(['Date'], axis=1)"
      ],
      "metadata": {
        "id": "JIEQbnf4LfrZ"
      },
      "execution_count": null,
      "outputs": []
    },
    {
      "cell_type": "code",
      "source": [
        "# showing column wise %ge of NaN values they contains\n",
        "null_col = []\n",
        "\n",
        "for i in submit_df.columns:\n",
        "  print(i,\"\\t-\\t\", submit_df[i].isna().mean()*100)\n",
        "  if submit_df[i].isna().mean()*100 > 0:\n",
        "    null_col.append(i)\n",
        "\n",
        "for i in submit_df.columns[1:-1]:\n",
        "  submit_df[i] = submit_df[i].astype(str).astype(float)"
      ],
      "metadata": {
        "id": "NGCtpolJLos9"
      },
      "execution_count": null,
      "outputs": []
    },
    {
      "cell_type": "code",
      "source": [
        "for i in null_col:\n",
        "  submit_df[i] = submit_df[i].fillna(submit_df[i].mean())\n",
        "\n",
        "# lets check for null values again\n",
        "for i in submit_df.columns:\n",
        "  print(i,\"\\t-\\t\", submit_df[i].isna().mean()*100)"
      ],
      "metadata": {
        "id": "sItOZUKYLsOT"
      },
      "execution_count": null,
      "outputs": []
    },
    {
      "cell_type": "code",
      "source": [
        "# Scale the data to be between -1 and 1\n",
        "\n",
        "from sklearn.preprocessing import StandardScaler\n",
        "\n",
        "scaler = StandardScaler()\n",
        "pred_X = pd.DataFrame(scaler.fit_transform(submit_df), columns=submit_df.columns)\n",
        "pred_X.head()"
      ],
      "metadata": {
        "id": "-bGfTPpyLv7m"
      },
      "execution_count": null,
      "outputs": []
    },
    {
      "cell_type": "code",
      "source": [
        "pred = resampled_model.predict(pred_X)\n",
        "pred = np.where(pred < 0.5, 0, 1)"
      ],
      "metadata": {
        "id": "cWfboiKNLzFf"
      },
      "execution_count": null,
      "outputs": []
    },
    {
      "cell_type": "code",
      "source": [
        "pred"
      ],
      "metadata": {
        "id": "vL3grol1L70W"
      },
      "execution_count": null,
      "outputs": []
    },
    {
      "cell_type": "code",
      "source": [
        "ans = pd.read_csv(INPUT_DIR+\"/sample_submit.csv\",  header=None)\n",
        "ans[1] = pred\n",
        "ans.to_csv(path_or_buf = SUBMISSION_DIR+\"/submit.csv\", index=False, header=None)"
      ],
      "metadata": {
        "id": "BIyHRJzRMRBn"
      },
      "execution_count": null,
      "outputs": []
    }
  ]
}